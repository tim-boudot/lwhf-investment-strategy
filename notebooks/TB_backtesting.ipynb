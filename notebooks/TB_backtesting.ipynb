{
 "cells": [
  {
   "cell_type": "code",
   "execution_count": 41,
   "metadata": {},
   "outputs": [],
   "source": [
    "import pandas as pd\n",
    "import numpy as np\n",
    "import datetime as DT\n",
    "import pandas as pd\n",
    "from pypfopt import EfficientFrontier\n",
    "from google.cloud import bigquery\n",
    "# from pypfopt import risk_models\n",
    "# from pypfopt import expected_returns"
   ]
  },
  {
   "cell_type": "code",
   "execution_count": 2,
   "metadata": {},
   "outputs": [],
   "source": [
    "import os\n",
    "\n",
    "gcp_project = os.environ['GCP_PROJECT']"
   ]
  },
  {
   "cell_type": "code",
   "execution_count": 4,
   "metadata": {},
   "outputs": [],
   "source": [
    "# Simplified query for this backtesting exercise\n",
    "\n",
    "PROJECT = \"le-wagon-hedge-fund\"\n",
    "DATASET = \"data_alpaca_20240604\"\n",
    "TABLE = \"SP500_Historical_Weekly\"\n",
    "\n",
    "query = f\"\"\"\n",
    "    SELECT *\n",
    "    FROM {PROJECT}.{DATASET}.{TABLE}\n",
    "    WHERE symbol IN ('AAL','AAP','AAPL','ABBV','ABC','ABT','ACN','ADBE','ADI','ADM')\n",
    "    \"\"\"\n",
    "\n",
    "client = bigquery.Client(project=gcp_project)\n",
    "query_job = client.query(query)\n",
    "result = query_job.result()\n",
    "df = result.to_dataframe()"
   ]
  },
  {
   "cell_type": "code",
   "execution_count": 9,
   "metadata": {},
   "outputs": [],
   "source": [
    "def get_all_data():\n",
    "    # start_date=datetime.strptime(start_date,'%Y-%m-%d')\n",
    "    # end_date=datetime.strptime(end_date,'%Y-%m-%d')\n",
    "    PROJECT = \"le-wagon-hedge-fund\"\n",
    "    DATASET = \"data_alpaca_20240604\"\n",
    "    TABLE = \"SP500_Historical_Weekly\"\n",
    "    query = f\"\"\"\n",
    "\n",
    "    SELECT *\n",
    "    FROM {PROJECT}.{DATASET}.{TABLE}\n",
    "    WHERE (symbol IN ('AAL','AAP','AAPL','ABBV','ABC','ABT','ACN','ADBE','ADI','ADM'))\n",
    "    \"\"\"\n",
    "    client = bigquery.Client(project=gcp_project)\n",
    "    query_job = client.query(query)\n",
    "    result = query_job.result()\n",
    "    df = result.to_dataframe()\n",
    "    return df"
   ]
  },
  {
   "cell_type": "code",
   "execution_count": 10,
   "metadata": {},
   "outputs": [],
   "source": [
    "def get_data(start_date, end_date):\n",
    "    # start_date=datetime.strptime(start_date,'%Y-%m-%d')\n",
    "    # end_date=datetime.strptime(end_date,'%Y-%m-%d')\n",
    "    PROJECT = \"le-wagon-hedge-fund\"\n",
    "    DATASET = \"data_alpaca_20240604\"\n",
    "    TABLE = \"SP500_Historical_Weekly\"\n",
    "    query = f\"\"\"\n",
    "\n",
    "    SELECT *\n",
    "    FROM {PROJECT}.{DATASET}.{TABLE}\n",
    "    WHERE (symbol IN ('AAL','AAP','AAPL','ABBV','ABC','ABT','ACN','ADBE','ADI','ADM'))\n",
    "    AND (DATE(timestamp) BETWEEN '{start_date}' AND '{end_date}')\n",
    "    \"\"\"\n",
    "    client = bigquery.Client(project=gcp_project)\n",
    "    query_job = client.query(query)\n",
    "    result = query_job.result()\n",
    "    df = result.to_dataframe()\n",
    "    return df"
   ]
  },
  {
   "cell_type": "code",
   "execution_count": 5,
   "metadata": {},
   "outputs": [],
   "source": [
    "def model_try(df):\n",
    "    time_df = df.pivot(index='timestamp',columns='symbol',values='close')\n",
    "    returns_df = time_df.pct_change().dropna()\n",
    "    expected_returns=pd.DataFrame(returns_df.mean(), columns=['expected_return'])\n",
    "    cov_df=returns_df.cov()\n",
    "    return expected_returns, cov_df"
   ]
  },
  {
   "cell_type": "code",
   "execution_count": 6,
   "metadata": {},
   "outputs": [],
   "source": [
    "def making_portfolio(tickers,expected_returns, cov_df):\n",
    "    ef = EfficientFrontier(expected_returns,cov_df)\n",
    "    ef.tickers = tickers\n",
    "    raw_weights = ef.max_sharpe(risk_free_rate=0.0001)\n",
    "    cleaned_weights = ef.clean_weights()\n",
    "    return pd.DataFrame(list(cleaned_weights.items()), columns=['ticker','weight']).set_index('ticker')"
   ]
  },
  {
   "cell_type": "code",
   "execution_count": 81,
   "metadata": {},
   "outputs": [],
   "source": [
    "def portfolio_returns(weights: pd.DataFrame, start_date: str, end_date: str):\n",
    "    # Finding the returns for all stocks between start and end date\n",
    "    df=get_data(start_date,end_date)\n",
    "    time_df = df.pivot(index='timestamp',columns='symbol',values='close')\n",
    "\n",
    "    #Resetting index for the time_df\n",
    "    time_df['clean_date']=time_df.index\n",
    "    time_df['clean_date']=time_df['clean_date'].apply(lambda x: DT.datetime.strptime(x, '%Y-%m-%d %H:%M:%S+00:00'))\\\n",
    "        .apply(lambda x: f'{x.year}-{x.month:02d}-{x.day:02d}')\n",
    "    time_df = time_df.set_index('clean_date')\n",
    "\n",
    "    ret = time_df.loc[f'{end_date}']/time_df.loc[f'{start_date}']-1\n",
    "\n",
    "    # Calculating portfolio return\n",
    "    port_return = (weights.weight * ret).sum()\n",
    "\n",
    "    return port_return\n"
   ]
  },
  {
   "cell_type": "code",
   "execution_count": 82,
   "metadata": {},
   "outputs": [],
   "source": [
    "#TODO: Make this code more efficient by not querying every time but rather saving data locally while running\n",
    "\n",
    "def backtesting(as_of_date, n_periods, period_type='W'):\n",
    "    as_of = DT.datetime.strptime(as_of_date, '%Y-%m-%d').date()\n",
    "    starting_point = as_of - DT.timedelta(days=7 * n_periods)\n",
    "    port_return = 1\n",
    "    weekly_returns = []\n",
    "\n",
    "    # Training the model with data until the starting point\n",
    "    #TODO: when we have a model, we'll train it until that date. For now we're just using a simple average.\n",
    "\n",
    "    # Calculating portfolio returns\n",
    "    while starting_point < as_of:\n",
    "        one_week_ahead = starting_point + DT.timedelta(days=7)\n",
    "        week_start_str = f'{starting_point.year}-{starting_point.month:02d}-{starting_point.day:02d}'\n",
    "        week_end_str = f'{one_week_ahead.year}-{one_week_ahead.month:02d}-{one_week_ahead.day:02d}'\n",
    "        df = get_data('2016-01-04',week_start_str)\n",
    "        expected_returns, cov_df = model_try(df)\n",
    "        cleaned_weights = making_portfolio(list(expected_returns.index),expected_returns.expected_return, cov_df)\n",
    "        weekly_return = portfolio_returns(cleaned_weights,week_start_str,week_end_str)\n",
    "        weekly_returns.append(weekly_return)\n",
    "        port_return *= (1+weekly_return)\n",
    "        starting_point += DT.timedelta(days=7)\n",
    "\n",
    "    return port_return, weekly_returns"
   ]
  },
  {
   "cell_type": "code",
   "execution_count": 83,
   "metadata": {},
   "outputs": [
    {
     "name": "stderr",
     "output_type": "stream",
     "text": [
      "/tmp/ipykernel_1777/3783454563.py:3: FutureWarning: The default fill_method='pad' in DataFrame.pct_change is deprecated and will be removed in a future version. Either fill in any non-leading NA values prior to calling pct_change or specify 'fill_method=None' to not fill NA values.\n",
      "  returns_df = time_df.pct_change().dropna()\n",
      "/tmp/ipykernel_1777/3783454563.py:3: FutureWarning: The default fill_method='pad' in DataFrame.pct_change is deprecated and will be removed in a future version. Either fill in any non-leading NA values prior to calling pct_change or specify 'fill_method=None' to not fill NA values.\n",
      "  returns_df = time_df.pct_change().dropna()\n",
      "/tmp/ipykernel_1777/3783454563.py:3: FutureWarning: The default fill_method='pad' in DataFrame.pct_change is deprecated and will be removed in a future version. Either fill in any non-leading NA values prior to calling pct_change or specify 'fill_method=None' to not fill NA values.\n",
      "  returns_df = time_df.pct_change().dropna()\n",
      "/tmp/ipykernel_1777/3783454563.py:3: FutureWarning: The default fill_method='pad' in DataFrame.pct_change is deprecated and will be removed in a future version. Either fill in any non-leading NA values prior to calling pct_change or specify 'fill_method=None' to not fill NA values.\n",
      "  returns_df = time_df.pct_change().dropna()\n"
     ]
    },
    {
     "data": {
      "text/plain": [
       "(1.0181043080605576,\n",
       " [0.00446498707147595,\n",
       "  0.019300914537515847,\n",
       "  0.0028309838168795935,\n",
       "  -0.008421013484098823])"
      ]
     },
     "execution_count": 83,
     "metadata": {},
     "output_type": "execute_result"
    }
   ],
   "source": [
    "backtesting('2024-05-27',4)"
   ]
  }
 ],
 "metadata": {
  "kernelspec": {
   "display_name": "lwhf",
   "language": "python",
   "name": "python3"
  },
  "language_info": {
   "codemirror_mode": {
    "name": "ipython",
    "version": 3
   },
   "file_extension": ".py",
   "mimetype": "text/x-python",
   "name": "python",
   "nbconvert_exporter": "python",
   "pygments_lexer": "ipython3",
   "version": "3.10.6"
  }
 },
 "nbformat": 4,
 "nbformat_minor": 2
}

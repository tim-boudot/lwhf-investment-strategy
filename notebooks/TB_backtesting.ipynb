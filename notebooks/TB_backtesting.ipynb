{
 "cells": [
  {
   "cell_type": "code",
   "execution_count": 1,
   "metadata": {},
   "outputs": [
    {
     "name": "stderr",
     "output_type": "stream",
     "text": [
      "2024-06-06 21:36:03.002530: I external/local_tsl/tsl/cuda/cudart_stub.cc:32] Could not find cuda drivers on your machine, GPU will not be used.\n",
      "2024-06-06 21:36:03.515826: I external/local_tsl/tsl/cuda/cudart_stub.cc:32] Could not find cuda drivers on your machine, GPU will not be used.\n",
      "2024-06-06 21:36:05.601255: I tensorflow/core/platform/cpu_feature_guard.cc:210] This TensorFlow binary is optimized to use available CPU instructions in performance-critical operations.\n",
      "To enable the following instructions: AVX2 FMA, in other operations, rebuild TensorFlow with the appropriate compiler flags.\n",
      "2024-06-06 21:36:11.865506: W tensorflow/compiler/tf2tensorrt/utils/py_utils.cc:38] TF-TRT Warning: Could not find TensorRT\n"
     ]
    }
   ],
   "source": [
    "import pandas as pd\n",
    "import numpy as np\n",
    "import datetime as DT\n",
    "import pandas as pd\n",
    "from pypfopt import EfficientFrontier\n",
    "from google.cloud import bigquery\n",
    "from tensorflow.keras.models import Sequential\n",
    "from tensorflow.keras.optimizers import Adam\n",
    "from tensorflow.keras import layers\n",
    "from tensorflow.keras.callbacks import EarlyStopping\n",
    "from tensorflow.keras.layers import Normalization\n",
    "# from pypfopt import risk_models\n",
    "# from pypfopt import expected_returns"
   ]
  },
  {
   "cell_type": "code",
   "execution_count": 2,
   "metadata": {},
   "outputs": [],
   "source": [
    "import os\n",
    "\n",
    "gcp_project = os.environ['GCP_PROJECT']"
   ]
  },
  {
   "cell_type": "code",
   "execution_count": null,
   "metadata": {},
   "outputs": [],
   "source": [
    "# Simplified query for this backtesting exercise\n",
    "\n",
    "PROJECT = \"le-wagon-hedge-fund\"\n",
    "DATASET = \"data_alpaca_20240604\"\n",
    "TABLE = \"SP500_Historical_Weekly\"\n",
    "\n",
    "query = f\"\"\"\n",
    "    SELECT *\n",
    "    FROM {PROJECT}.{DATASET}.{TABLE}\n",
    "    \"\"\"\n",
    "\n",
    "client = bigquery.Client(project=gcp_project)\n",
    "query_job = client.query(query)\n",
    "result = query_job.result()\n",
    "df = result.to_dataframe()"
   ]
  },
  {
   "cell_type": "code",
   "execution_count": 3,
   "metadata": {},
   "outputs": [],
   "source": [
    "def get_all_data():\n",
    "    # start_date=datetime.strptime(start_date,'%Y-%m-%d')\n",
    "    # end_date=datetime.strptime(end_date,'%Y-%m-%d')\n",
    "    PROJECT = \"le-wagon-hedge-fund\"\n",
    "    DATASET = \"data_alpaca_20240604\"\n",
    "    TABLE = \"SP500_Historical_Weekly\"\n",
    "    query = f\"\"\"\n",
    "\n",
    "    SELECT *\n",
    "    FROM {PROJECT}.{DATASET}.{TABLE}\n",
    "    \"\"\"\n",
    "    client = bigquery.Client(project=gcp_project)\n",
    "    query_job = client.query(query)\n",
    "    result = query_job.result()\n",
    "    df = result.to_dataframe()\n",
    "    return df"
   ]
  },
  {
   "cell_type": "code",
   "execution_count": 4,
   "metadata": {},
   "outputs": [],
   "source": [
    "def get_data(start_date, end_date):\n",
    "    # start_date=datetime.strptime(start_date,'%Y-%m-%d')\n",
    "    # end_date=datetime.strptime(end_date,'%Y-%m-%d')\n",
    "    PROJECT = \"le-wagon-hedge-fund\"\n",
    "    DATASET = \"data_alpaca_20240604\"\n",
    "    TABLE = \"SP500_Historical_Weekly\"\n",
    "    query = f\"\"\"\n",
    "\n",
    "    SELECT *\n",
    "    FROM {PROJECT}.{DATASET}.{TABLE}\n",
    "    WHERE (DATE(timestamp) BETWEEN '{start_date}' AND '{end_date}')\n",
    "    \"\"\"\n",
    "    client = bigquery.Client(project=gcp_project)\n",
    "    query_job = client.query(query)\n",
    "    result = query_job.result()\n",
    "    df = result.to_dataframe()\n",
    "    return df"
   ]
  },
  {
   "cell_type": "code",
   "execution_count": 5,
   "metadata": {},
   "outputs": [],
   "source": [
    "def features_from_data(df):\n",
    "    time_df = df.pivot(index='timestamp',columns='symbol',values='close')\n",
    "    returns_df = time_df.pct_change()#.dropna()\n",
    "    # Removing all stocks that have more than 20 missing observations\n",
    "    s = returns_df.isna().sum()>20\n",
    "    to_ban = list(s[s].index)\n",
    "    returns_df = returns_df[returns_df.columns[~returns_df.columns.isin(to_ban)]]\n",
    "    # Imputing\n",
    "    returns_df = returns_df.fillna(returns_df.mean())\n",
    "\n",
    "    X = returns_df.iloc[:-1]\n",
    "    y = returns_df.iloc[-1]\n",
    "\n",
    "    X = X.to_numpy().reshape(X.shape[1],X.shape[0],1)\n",
    "    y = y.to_numpy()\n",
    "\n",
    "    X_pred = returns_df.to_numpy()\n",
    "    X_pred = X_pred.reshape(X_pred.shape[1],X_pred.shape[0],1)\n",
    "\n",
    "    return X, y, X_pred, returns_df.cov(), list(returns_df.columns)"
   ]
  },
  {
   "cell_type": "code",
   "execution_count": 9,
   "metadata": {},
   "outputs": [],
   "source": [
    "def initialize_model_LSTM(X):\n",
    "    # 1- RNN Architecture\n",
    "    normalizer = Normalization()\n",
    "    normalizer.adapt(X)\n",
    "    model = Sequential()\n",
    "    model.add(normalizer)\n",
    "    model.add(layers.LSTM(units=20, activation='tanh'))\n",
    "    model.add(layers.Dense(10, activation=\"relu\"))\n",
    "    model.add(layers.Dense(1, activation=\"linear\"))\n",
    "\n",
    "    # 2- Compilation\n",
    "    model.compile(loss='mse',\n",
    "                optimizer='rmsprop',\n",
    "                metrics=['mae']) # very high lr so we can converge with such a small dataset\n",
    "\n",
    "    return model"
   ]
  },
  {
   "cell_type": "code",
   "execution_count": 10,
   "metadata": {},
   "outputs": [],
   "source": [
    "def fitting_model(X,y):\n",
    "    model = initialize_model_LSTM(X)\n",
    "    es = EarlyStopping(patience=5, restore_best_weights=True)\n",
    "    history = model.fit(X, y.reshape(-1,), validation_split=.2, batch_size=32, epochs=20, verbose=1, callbacks=[es])\n",
    "    return model"
   ]
  },
  {
   "cell_type": "code",
   "execution_count": 11,
   "metadata": {},
   "outputs": [],
   "source": [
    "def predicting(X, model):\n",
    "    y_pred = model.predict(X)\n",
    "    return y_pred"
   ]
  },
  {
   "cell_type": "code",
   "execution_count": 12,
   "metadata": {},
   "outputs": [],
   "source": [
    "def covariance(df):\n",
    "    return df.cov()"
   ]
  },
  {
   "cell_type": "code",
   "execution_count": 7,
   "metadata": {},
   "outputs": [],
   "source": [
    "def model_try(df):\n",
    "    time_df = df.pivot(index='timestamp',columns='symbol',values='close')\n",
    "    returns_df = time_df.pct_change().dropna()\n",
    "    expected_returns=pd.DataFrame(returns_df.mean(), columns=['expected_return'])\n",
    "    cov_df=returns_df.cov()\n",
    "    return expected_returns, cov_df"
   ]
  },
  {
   "cell_type": "code",
   "execution_count": 75,
   "metadata": {},
   "outputs": [],
   "source": [
    "def making_portfolio(tickers,expected_returns, cov_df):\n",
    "    ef = EfficientFrontier(expected_returns,cov_df, solver='ECOS') #Had to change the solver to ECOS as the other wouldn't work. Look into this.\n",
    "    ef.tickers = tickers\n",
    "    raw_weights = ef.max_sharpe(risk_free_rate=0.001)\n",
    "    cleaned_weights = ef.clean_weights()\n",
    "    return pd.DataFrame(list(cleaned_weights.items()), columns=['ticker','weight']).set_index('ticker')"
   ]
  },
  {
   "cell_type": "code",
   "execution_count": 14,
   "metadata": {},
   "outputs": [],
   "source": [
    "def portfolio_returns(weights: pd.DataFrame, start_date: str, end_date: str):\n",
    "    # Finding the returns for all stocks between start and end date\n",
    "    df=get_data(start_date,end_date)\n",
    "    time_df = df.pivot(index='timestamp',columns='symbol',values='close')\n",
    "\n",
    "    #Resetting index for the time_df\n",
    "    time_df['clean_date']=time_df.index\n",
    "    time_df['clean_date']=time_df['clean_date'].apply(lambda x: DT.datetime.strptime(x, '%Y-%m-%d %H:%M:%S+00:00'))\\\n",
    "        .apply(lambda x: f'{x.year}-{x.month:02d}-{x.day:02d}')\n",
    "    time_df = time_df.set_index('clean_date')\n",
    "\n",
    "    ret = time_df.loc[f'{end_date}']/time_df.loc[f'{start_date}']-1\n",
    "\n",
    "    # Calculating portfolio return\n",
    "    port_return = (weights.weight * ret).sum()\n",
    "\n",
    "    return port_return\n"
   ]
  },
  {
   "cell_type": "code",
   "execution_count": 1,
   "metadata": {},
   "outputs": [],
   "source": [
    "#TODO: Make this code more efficient by not querying every time but rather saving data locally while running\n",
    "\n",
    "def backtesting(as_of_date, n_periods, period_type='W'):\n",
    "    as_of = DT.datetime.strptime(as_of_date, '%Y-%m-%d').date()\n",
    "    starting_point = as_of - DT.timedelta(days=7 * n_periods)\n",
    "    starting_point_str = f'{starting_point.year}-{starting_point.month:02d}-{starting_point.day:02d}'\n",
    "    port_return = 1\n",
    "    weekly_returns = []\n",
    "\n",
    "    # Training the model with data until the starting point\n",
    "\n",
    "    df = get_data('2016-01-04',as_of_date)\n",
    "    df = df[df.timestamp.apply(lambda x: DT.datetime.strptime(x, '%Y-%m-%d %H:%M:%S+00:00').date())<starting_point]\n",
    "\n",
    "    X, y, X_pred, cov_df, tickers = features_from_data(df)\n",
    "    model = fitting_model(X,y)\n",
    "\n",
    "    # Calculating portfolio returns\n",
    "    while starting_point < as_of:\n",
    "        one_week_ahead = starting_point + DT.timedelta(days=7)\n",
    "        week_start_str = f'{starting_point.year}-{starting_point.month:02d}-{starting_point.day:02d}'\n",
    "        week_end_str = f'{one_week_ahead.year}-{one_week_ahead.month:02d}-{one_week_ahead.day:02d}'\n",
    "\n",
    "        df = df[df.timestamp.apply(lambda x: DT.datetime.strptime(x, '%Y-%m-%d %H:%M:%S+00:00').date())<starting_point]\n",
    "        X, y, X_pred, cov_df, tickers = features_from_data(df)\n",
    "        y_pred = predicting(X_pred, model)\n",
    "        cleaned_weights = making_portfolio(tickers,y_pred.reshape(-1), cov_df)\n",
    "        weekly_return = portfolio_returns(cleaned_weights,week_start_str,week_end_str)\n",
    "        weekly_returns.append(weekly_return)\n",
    "        port_return *= (1+weekly_return)\n",
    "        starting_point += DT.timedelta(days=7)\n",
    "\n",
    "    port_return -= 1\n",
    "\n",
    "    return port_return, weekly_returns, cleaned_weights"
   ]
  },
  {
   "cell_type": "code",
   "execution_count": 74,
   "metadata": {},
   "outputs": [
    {
     "name": "stderr",
     "output_type": "stream",
     "text": [
      "/tmp/ipykernel_1868/1364063909.py:3: FutureWarning: The default fill_method='pad' in DataFrame.pct_change is deprecated and will be removed in a future version. Either fill in any non-leading NA values prior to calling pct_change or specify 'fill_method=None' to not fill NA values.\n",
      "  returns_df = time_df.pct_change()#.dropna()\n"
     ]
    },
    {
     "name": "stdout",
     "output_type": "stream",
     "text": [
      "Epoch 1/20\n",
      "\u001b[1m13/13\u001b[0m \u001b[32m━━━━━━━━━━━━━━━━━━━━\u001b[0m\u001b[37m\u001b[0m \u001b[1m9s\u001b[0m 347ms/step - loss: 0.0020 - mae: 0.0313 - val_loss: 0.0015 - val_mae: 0.0265\n",
      "Epoch 2/20\n",
      "\u001b[1m13/13\u001b[0m \u001b[32m━━━━━━━━━━━━━━━━━━━━\u001b[0m\u001b[37m\u001b[0m \u001b[1m4s\u001b[0m 276ms/step - loss: 0.0016 - mae: 0.0273 - val_loss: 0.0013 - val_mae: 0.0259\n",
      "Epoch 3/20\n",
      "\u001b[1m13/13\u001b[0m \u001b[32m━━━━━━━━━━━━━━━━━━━━\u001b[0m\u001b[37m\u001b[0m \u001b[1m4s\u001b[0m 280ms/step - loss: 0.0015 - mae: 0.0264 - val_loss: 0.0014 - val_mae: 0.0261\n",
      "Epoch 4/20\n",
      "\u001b[1m13/13\u001b[0m \u001b[32m━━━━━━━━━━━━━━━━━━━━\u001b[0m\u001b[37m\u001b[0m \u001b[1m4s\u001b[0m 286ms/step - loss: 0.0014 - mae: 0.0261 - val_loss: 0.0015 - val_mae: 0.0258\n",
      "Epoch 5/20\n",
      "\u001b[1m13/13\u001b[0m \u001b[32m━━━━━━━━━━━━━━━━━━━━\u001b[0m\u001b[37m\u001b[0m \u001b[1m4s\u001b[0m 283ms/step - loss: 0.0014 - mae: 0.0253 - val_loss: 0.0014 - val_mae: 0.0263\n",
      "Epoch 6/20\n",
      "\u001b[1m13/13\u001b[0m \u001b[32m━━━━━━━━━━━━━━━━━━━━\u001b[0m\u001b[37m\u001b[0m \u001b[1m4s\u001b[0m 275ms/step - loss: 0.0015 - mae: 0.0273 - val_loss: 0.0014 - val_mae: 0.0255\n",
      "Epoch 7/20\n",
      "\u001b[1m13/13\u001b[0m \u001b[32m━━━━━━━━━━━━━━━━━━━━\u001b[0m\u001b[37m\u001b[0m \u001b[1m4s\u001b[0m 289ms/step - loss: 0.0015 - mae: 0.0268 - val_loss: 0.0014 - val_mae: 0.0258\n"
     ]
    },
    {
     "name": "stderr",
     "output_type": "stream",
     "text": [
      "/tmp/ipykernel_1868/1364063909.py:3: FutureWarning: The default fill_method='pad' in DataFrame.pct_change is deprecated and will be removed in a future version. Either fill in any non-leading NA values prior to calling pct_change or specify 'fill_method=None' to not fill NA values.\n",
      "  returns_df = time_df.pct_change()#.dropna()\n"
     ]
    },
    {
     "name": "stdout",
     "output_type": "stream",
     "text": [
      "\u001b[1m16/16\u001b[0m \u001b[32m━━━━━━━━━━━━━━━━━━━━\u001b[0m\u001b[37m\u001b[0m \u001b[1m3s\u001b[0m 158ms/step\n",
      "===============================================================================\n",
      "                                     CVXPY                                     \n",
      "                                     v1.5.1                                    \n",
      "===============================================================================\n",
      "(CVXPY) Jun 06 10:23:54 PM: Your problem has 492 variables, 985 constraints, and 0 parameters.\n",
      "(CVXPY) Jun 06 10:24:05 PM: It is compliant with the following grammars: DCP, DQCP\n",
      "(CVXPY) Jun 06 10:24:05 PM: (If you need to solve this problem multiple times, but with different data, consider using parameters.)\n",
      "(CVXPY) Jun 06 10:24:05 PM: CVXPY will first compile your problem; then, it will invoke a numerical solver to obtain a solution.\n",
      "(CVXPY) Jun 06 10:24:05 PM: Your problem is compiled with the CPP canonicalization backend.\n",
      "-------------------------------------------------------------------------------\n",
      "                                  Compilation                                  \n",
      "-------------------------------------------------------------------------------\n",
      "(CVXPY) Jun 06 10:24:05 PM: Compiling problem (target solver=ECOS).\n",
      "(CVXPY) Jun 06 10:24:05 PM: Reduction chain: Dcp2Cone -> CvxAttr2Constr -> ConeMatrixStuffing -> ECOS\n",
      "(CVXPY) Jun 06 10:24:05 PM: Applying reduction Dcp2Cone\n",
      "(CVXPY) Jun 06 10:24:05 PM: Applying reduction CvxAttr2Constr\n",
      "(CVXPY) Jun 06 10:24:05 PM: Applying reduction ConeMatrixStuffing\n"
     ]
    },
    {
     "name": "stderr",
     "output_type": "stream",
     "text": [
      "/home/timboudot/.pyenv/versions/3.10.6/envs/lwhf/lib/python3.10/site-packages/cvxpy/reductions/solvers/solving_chain.py:354: FutureWarning: \n",
      "    You specified your problem should be solved by ECOS. Starting in\n",
      "    CXVPY 1.6.0, ECOS will no longer be installed by default with CVXPY.\n",
      "    Please either add an explicit dependency on ECOS or switch to our new\n",
      "    default solver, Clarabel, by either not specifying a solver argument\n",
      "    or specifying ``solver=cp.CLARABEL``.\n",
      "    \n",
      "  warnings.warn(ECOS_DEP_DEPRECATION_MSG, FutureWarning)\n"
     ]
    },
    {
     "name": "stdout",
     "output_type": "stream",
     "text": [
      "(CVXPY) Jun 06 10:24:06 PM: Applying reduction ECOS\n",
      "(CVXPY) Jun 06 10:24:06 PM: Finished problem compilation (took 3.107e-01 seconds).\n",
      "-------------------------------------------------------------------------------\n",
      "                                Numerical solver                               \n",
      "-------------------------------------------------------------------------------\n",
      "(CVXPY) Jun 06 10:24:06 PM: Invoking solver ECOS  to obtain a solution.\n",
      "\n",
      "ECOS 2.0.10 - (C) embotech GmbH, Zurich Switzerland, 2012-15. Web: www.embotech.com/ECOS\n",
      "\n",
      "It     pcost       dcost      gap   pres   dres    k/t    mu     step   sigma     IR    |   BT\n",
      " 0  +0.000e+00  -2.161e-01  +5e+03  9e-01  5e+00  1e+00  5e+00    ---    ---    1  1  - |  -  - \n",
      " 1  +3.924e+01  +4.077e+01  +9e+02  4e-01  2e+00  2e+00  9e-01  0.9890  2e-01   1  1  1 |  0  0\n",
      " 2  +1.827e+02  +1.868e+02  +1e+02  2e-01  1e+00  4e+00  1e-01  0.8671  1e-02   1  1  1 |  0  0\n",
      " 3  +2.368e+02  +2.426e+02  +6e+01  1e-01  1e+00  6e+00  6e-02  0.6362  1e-01   1  1  1 |  0  0\n",
      " 4  +1.068e+00  +1.835e+00  +1e+01  3e-02  3e-01  8e-01  1e-02  0.8838  1e-01   1  1  1 |  0  0\n",
      " 5  +2.797e+00  +2.997e+00  +3e+00  4e-03  6e-02  2e-01  3e-03  0.8821  1e-01   2  2  2 |  0  0\n",
      " 6  +3.275e+00  +3.308e+00  +6e-01  6e-04  9e-03  3e-02  6e-04  0.8845  8e-02   2  2  2 |  0  0\n",
      " 7  +2.690e+00  +2.719e+00  +6e-01  5e-04  9e-03  3e-02  6e-04  0.0866  8e-01   2  2  2 |  0  0\n",
      " 8  +2.147e+00  +2.172e+00  +5e-01  5e-04  8e-03  3e-02  5e-04  0.1371  7e-01   2  1  2 |  0  0\n",
      " 9  +2.812e+00  +2.840e+00  +5e-01  5e-04  8e-03  3e-02  5e-04  0.2357  9e-01   2  2  2 |  0  0\n",
      "10  +1.531e+00  +1.541e+00  +3e-01  2e-04  3e-03  1e-02  3e-04  0.8314  4e-01   2  1  1 |  0  0\n",
      "11  +1.255e+00  +1.261e+00  +1e-01  1e-04  2e-03  6e-03  1e-04  0.7577  3e-01   2  2  2 |  0  0\n",
      "12  +6.218e-01  +6.248e-01  +6e-02  5e-05  8e-04  3e-03  7e-05  0.8195  4e-01   1  1  1 |  0  0\n",
      "13  +5.683e-01  +5.703e-01  +5e-02  4e-05  6e-04  2e-03  5e-05  0.3758  3e-01   1  2  1 |  0  0\n",
      "14  +3.607e-01  +3.613e-01  +1e-02  1e-05  2e-04  6e-04  1e-05  0.8906  2e-01   2  1  1 |  0  0\n",
      "15  +3.203e-01  +3.206e-01  +8e-03  6e-06  1e-04  3e-04  8e-06  0.8899  5e-01   2  1  2 |  0  0\n",
      "16  +2.784e-01  +2.785e-01  +3e-03  3e-06  4e-05  1e-04  4e-06  0.6727  2e-01   2  1  1 |  0  0\n",
      "17  +2.543e-01  +2.543e-01  +1e-03  1e-06  2e-05  5e-05  1e-06  0.6525  6e-02   2  1  1 |  0  0\n",
      "18  +2.465e-01  +2.465e-01  +6e-04  5e-07  8e-06  2e-05  7e-07  0.9890  5e-01   2  1  1 |  0  0\n",
      "19  +2.385e-01  +2.385e-01  +7e-05  5e-08  9e-07  2e-06  7e-08  0.9128  2e-02   2  1  1 |  0  0\n",
      "20  +2.375e-01  +2.375e-01  +2e-06  2e-09  3e-08  7e-08  2e-09  0.9753  6e-03   2  1  1 |  0  0\n",
      "21  +2.375e-01  +2.375e-01  +2e-07  1e-10  2e-09  6e-09  2e-10  0.9282  4e-03   2  1  1 |  0  0\n",
      "22  +2.375e-01  +2.375e-01  +5e-08  4e-11  6e-10  2e-09  5e-11  0.7625  1e-01   2  1  1 |  0  0\n",
      "23  +2.375e-01  +2.375e-01  +3e-08  2e-11  4e-10  1e-09  3e-11  0.5850  3e-01   2  1  1 |  0  0\n",
      "24  +2.375e-01  +2.375e-01  +2e-08  2e-11  3e-10  8e-10  2e-11  0.4179  5e-01   2  1  1 |  0  0\n",
      "25  +2.375e-01  +2.375e-01  +7e-09  6e-12  9e-11  3e-10  7e-12  0.9479  3e-01   1  1  1 |  0  0\n",
      "\n",
      "OPTIMAL (within feastol=9.0e-11, reltol=3.1e-08, abstol=7.3e-09).\n",
      "Runtime: 4.341550 seconds.\n",
      "\n",
      "-------------------------------------------------------------------------------\n",
      "                                    Summary                                    \n",
      "-------------------------------------------------------------------------------\n",
      "(CVXPY) Jun 06 10:24:10 PM: Problem status: optimal\n",
      "(CVXPY) Jun 06 10:24:10 PM: Optimal value: 2.375e-01\n",
      "(CVXPY) Jun 06 10:24:10 PM: Compilation took 3.107e-01 seconds\n",
      "(CVXPY) Jun 06 10:24:10 PM: Solver (including time spent in interface) took 4.348e+00 seconds\n"
     ]
    },
    {
     "name": "stderr",
     "output_type": "stream",
     "text": [
      "/tmp/ipykernel_1868/1364063909.py:3: FutureWarning: The default fill_method='pad' in DataFrame.pct_change is deprecated and will be removed in a future version. Either fill in any non-leading NA values prior to calling pct_change or specify 'fill_method=None' to not fill NA values.\n",
      "  returns_df = time_df.pct_change()#.dropna()\n"
     ]
    },
    {
     "name": "stdout",
     "output_type": "stream",
     "text": [
      "\u001b[1m16/16\u001b[0m \u001b[32m━━━━━━━━━━━━━━━━━━━━\u001b[0m\u001b[37m\u001b[0m \u001b[1m1s\u001b[0m 89ms/step\n",
      "===============================================================================\n",
      "                                     CVXPY                                     \n",
      "                                     v1.5.1                                    \n",
      "===============================================================================\n",
      "(CVXPY) Jun 06 10:24:20 PM: Your problem has 492 variables, 985 constraints, and 0 parameters.\n",
      "(CVXPY) Jun 06 10:24:32 PM: It is compliant with the following grammars: DCP, DQCP\n",
      "(CVXPY) Jun 06 10:24:32 PM: (If you need to solve this problem multiple times, but with different data, consider using parameters.)\n",
      "(CVXPY) Jun 06 10:24:32 PM: CVXPY will first compile your problem; then, it will invoke a numerical solver to obtain a solution.\n",
      "(CVXPY) Jun 06 10:24:32 PM: Your problem is compiled with the CPP canonicalization backend.\n",
      "-------------------------------------------------------------------------------\n",
      "                                  Compilation                                  \n",
      "-------------------------------------------------------------------------------\n",
      "(CVXPY) Jun 06 10:24:32 PM: Compiling problem (target solver=ECOS).\n",
      "(CVXPY) Jun 06 10:24:32 PM: Reduction chain: Dcp2Cone -> CvxAttr2Constr -> ConeMatrixStuffing -> ECOS\n",
      "(CVXPY) Jun 06 10:24:32 PM: Applying reduction Dcp2Cone\n"
     ]
    },
    {
     "name": "stderr",
     "output_type": "stream",
     "text": [
      "/home/timboudot/.pyenv/versions/3.10.6/envs/lwhf/lib/python3.10/site-packages/cvxpy/reductions/solvers/solving_chain.py:354: FutureWarning: \n",
      "    You specified your problem should be solved by ECOS. Starting in\n",
      "    CXVPY 1.6.0, ECOS will no longer be installed by default with CVXPY.\n",
      "    Please either add an explicit dependency on ECOS or switch to our new\n",
      "    default solver, Clarabel, by either not specifying a solver argument\n",
      "    or specifying ``solver=cp.CLARABEL``.\n",
      "    \n",
      "  warnings.warn(ECOS_DEP_DEPRECATION_MSG, FutureWarning)\n"
     ]
    },
    {
     "name": "stdout",
     "output_type": "stream",
     "text": [
      "(CVXPY) Jun 06 10:24:33 PM: Applying reduction CvxAttr2Constr\n",
      "(CVXPY) Jun 06 10:24:33 PM: Applying reduction ConeMatrixStuffing\n",
      "(CVXPY) Jun 06 10:24:33 PM: Applying reduction ECOS\n",
      "(CVXPY) Jun 06 10:24:33 PM: Finished problem compilation (took 7.956e-01 seconds).\n",
      "-------------------------------------------------------------------------------\n",
      "                                Numerical solver                               \n",
      "-------------------------------------------------------------------------------\n",
      "(CVXPY) Jun 06 10:24:33 PM: Invoking solver ECOS  to obtain a solution.\n",
      "\n",
      "ECOS 2.0.10 - (C) embotech GmbH, Zurich Switzerland, 2012-15. Web: www.embotech.com/ECOS\n",
      "\n",
      "It     pcost       dcost      gap   pres   dres    k/t    mu     step   sigma     IR    |   BT\n",
      " 0  +0.000e+00  -2.161e-01  +5e+03  9e-01  5e+00  1e+00  5e+00    ---    ---    1  1  - |  -  - \n",
      " 1  +3.924e+01  +4.077e+01  +9e+02  4e-01  2e+00  2e+00  9e-01  0.9890  2e-01   1  1  1 |  0  0\n",
      " 2  +1.827e+02  +1.868e+02  +1e+02  2e-01  1e+00  4e+00  1e-01  0.8671  1e-02   1  1  1 |  0  0\n",
      " 3  +2.368e+02  +2.426e+02  +6e+01  1e-01  1e+00  6e+00  6e-02  0.6362  1e-01   1  1  1 |  0  0\n",
      " 4  +1.068e+00  +1.835e+00  +1e+01  3e-02  3e-01  8e-01  1e-02  0.8838  1e-01   1  1  1 |  0  0\n",
      " 5  +2.797e+00  +2.997e+00  +3e+00  4e-03  6e-02  2e-01  3e-03  0.8821  1e-01   2  2  2 |  0  0\n",
      " 6  +3.275e+00  +3.308e+00  +6e-01  6e-04  9e-03  3e-02  6e-04  0.8845  8e-02   2  2  2 |  0  0\n",
      " 7  +2.690e+00  +2.719e+00  +6e-01  5e-04  9e-03  3e-02  6e-04  0.0866  8e-01   2  2  2 |  0  0\n",
      " 8  +2.147e+00  +2.172e+00  +5e-01  5e-04  8e-03  3e-02  5e-04  0.1371  7e-01   2  1  2 |  0  0\n",
      " 9  +2.812e+00  +2.840e+00  +5e-01  5e-04  8e-03  3e-02  5e-04  0.2357  9e-01   2  2  2 |  0  0\n",
      "10  +1.531e+00  +1.541e+00  +3e-01  2e-04  3e-03  1e-02  3e-04  0.8314  4e-01   2  1  1 |  0  0\n",
      "11  +1.255e+00  +1.261e+00  +1e-01  1e-04  2e-03  6e-03  1e-04  0.7577  3e-01   2  2  2 |  0  0\n",
      "12  +6.218e-01  +6.248e-01  +6e-02  5e-05  8e-04  3e-03  7e-05  0.8195  4e-01   1  1  1 |  0  0\n",
      "13  +5.683e-01  +5.703e-01  +5e-02  4e-05  6e-04  2e-03  5e-05  0.3758  3e-01   1  2  1 |  0  0\n",
      "14  +3.607e-01  +3.613e-01  +1e-02  1e-05  2e-04  6e-04  1e-05  0.8906  2e-01   2  1  1 |  0  0\n",
      "15  +3.203e-01  +3.206e-01  +8e-03  6e-06  1e-04  3e-04  8e-06  0.8899  5e-01   2  1  2 |  0  0\n",
      "16  +2.784e-01  +2.785e-01  +3e-03  3e-06  4e-05  1e-04  4e-06  0.6727  2e-01   2  1  1 |  0  0\n",
      "17  +2.543e-01  +2.543e-01  +1e-03  1e-06  2e-05  5e-05  1e-06  0.6525  6e-02   2  1  1 |  0  0\n",
      "18  +2.465e-01  +2.465e-01  +6e-04  5e-07  8e-06  2e-05  7e-07  0.9890  5e-01   2  1  1 |  0  0\n",
      "19  +2.385e-01  +2.385e-01  +7e-05  5e-08  9e-07  2e-06  7e-08  0.9128  2e-02   2  1  1 |  0  0\n",
      "20  +2.375e-01  +2.375e-01  +2e-06  2e-09  3e-08  7e-08  2e-09  0.9753  6e-03   2  1  1 |  0  0\n",
      "21  +2.375e-01  +2.375e-01  +2e-07  1e-10  2e-09  6e-09  2e-10  0.9282  4e-03   2  1  1 |  0  0\n",
      "22  +2.375e-01  +2.375e-01  +5e-08  4e-11  6e-10  2e-09  5e-11  0.7625  1e-01   2  1  1 |  0  0\n",
      "23  +2.375e-01  +2.375e-01  +3e-08  2e-11  4e-10  1e-09  3e-11  0.5850  3e-01   2  1  1 |  0  0\n",
      "24  +2.375e-01  +2.375e-01  +2e-08  2e-11  3e-10  8e-10  2e-11  0.4179  5e-01   2  1  1 |  0  0\n",
      "25  +2.375e-01  +2.375e-01  +7e-09  6e-12  9e-11  3e-10  7e-12  0.9479  3e-01   1  1  1 |  0  0\n",
      "\n",
      "OPTIMAL (within feastol=9.0e-11, reltol=3.1e-08, abstol=7.3e-09).\n",
      "Runtime: 6.472958 seconds.\n",
      "\n",
      "-------------------------------------------------------------------------------\n",
      "                                    Summary                                    \n",
      "-------------------------------------------------------------------------------\n",
      "(CVXPY) Jun 06 10:24:40 PM: Problem status: optimal\n",
      "(CVXPY) Jun 06 10:24:40 PM: Optimal value: 2.375e-01\n",
      "(CVXPY) Jun 06 10:24:40 PM: Compilation took 7.956e-01 seconds\n",
      "(CVXPY) Jun 06 10:24:40 PM: Solver (including time spent in interface) took 6.480e+00 seconds\n"
     ]
    },
    {
     "name": "stderr",
     "output_type": "stream",
     "text": [
      "/tmp/ipykernel_1868/1364063909.py:3: FutureWarning: The default fill_method='pad' in DataFrame.pct_change is deprecated and will be removed in a future version. Either fill in any non-leading NA values prior to calling pct_change or specify 'fill_method=None' to not fill NA values.\n",
      "  returns_df = time_df.pct_change()#.dropna()\n"
     ]
    },
    {
     "name": "stdout",
     "output_type": "stream",
     "text": [
      "\u001b[1m16/16\u001b[0m \u001b[32m━━━━━━━━━━━━━━━━━━━━\u001b[0m\u001b[37m\u001b[0m \u001b[1m1s\u001b[0m 84ms/step\n",
      "===============================================================================\n",
      "                                     CVXPY                                     \n",
      "                                     v1.5.1                                    \n",
      "===============================================================================\n",
      "(CVXPY) Jun 06 10:24:49 PM: Your problem has 492 variables, 985 constraints, and 0 parameters.\n",
      "(CVXPY) Jun 06 10:25:01 PM: It is compliant with the following grammars: DCP, DQCP\n",
      "(CVXPY) Jun 06 10:25:01 PM: (If you need to solve this problem multiple times, but with different data, consider using parameters.)\n",
      "(CVXPY) Jun 06 10:25:01 PM: CVXPY will first compile your problem; then, it will invoke a numerical solver to obtain a solution.\n",
      "(CVXPY) Jun 06 10:25:01 PM: Your problem is compiled with the CPP canonicalization backend.\n",
      "-------------------------------------------------------------------------------\n",
      "                                  Compilation                                  \n",
      "-------------------------------------------------------------------------------\n",
      "(CVXPY) Jun 06 10:25:01 PM: Compiling problem (target solver=ECOS).\n",
      "(CVXPY) Jun 06 10:25:01 PM: Reduction chain: Dcp2Cone -> CvxAttr2Constr -> ConeMatrixStuffing -> ECOS\n",
      "(CVXPY) Jun 06 10:25:01 PM: Applying reduction Dcp2Cone\n"
     ]
    },
    {
     "name": "stderr",
     "output_type": "stream",
     "text": [
      "/home/timboudot/.pyenv/versions/3.10.6/envs/lwhf/lib/python3.10/site-packages/cvxpy/reductions/solvers/solving_chain.py:354: FutureWarning: \n",
      "    You specified your problem should be solved by ECOS. Starting in\n",
      "    CXVPY 1.6.0, ECOS will no longer be installed by default with CVXPY.\n",
      "    Please either add an explicit dependency on ECOS or switch to our new\n",
      "    default solver, Clarabel, by either not specifying a solver argument\n",
      "    or specifying ``solver=cp.CLARABEL``.\n",
      "    \n",
      "  warnings.warn(ECOS_DEP_DEPRECATION_MSG, FutureWarning)\n"
     ]
    },
    {
     "name": "stdout",
     "output_type": "stream",
     "text": [
      "(CVXPY) Jun 06 10:25:02 PM: Applying reduction CvxAttr2Constr\n",
      "(CVXPY) Jun 06 10:25:02 PM: Applying reduction ConeMatrixStuffing\n",
      "(CVXPY) Jun 06 10:25:02 PM: Applying reduction ECOS\n",
      "(CVXPY) Jun 06 10:25:02 PM: Finished problem compilation (took 1.280e+00 seconds).\n",
      "-------------------------------------------------------------------------------\n",
      "                                Numerical solver                               \n",
      "-------------------------------------------------------------------------------\n",
      "(CVXPY) Jun 06 10:25:02 PM: Invoking solver ECOS  to obtain a solution.\n",
      "\n",
      "ECOS 2.0.10 - (C) embotech GmbH, Zurich Switzerland, 2012-15. Web: www.embotech.com/ECOS\n",
      "\n",
      "It     pcost       dcost      gap   pres   dres    k/t    mu     step   sigma     IR    |   BT\n",
      " 0  +0.000e+00  -2.161e-01  +5e+03  9e-01  5e+00  1e+00  5e+00    ---    ---    1  1  - |  -  - \n",
      " 1  +3.924e+01  +4.077e+01  +9e+02  4e-01  2e+00  2e+00  9e-01  0.9890  2e-01   1  1  1 |  0  0\n",
      " 2  +1.827e+02  +1.868e+02  +1e+02  2e-01  1e+00  4e+00  1e-01  0.8671  1e-02   1  1  1 |  0  0\n",
      " 3  +2.368e+02  +2.426e+02  +6e+01  1e-01  1e+00  6e+00  6e-02  0.6362  1e-01   1  1  1 |  0  0\n",
      " 4  +1.068e+00  +1.835e+00  +1e+01  3e-02  3e-01  8e-01  1e-02  0.8838  1e-01   1  1  1 |  0  0\n",
      " 5  +2.797e+00  +2.997e+00  +3e+00  4e-03  6e-02  2e-01  3e-03  0.8821  1e-01   2  2  2 |  0  0\n",
      " 6  +3.275e+00  +3.308e+00  +6e-01  6e-04  9e-03  3e-02  6e-04  0.8845  8e-02   2  2  2 |  0  0\n",
      " 7  +2.690e+00  +2.719e+00  +6e-01  5e-04  9e-03  3e-02  6e-04  0.0866  8e-01   2  2  2 |  0  0\n",
      " 8  +2.147e+00  +2.172e+00  +5e-01  5e-04  8e-03  3e-02  5e-04  0.1371  7e-01   2  1  2 |  0  0\n",
      " 9  +2.812e+00  +2.840e+00  +5e-01  5e-04  8e-03  3e-02  5e-04  0.2357  9e-01   2  2  2 |  0  0\n",
      "10  +1.531e+00  +1.541e+00  +3e-01  2e-04  3e-03  1e-02  3e-04  0.8314  4e-01   2  1  1 |  0  0\n",
      "11  +1.255e+00  +1.261e+00  +1e-01  1e-04  2e-03  6e-03  1e-04  0.7577  3e-01   2  2  2 |  0  0\n",
      "12  +6.218e-01  +6.248e-01  +6e-02  5e-05  8e-04  3e-03  7e-05  0.8195  4e-01   1  1  1 |  0  0\n",
      "13  +5.683e-01  +5.703e-01  +5e-02  4e-05  6e-04  2e-03  5e-05  0.3758  3e-01   1  2  1 |  0  0\n",
      "14  +3.607e-01  +3.613e-01  +1e-02  1e-05  2e-04  6e-04  1e-05  0.8906  2e-01   2  1  1 |  0  0\n",
      "15  +3.203e-01  +3.206e-01  +8e-03  6e-06  1e-04  3e-04  8e-06  0.8899  5e-01   2  1  2 |  0  0\n",
      "16  +2.784e-01  +2.785e-01  +3e-03  3e-06  4e-05  1e-04  4e-06  0.6727  2e-01   2  1  1 |  0  0\n",
      "17  +2.543e-01  +2.543e-01  +1e-03  1e-06  2e-05  5e-05  1e-06  0.6525  6e-02   2  1  1 |  0  0\n",
      "18  +2.465e-01  +2.465e-01  +6e-04  5e-07  8e-06  2e-05  7e-07  0.9890  5e-01   2  1  1 |  0  0\n",
      "19  +2.385e-01  +2.385e-01  +7e-05  5e-08  9e-07  2e-06  7e-08  0.9128  2e-02   2  1  1 |  0  0\n",
      "20  +2.375e-01  +2.375e-01  +2e-06  2e-09  3e-08  7e-08  2e-09  0.9753  6e-03   2  1  1 |  0  0\n",
      "21  +2.375e-01  +2.375e-01  +2e-07  1e-10  2e-09  6e-09  2e-10  0.9282  4e-03   2  1  1 |  0  0\n",
      "22  +2.375e-01  +2.375e-01  +5e-08  4e-11  6e-10  2e-09  5e-11  0.7625  1e-01   2  1  1 |  0  0\n",
      "23  +2.375e-01  +2.375e-01  +3e-08  2e-11  4e-10  1e-09  3e-11  0.5850  3e-01   2  1  1 |  0  0\n",
      "24  +2.375e-01  +2.375e-01  +2e-08  2e-11  3e-10  8e-10  2e-11  0.4179  5e-01   2  1  1 |  0  0\n",
      "25  +2.375e-01  +2.375e-01  +7e-09  6e-12  9e-11  3e-10  7e-12  0.9479  3e-01   1  1  1 |  0  0\n",
      "\n",
      "OPTIMAL (within feastol=9.0e-11, reltol=3.1e-08, abstol=7.3e-09).\n",
      "Runtime: 4.140078 seconds.\n",
      "\n",
      "-------------------------------------------------------------------------------\n",
      "                                    Summary                                    \n",
      "-------------------------------------------------------------------------------\n",
      "(CVXPY) Jun 06 10:25:06 PM: Problem status: optimal\n",
      "(CVXPY) Jun 06 10:25:06 PM: Optimal value: 2.375e-01\n",
      "(CVXPY) Jun 06 10:25:06 PM: Compilation took 1.280e+00 seconds\n",
      "(CVXPY) Jun 06 10:25:06 PM: Solver (including time spent in interface) took 4.142e+00 seconds\n"
     ]
    },
    {
     "name": "stderr",
     "output_type": "stream",
     "text": [
      "/tmp/ipykernel_1868/1364063909.py:3: FutureWarning: The default fill_method='pad' in DataFrame.pct_change is deprecated and will be removed in a future version. Either fill in any non-leading NA values prior to calling pct_change or specify 'fill_method=None' to not fill NA values.\n",
      "  returns_df = time_df.pct_change()#.dropna()\n"
     ]
    },
    {
     "name": "stdout",
     "output_type": "stream",
     "text": [
      "\u001b[1m16/16\u001b[0m \u001b[32m━━━━━━━━━━━━━━━━━━━━\u001b[0m\u001b[37m\u001b[0m \u001b[1m1s\u001b[0m 82ms/step\n",
      "===============================================================================\n",
      "                                     CVXPY                                     \n",
      "                                     v1.5.1                                    \n",
      "===============================================================================\n",
      "(CVXPY) Jun 06 10:25:14 PM: Your problem has 492 variables, 985 constraints, and 0 parameters.\n",
      "(CVXPY) Jun 06 10:25:24 PM: It is compliant with the following grammars: DCP, DQCP\n",
      "(CVXPY) Jun 06 10:25:24 PM: (If you need to solve this problem multiple times, but with different data, consider using parameters.)\n",
      "(CVXPY) Jun 06 10:25:24 PM: CVXPY will first compile your problem; then, it will invoke a numerical solver to obtain a solution.\n",
      "(CVXPY) Jun 06 10:25:24 PM: Your problem is compiled with the CPP canonicalization backend.\n",
      "-------------------------------------------------------------------------------\n",
      "                                  Compilation                                  \n",
      "-------------------------------------------------------------------------------\n",
      "(CVXPY) Jun 06 10:25:24 PM: Compiling problem (target solver=ECOS).\n",
      "(CVXPY) Jun 06 10:25:24 PM: Reduction chain: Dcp2Cone -> CvxAttr2Constr -> ConeMatrixStuffing -> ECOS\n",
      "(CVXPY) Jun 06 10:25:24 PM: Applying reduction Dcp2Cone\n",
      "(CVXPY) Jun 06 10:25:25 PM: Applying reduction CvxAttr2Constr\n",
      "(CVXPY) Jun 06 10:25:25 PM: Applying reduction ConeMatrixStuffing\n"
     ]
    },
    {
     "name": "stderr",
     "output_type": "stream",
     "text": [
      "/home/timboudot/.pyenv/versions/3.10.6/envs/lwhf/lib/python3.10/site-packages/cvxpy/reductions/solvers/solving_chain.py:354: FutureWarning: \n",
      "    You specified your problem should be solved by ECOS. Starting in\n",
      "    CXVPY 1.6.0, ECOS will no longer be installed by default with CVXPY.\n",
      "    Please either add an explicit dependency on ECOS or switch to our new\n",
      "    default solver, Clarabel, by either not specifying a solver argument\n",
      "    or specifying ``solver=cp.CLARABEL``.\n",
      "    \n",
      "  warnings.warn(ECOS_DEP_DEPRECATION_MSG, FutureWarning)\n"
     ]
    },
    {
     "name": "stdout",
     "output_type": "stream",
     "text": [
      "(CVXPY) Jun 06 10:25:25 PM: Applying reduction ECOS\n",
      "(CVXPY) Jun 06 10:25:25 PM: Finished problem compilation (took 3.640e-01 seconds).\n",
      "-------------------------------------------------------------------------------\n",
      "                                Numerical solver                               \n",
      "-------------------------------------------------------------------------------\n",
      "(CVXPY) Jun 06 10:25:25 PM: Invoking solver ECOS  to obtain a solution.\n",
      "\n",
      "ECOS 2.0.10 - (C) embotech GmbH, Zurich Switzerland, 2012-15. Web: www.embotech.com/ECOS\n",
      "\n",
      "It     pcost       dcost      gap   pres   dres    k/t    mu     step   sigma     IR    |   BT\n",
      " 0  +0.000e+00  -2.161e-01  +5e+03  9e-01  5e+00  1e+00  5e+00    ---    ---    1  1  - |  -  - \n",
      " 1  +3.924e+01  +4.077e+01  +9e+02  4e-01  2e+00  2e+00  9e-01  0.9890  2e-01   1  1  1 |  0  0\n",
      " 2  +1.827e+02  +1.868e+02  +1e+02  2e-01  1e+00  4e+00  1e-01  0.8671  1e-02   1  1  1 |  0  0\n",
      " 3  +2.368e+02  +2.426e+02  +6e+01  1e-01  1e+00  6e+00  6e-02  0.6362  1e-01   1  1  1 |  0  0\n",
      " 4  +1.068e+00  +1.835e+00  +1e+01  3e-02  3e-01  8e-01  1e-02  0.8838  1e-01   1  1  1 |  0  0\n",
      " 5  +2.797e+00  +2.997e+00  +3e+00  4e-03  6e-02  2e-01  3e-03  0.8821  1e-01   2  2  2 |  0  0\n",
      " 6  +3.275e+00  +3.308e+00  +6e-01  6e-04  9e-03  3e-02  6e-04  0.8845  8e-02   2  2  2 |  0  0\n",
      " 7  +2.690e+00  +2.719e+00  +6e-01  5e-04  9e-03  3e-02  6e-04  0.0866  8e-01   2  2  2 |  0  0\n",
      " 8  +2.147e+00  +2.172e+00  +5e-01  5e-04  8e-03  3e-02  5e-04  0.1371  7e-01   2  1  2 |  0  0\n",
      " 9  +2.812e+00  +2.840e+00  +5e-01  5e-04  8e-03  3e-02  5e-04  0.2357  9e-01   2  2  2 |  0  0\n",
      "10  +1.531e+00  +1.541e+00  +3e-01  2e-04  3e-03  1e-02  3e-04  0.8314  4e-01   2  1  1 |  0  0\n",
      "11  +1.255e+00  +1.261e+00  +1e-01  1e-04  2e-03  6e-03  1e-04  0.7577  3e-01   2  2  2 |  0  0\n",
      "12  +6.218e-01  +6.248e-01  +6e-02  5e-05  8e-04  3e-03  7e-05  0.8195  4e-01   1  1  1 |  0  0\n",
      "13  +5.683e-01  +5.703e-01  +5e-02  4e-05  6e-04  2e-03  5e-05  0.3758  3e-01   1  2  1 |  0  0\n",
      "14  +3.607e-01  +3.613e-01  +1e-02  1e-05  2e-04  6e-04  1e-05  0.8906  2e-01   2  1  1 |  0  0\n",
      "15  +3.203e-01  +3.206e-01  +8e-03  6e-06  1e-04  3e-04  8e-06  0.8899  5e-01   2  1  2 |  0  0\n",
      "16  +2.784e-01  +2.785e-01  +3e-03  3e-06  4e-05  1e-04  4e-06  0.6727  2e-01   2  1  1 |  0  0\n",
      "17  +2.543e-01  +2.543e-01  +1e-03  1e-06  2e-05  5e-05  1e-06  0.6525  6e-02   2  1  1 |  0  0\n",
      "18  +2.465e-01  +2.465e-01  +6e-04  5e-07  8e-06  2e-05  7e-07  0.9890  5e-01   2  1  1 |  0  0\n",
      "19  +2.385e-01  +2.385e-01  +7e-05  5e-08  9e-07  2e-06  7e-08  0.9128  2e-02   2  1  1 |  0  0\n",
      "20  +2.375e-01  +2.375e-01  +2e-06  2e-09  3e-08  7e-08  2e-09  0.9753  6e-03   2  1  1 |  0  0\n",
      "21  +2.375e-01  +2.375e-01  +2e-07  1e-10  2e-09  6e-09  2e-10  0.9282  4e-03   2  1  1 |  0  0\n",
      "22  +2.375e-01  +2.375e-01  +5e-08  4e-11  6e-10  2e-09  5e-11  0.7625  1e-01   2  1  1 |  0  0\n",
      "23  +2.375e-01  +2.375e-01  +3e-08  2e-11  4e-10  1e-09  3e-11  0.5850  3e-01   2  1  1 |  0  0\n",
      "24  +2.375e-01  +2.375e-01  +2e-08  2e-11  3e-10  8e-10  2e-11  0.4179  5e-01   2  1  1 |  0  0\n",
      "25  +2.375e-01  +2.375e-01  +7e-09  6e-12  9e-11  3e-10  7e-12  0.9479  3e-01   1  1  1 |  0  0\n",
      "\n",
      "OPTIMAL (within feastol=9.0e-11, reltol=3.1e-08, abstol=7.3e-09).\n",
      "Runtime: 4.509611 seconds.\n",
      "\n",
      "-------------------------------------------------------------------------------\n",
      "                                    Summary                                    \n",
      "-------------------------------------------------------------------------------\n",
      "(CVXPY) Jun 06 10:25:29 PM: Problem status: optimal\n",
      "(CVXPY) Jun 06 10:25:29 PM: Optimal value: 2.375e-01\n",
      "(CVXPY) Jun 06 10:25:29 PM: Compilation took 3.640e-01 seconds\n",
      "(CVXPY) Jun 06 10:25:29 PM: Solver (including time spent in interface) took 4.516e+00 seconds\n"
     ]
    },
    {
     "data": {
      "text/plain": [
       "(0.9987784409824042,\n",
       " [0.003278842882865191,\n",
       "  0.0008712730403988974,\n",
       "  -0.006253484284270804,\n",
       "  0.0009068515290405028])"
      ]
     },
     "execution_count": 74,
     "metadata": {},
     "output_type": "execute_result"
    }
   ],
   "source": [
    "backtesting('2024-05-27',4)"
   ]
  }
 ],
 "metadata": {
  "kernelspec": {
   "display_name": "lwhf",
   "language": "python",
   "name": "python3"
  },
  "language_info": {
   "codemirror_mode": {
    "name": "ipython",
    "version": 3
   },
   "file_extension": ".py",
   "mimetype": "text/x-python",
   "name": "python",
   "nbconvert_exporter": "python",
   "pygments_lexer": "ipython3",
   "version": "3.10.6"
  }
 },
 "nbformat": 4,
 "nbformat_minor": 2
}

{
 "cells": [
  {
   "cell_type": "code",
   "execution_count": 2,
   "metadata": {},
   "outputs": [],
   "source": [
    "import yfinance as yf\n",
    "import bs4 as bs\n",
    "import requests\n",
    "import datetime\n",
    "import pandas as pd\n"
   ]
  },
  {
   "cell_type": "code",
   "execution_count": 22,
   "metadata": {},
   "outputs": [],
   "source": [
    "#GET TICKERS\n",
    "import yfinance as yf\n",
    "import pandas as pd\n",
    "\n",
    "# Read and print the stock tickers that make up S&P500\n",
    "tickers = pd.read_html(\n",
    "    'https://en.wikipedia.org/wiki/List_of_S%26P_500_companies')[0]\n",
    "\n",
    "tickers = list(tickers['Symbol'])"
   ]
  },
  {
   "cell_type": "code",
   "execution_count": 24,
   "metadata": {},
   "outputs": [
    {
     "name": "stderr",
     "output_type": "stream",
     "text": [
      "[**********************81%%*************         ]  408 of 503 completed"
     ]
    },
    {
     "name": "stdout",
     "output_type": "stream",
     "text": [
      "$BF.B: possibly delisted; No price data found  (1d 2000-01-01 00:00:00 -> 2024-06-09)\n"
     ]
    },
    {
     "name": "stderr",
     "output_type": "stream",
     "text": [
      "[*********************100%%**********************]  503 of 503 completed\n",
      "\n",
      "2 Failed downloads:\n",
      "['BRK.B']: YFTzMissingError('$%ticker%: possibly delisted; No timezone found')\n",
      "['BF.B']: YFPricesMissingError('$%ticker%: possibly delisted; No price data found  (1d 2000-01-01 00:00:00 -> 2024-06-09)')\n"
     ]
    }
   ],
   "source": [
    "# DOWNLOAD DATA\n",
    "startDate = datetime.datetime(2000, 1, 1)\n",
    "\n",
    "#granularity of data:\n",
    "#       Only less than 60 days): 1m, 2m, 5m, 15m, 30m, 60m, 90m, 1h\n",
    "#       any period = 1d, 5d, 1wk, 1mo, 3mo\n",
    "\n",
    "df_SP500_2000 = yf.download(tickers, start=startDate, group_by='tickers', interval = '1d') #.Close\n",
    "#see subheading\n",
    "df_SP500_2000['A'].columns"
   ]
  },
  {
   "cell_type": "code",
   "execution_count": 51,
   "metadata": {},
   "outputs": [
    {
     "name": "stderr",
     "output_type": "stream",
     "text": [
      "/var/folders/bl/sn6qzmq53s7gz65vwpf72tqr0000gn/T/ipykernel_45419/1072360024.py:1: PerformanceWarning: dropping on a non-lexsorted multi-index without a level parameter may impact performance.\n",
      "  df_SP500_2000 = df_SP500_2000.drop(columns = ['BRK.B', 'BF.B'])\n"
     ]
    }
   ],
   "source": [
    "df_SP500_2000 = df_SP500_2000.drop(columns = ['BRK.B', 'BF.B'])"
   ]
  },
  {
   "cell_type": "code",
   "execution_count": 49,
   "metadata": {},
   "outputs": [],
   "source": [
    "key_metrics = [\n",
    "    'trailingPE',\n",
    "    'forwardPE',\n",
    "    'trailingEps',\n",
    "    'forwardEps',\n",
    "    'pegRatio',\n",
    "    'totalRevenue',\n",
    "    'revenueGrowth',\n",
    "    'earningsQuarterlyGrowth',\n",
    "    'profitMargins',\n",
    "    'grossMargins',\n",
    "    'operatingMargins',\n",
    "    'returnOnAssets',\n",
    "    'returnOnEquity',\n",
    "    'freeCashflow',\n",
    "    'operatingCashflow',\n",
    "    'totalDebt',\n",
    "    'debtToEquity',\n",
    "    'currentPrice',\n",
    "    'volume',\n",
    "    'beta',\n",
    "    'recommendationMean',\n",
    "    'targetMeanPrice']"
   ]
  },
  {
   "cell_type": "code",
   "execution_count": 279,
   "metadata": {},
   "outputs": [
    {
     "name": "stderr",
     "output_type": "stream",
     "text": [
      "[*********************100%%**********************]  1 of 1 completed\n"
     ]
    }
   ],
   "source": [
    "from functools import reduce\n",
    "from datetime import datetime\n",
    "\n",
    "end = datetime.now()\n",
    "start = datetime(end.year - 24, end.month, end.day)\n",
    "\n",
    "stock = yf.Ticker('A')\n",
    "df_stock = yf.download('A', start, end)\n",
    "\n",
    "#dividens\n",
    "df_actions = stock.actions.Dividends\n",
    "df_actions.index =  pd.to_datetime(df_actions.index.map(lambda x: str(x)[:10]))\n",
    "#financials\n",
    "df_financials = stock.financials.transpose()\n",
    "df_balance_sheet = stock.balancesheet.transpose()\n",
    "df_cashflow = stock.cashflow.transpose()\n",
    "\n",
    "dfs = [df_stock, df_actions, df_financials, df_balance_sheet, df_cashflow]\n",
    "\n",
    "df_all = pd.DataFrame(reduce(lambda left, right: pd.merge(left, right, left_index=True, right_index=True, how='outer'), dfs))\n",
    "\n",
    "tick_col = ['A']*6038\n",
    "\n",
    "df_all['Ticker'] = tick_col"
   ]
  },
  {
   "cell_type": "code",
   "execution_count": 292,
   "metadata": {},
   "outputs": [
    {
     "data": {
      "text/html": [
       "<div>\n",
       "<style scoped>\n",
       "    .dataframe tbody tr th:only-of-type {\n",
       "        vertical-align: middle;\n",
       "    }\n",
       "\n",
       "    .dataframe tbody tr th {\n",
       "        vertical-align: top;\n",
       "    }\n",
       "\n",
       "    .dataframe thead th {\n",
       "        text-align: right;\n",
       "    }\n",
       "</style>\n",
       "<table border=\"1\" class=\"dataframe\">\n",
       "  <thead>\n",
       "    <tr style=\"text-align: right;\">\n",
       "      <th></th>\n",
       "      <th>Open</th>\n",
       "      <th>High</th>\n",
       "      <th>Low</th>\n",
       "      <th>Close</th>\n",
       "      <th>Adj Close</th>\n",
       "      <th>Volume</th>\n",
       "      <th>Dividends</th>\n",
       "      <th>Tax Effect Of Unusual Items</th>\n",
       "      <th>Tax Rate For Calcs</th>\n",
       "      <th>Normalized EBITDA</th>\n",
       "      <th>...</th>\n",
       "      <th>Asset Impairment Charge</th>\n",
       "      <th>Deferred Tax</th>\n",
       "      <th>Deferred Income Tax</th>\n",
       "      <th>Depreciation Amortization Depletion</th>\n",
       "      <th>Depreciation And Amortization</th>\n",
       "      <th>Operating Gains Losses</th>\n",
       "      <th>Gain Loss On Investment Securities</th>\n",
       "      <th>Gain Loss On Sale Of Business</th>\n",
       "      <th>Net Income From Continuing Operations</th>\n",
       "      <th>Ticker</th>\n",
       "    </tr>\n",
       "  </thead>\n",
       "  <tbody>\n",
       "    <tr>\n",
       "      <th>2000-06-12</th>\n",
       "      <td>51.949211</td>\n",
       "      <td>51.949211</td>\n",
       "      <td>46.673820</td>\n",
       "      <td>47.210300</td>\n",
       "      <td>39.978600</td>\n",
       "      <td>5674901.0</td>\n",
       "      <td>NaN</td>\n",
       "      <td>NaN</td>\n",
       "      <td>NaN</td>\n",
       "      <td>NaN</td>\n",
       "      <td>...</td>\n",
       "      <td>NaN</td>\n",
       "      <td>NaN</td>\n",
       "      <td>NaN</td>\n",
       "      <td>NaN</td>\n",
       "      <td>NaN</td>\n",
       "      <td>NaN</td>\n",
       "      <td>NaN</td>\n",
       "      <td>NaN</td>\n",
       "      <td>NaN</td>\n",
       "      <td>A</td>\n",
       "    </tr>\n",
       "    <tr>\n",
       "      <th>2000-06-13</th>\n",
       "      <td>46.137341</td>\n",
       "      <td>51.323318</td>\n",
       "      <td>46.137341</td>\n",
       "      <td>49.400928</td>\n",
       "      <td>41.833668</td>\n",
       "      <td>7718358.0</td>\n",
       "      <td>NaN</td>\n",
       "      <td>NaN</td>\n",
       "      <td>NaN</td>\n",
       "      <td>NaN</td>\n",
       "      <td>...</td>\n",
       "      <td>NaN</td>\n",
       "      <td>NaN</td>\n",
       "      <td>NaN</td>\n",
       "      <td>NaN</td>\n",
       "      <td>NaN</td>\n",
       "      <td>NaN</td>\n",
       "      <td>NaN</td>\n",
       "      <td>NaN</td>\n",
       "      <td>NaN</td>\n",
       "      <td>A</td>\n",
       "    </tr>\n",
       "    <tr>\n",
       "      <th>2000-06-14</th>\n",
       "      <td>50.608009</td>\n",
       "      <td>51.144493</td>\n",
       "      <td>47.925610</td>\n",
       "      <td>48.462090</td>\n",
       "      <td>41.038635</td>\n",
       "      <td>5610873.0</td>\n",
       "      <td>NaN</td>\n",
       "      <td>NaN</td>\n",
       "      <td>NaN</td>\n",
       "      <td>NaN</td>\n",
       "      <td>...</td>\n",
       "      <td>NaN</td>\n",
       "      <td>NaN</td>\n",
       "      <td>NaN</td>\n",
       "      <td>NaN</td>\n",
       "      <td>NaN</td>\n",
       "      <td>NaN</td>\n",
       "      <td>NaN</td>\n",
       "      <td>NaN</td>\n",
       "      <td>NaN</td>\n",
       "      <td>A</td>\n",
       "    </tr>\n",
       "    <tr>\n",
       "      <th>2000-06-15</th>\n",
       "      <td>48.596210</td>\n",
       "      <td>48.596210</td>\n",
       "      <td>46.360874</td>\n",
       "      <td>47.165592</td>\n",
       "      <td>39.940723</td>\n",
       "      <td>6797775.0</td>\n",
       "      <td>NaN</td>\n",
       "      <td>NaN</td>\n",
       "      <td>NaN</td>\n",
       "      <td>NaN</td>\n",
       "      <td>...</td>\n",
       "      <td>NaN</td>\n",
       "      <td>NaN</td>\n",
       "      <td>NaN</td>\n",
       "      <td>NaN</td>\n",
       "      <td>NaN</td>\n",
       "      <td>NaN</td>\n",
       "      <td>NaN</td>\n",
       "      <td>NaN</td>\n",
       "      <td>NaN</td>\n",
       "      <td>A</td>\n",
       "    </tr>\n",
       "    <tr>\n",
       "      <th>2000-06-16</th>\n",
       "      <td>47.344421</td>\n",
       "      <td>47.612659</td>\n",
       "      <td>44.349072</td>\n",
       "      <td>44.796139</td>\n",
       "      <td>37.934242</td>\n",
       "      <td>6487699.0</td>\n",
       "      <td>NaN</td>\n",
       "      <td>NaN</td>\n",
       "      <td>NaN</td>\n",
       "      <td>NaN</td>\n",
       "      <td>...</td>\n",
       "      <td>NaN</td>\n",
       "      <td>NaN</td>\n",
       "      <td>NaN</td>\n",
       "      <td>NaN</td>\n",
       "      <td>NaN</td>\n",
       "      <td>NaN</td>\n",
       "      <td>NaN</td>\n",
       "      <td>NaN</td>\n",
       "      <td>NaN</td>\n",
       "      <td>A</td>\n",
       "    </tr>\n",
       "    <tr>\n",
       "      <th>...</th>\n",
       "      <td>...</td>\n",
       "      <td>...</td>\n",
       "      <td>...</td>\n",
       "      <td>...</td>\n",
       "      <td>...</td>\n",
       "      <td>...</td>\n",
       "      <td>...</td>\n",
       "      <td>...</td>\n",
       "      <td>...</td>\n",
       "      <td>...</td>\n",
       "      <td>...</td>\n",
       "      <td>...</td>\n",
       "      <td>...</td>\n",
       "      <td>...</td>\n",
       "      <td>...</td>\n",
       "      <td>...</td>\n",
       "      <td>...</td>\n",
       "      <td>...</td>\n",
       "      <td>...</td>\n",
       "      <td>...</td>\n",
       "      <td>...</td>\n",
       "    </tr>\n",
       "    <tr>\n",
       "      <th>2024-06-03</th>\n",
       "      <td>130.000000</td>\n",
       "      <td>132.580002</td>\n",
       "      <td>130.000000</td>\n",
       "      <td>131.399994</td>\n",
       "      <td>131.399994</td>\n",
       "      <td>3114800.0</td>\n",
       "      <td>NaN</td>\n",
       "      <td>NaN</td>\n",
       "      <td>NaN</td>\n",
       "      <td>NaN</td>\n",
       "      <td>...</td>\n",
       "      <td>NaN</td>\n",
       "      <td>NaN</td>\n",
       "      <td>NaN</td>\n",
       "      <td>NaN</td>\n",
       "      <td>NaN</td>\n",
       "      <td>NaN</td>\n",
       "      <td>NaN</td>\n",
       "      <td>NaN</td>\n",
       "      <td>NaN</td>\n",
       "      <td>A</td>\n",
       "    </tr>\n",
       "    <tr>\n",
       "      <th>2024-06-04</th>\n",
       "      <td>131.240005</td>\n",
       "      <td>132.250000</td>\n",
       "      <td>130.279999</td>\n",
       "      <td>130.850006</td>\n",
       "      <td>130.850006</td>\n",
       "      <td>2893700.0</td>\n",
       "      <td>NaN</td>\n",
       "      <td>NaN</td>\n",
       "      <td>NaN</td>\n",
       "      <td>NaN</td>\n",
       "      <td>...</td>\n",
       "      <td>NaN</td>\n",
       "      <td>NaN</td>\n",
       "      <td>NaN</td>\n",
       "      <td>NaN</td>\n",
       "      <td>NaN</td>\n",
       "      <td>NaN</td>\n",
       "      <td>NaN</td>\n",
       "      <td>NaN</td>\n",
       "      <td>NaN</td>\n",
       "      <td>A</td>\n",
       "    </tr>\n",
       "    <tr>\n",
       "      <th>2024-06-05</th>\n",
       "      <td>130.539993</td>\n",
       "      <td>134.199997</td>\n",
       "      <td>130.009995</td>\n",
       "      <td>133.559998</td>\n",
       "      <td>133.559998</td>\n",
       "      <td>2707500.0</td>\n",
       "      <td>NaN</td>\n",
       "      <td>NaN</td>\n",
       "      <td>NaN</td>\n",
       "      <td>NaN</td>\n",
       "      <td>...</td>\n",
       "      <td>NaN</td>\n",
       "      <td>NaN</td>\n",
       "      <td>NaN</td>\n",
       "      <td>NaN</td>\n",
       "      <td>NaN</td>\n",
       "      <td>NaN</td>\n",
       "      <td>NaN</td>\n",
       "      <td>NaN</td>\n",
       "      <td>NaN</td>\n",
       "      <td>A</td>\n",
       "    </tr>\n",
       "    <tr>\n",
       "      <th>2024-06-06</th>\n",
       "      <td>132.460007</td>\n",
       "      <td>134.350006</td>\n",
       "      <td>132.279999</td>\n",
       "      <td>132.820007</td>\n",
       "      <td>132.820007</td>\n",
       "      <td>2269600.0</td>\n",
       "      <td>NaN</td>\n",
       "      <td>NaN</td>\n",
       "      <td>NaN</td>\n",
       "      <td>NaN</td>\n",
       "      <td>...</td>\n",
       "      <td>NaN</td>\n",
       "      <td>NaN</td>\n",
       "      <td>NaN</td>\n",
       "      <td>NaN</td>\n",
       "      <td>NaN</td>\n",
       "      <td>NaN</td>\n",
       "      <td>NaN</td>\n",
       "      <td>NaN</td>\n",
       "      <td>NaN</td>\n",
       "      <td>A</td>\n",
       "    </tr>\n",
       "    <tr>\n",
       "      <th>2024-06-07</th>\n",
       "      <td>131.949997</td>\n",
       "      <td>133.379898</td>\n",
       "      <td>131.289993</td>\n",
       "      <td>132.979996</td>\n",
       "      <td>132.979996</td>\n",
       "      <td>2362371.0</td>\n",
       "      <td>NaN</td>\n",
       "      <td>NaN</td>\n",
       "      <td>NaN</td>\n",
       "      <td>NaN</td>\n",
       "      <td>...</td>\n",
       "      <td>NaN</td>\n",
       "      <td>NaN</td>\n",
       "      <td>NaN</td>\n",
       "      <td>NaN</td>\n",
       "      <td>NaN</td>\n",
       "      <td>NaN</td>\n",
       "      <td>NaN</td>\n",
       "      <td>NaN</td>\n",
       "      <td>NaN</td>\n",
       "      <td>A</td>\n",
       "    </tr>\n",
       "  </tbody>\n",
       "</table>\n",
       "<p>6038 rows × 172 columns</p>\n",
       "</div>"
      ],
      "text/plain": [
       "                  Open        High         Low       Close   Adj Close  \\\n",
       "2000-06-12   51.949211   51.949211   46.673820   47.210300   39.978600   \n",
       "2000-06-13   46.137341   51.323318   46.137341   49.400928   41.833668   \n",
       "2000-06-14   50.608009   51.144493   47.925610   48.462090   41.038635   \n",
       "2000-06-15   48.596210   48.596210   46.360874   47.165592   39.940723   \n",
       "2000-06-16   47.344421   47.612659   44.349072   44.796139   37.934242   \n",
       "...                ...         ...         ...         ...         ...   \n",
       "2024-06-03  130.000000  132.580002  130.000000  131.399994  131.399994   \n",
       "2024-06-04  131.240005  132.250000  130.279999  130.850006  130.850006   \n",
       "2024-06-05  130.539993  134.199997  130.009995  133.559998  133.559998   \n",
       "2024-06-06  132.460007  134.350006  132.279999  132.820007  132.820007   \n",
       "2024-06-07  131.949997  133.379898  131.289993  132.979996  132.979996   \n",
       "\n",
       "               Volume  Dividends Tax Effect Of Unusual Items  \\\n",
       "2000-06-12  5674901.0        NaN                         NaN   \n",
       "2000-06-13  7718358.0        NaN                         NaN   \n",
       "2000-06-14  5610873.0        NaN                         NaN   \n",
       "2000-06-15  6797775.0        NaN                         NaN   \n",
       "2000-06-16  6487699.0        NaN                         NaN   \n",
       "...               ...        ...                         ...   \n",
       "2024-06-03  3114800.0        NaN                         NaN   \n",
       "2024-06-04  2893700.0        NaN                         NaN   \n",
       "2024-06-05  2707500.0        NaN                         NaN   \n",
       "2024-06-06  2269600.0        NaN                         NaN   \n",
       "2024-06-07  2362371.0        NaN                         NaN   \n",
       "\n",
       "           Tax Rate For Calcs Normalized EBITDA  ... Asset Impairment Charge  \\\n",
       "2000-06-12                NaN               NaN  ...                     NaN   \n",
       "2000-06-13                NaN               NaN  ...                     NaN   \n",
       "2000-06-14                NaN               NaN  ...                     NaN   \n",
       "2000-06-15                NaN               NaN  ...                     NaN   \n",
       "2000-06-16                NaN               NaN  ...                     NaN   \n",
       "...                       ...               ...  ...                     ...   \n",
       "2024-06-03                NaN               NaN  ...                     NaN   \n",
       "2024-06-04                NaN               NaN  ...                     NaN   \n",
       "2024-06-05                NaN               NaN  ...                     NaN   \n",
       "2024-06-06                NaN               NaN  ...                     NaN   \n",
       "2024-06-07                NaN               NaN  ...                     NaN   \n",
       "\n",
       "           Deferred Tax Deferred Income Tax  \\\n",
       "2000-06-12          NaN                 NaN   \n",
       "2000-06-13          NaN                 NaN   \n",
       "2000-06-14          NaN                 NaN   \n",
       "2000-06-15          NaN                 NaN   \n",
       "2000-06-16          NaN                 NaN   \n",
       "...                 ...                 ...   \n",
       "2024-06-03          NaN                 NaN   \n",
       "2024-06-04          NaN                 NaN   \n",
       "2024-06-05          NaN                 NaN   \n",
       "2024-06-06          NaN                 NaN   \n",
       "2024-06-07          NaN                 NaN   \n",
       "\n",
       "           Depreciation Amortization Depletion Depreciation And Amortization  \\\n",
       "2000-06-12                                 NaN                           NaN   \n",
       "2000-06-13                                 NaN                           NaN   \n",
       "2000-06-14                                 NaN                           NaN   \n",
       "2000-06-15                                 NaN                           NaN   \n",
       "2000-06-16                                 NaN                           NaN   \n",
       "...                                        ...                           ...   \n",
       "2024-06-03                                 NaN                           NaN   \n",
       "2024-06-04                                 NaN                           NaN   \n",
       "2024-06-05                                 NaN                           NaN   \n",
       "2024-06-06                                 NaN                           NaN   \n",
       "2024-06-07                                 NaN                           NaN   \n",
       "\n",
       "           Operating Gains Losses Gain Loss On Investment Securities  \\\n",
       "2000-06-12                    NaN                                NaN   \n",
       "2000-06-13                    NaN                                NaN   \n",
       "2000-06-14                    NaN                                NaN   \n",
       "2000-06-15                    NaN                                NaN   \n",
       "2000-06-16                    NaN                                NaN   \n",
       "...                           ...                                ...   \n",
       "2024-06-03                    NaN                                NaN   \n",
       "2024-06-04                    NaN                                NaN   \n",
       "2024-06-05                    NaN                                NaN   \n",
       "2024-06-06                    NaN                                NaN   \n",
       "2024-06-07                    NaN                                NaN   \n",
       "\n",
       "           Gain Loss On Sale Of Business  \\\n",
       "2000-06-12                           NaN   \n",
       "2000-06-13                           NaN   \n",
       "2000-06-14                           NaN   \n",
       "2000-06-15                           NaN   \n",
       "2000-06-16                           NaN   \n",
       "...                                  ...   \n",
       "2024-06-03                           NaN   \n",
       "2024-06-04                           NaN   \n",
       "2024-06-05                           NaN   \n",
       "2024-06-06                           NaN   \n",
       "2024-06-07                           NaN   \n",
       "\n",
       "           Net Income From Continuing Operations Ticker  \n",
       "2000-06-12                                   NaN      A  \n",
       "2000-06-13                                   NaN      A  \n",
       "2000-06-14                                   NaN      A  \n",
       "2000-06-15                                   NaN      A  \n",
       "2000-06-16                                   NaN      A  \n",
       "...                                          ...    ...  \n",
       "2024-06-03                                   NaN      A  \n",
       "2024-06-04                                   NaN      A  \n",
       "2024-06-05                                   NaN      A  \n",
       "2024-06-06                                   NaN      A  \n",
       "2024-06-07                                   NaN      A  \n",
       "\n",
       "[6038 rows x 172 columns]"
      ]
     },
     "execution_count": 292,
     "metadata": {},
     "output_type": "execute_result"
    }
   ],
   "source": [
    "df_all"
   ]
  },
  {
   "cell_type": "code",
   "execution_count": null,
   "metadata": {},
   "outputs": [],
   "source": [
    "from functools import reduce\n",
    "from datetime import datetime\n",
    "\n",
    "#will not have data\n",
    "tickers.remove(['BRK.B', 'BF.B'])\n",
    "\n",
    "end = datetime.now()\n",
    "start = datetime(end.year - 24, end.month, end.day)\n",
    "\n",
    "\n",
    "def get_df_ticker(ticker):\n",
    "\n",
    "    print(f'Getting data for ticker {ticker}')\n",
    "\n",
    "    stock = yf.Ticker(f'{ticker}')\n",
    "    df_stock = yf.download(f'{ticker}', start, end)\n",
    "\n",
    "    #dividens\n",
    "    df_actions = stock.actions.Dividends\n",
    "\n",
    "    #financials\n",
    "    df_financials = stock.financials.transpose()\n",
    "    df_balance_sheet = stock.balancesheet.transpose()\n",
    "    df_cashflow = stock.cashflow.transpose()\n",
    "\n",
    "    #some dont have any\n",
    "    if df_actions.shape[0] != 0:\n",
    "        df_actions.index =  pd.to_datetime(df_actions.index.map(lambda x: str(x)[:10]))\n",
    "        dfs = [df_stock, df_actions, df_financials, df_balance_sheet, df_cashflow]\n",
    "\n",
    "    else:\n",
    "        dfs = [df_stock, df_financials, df_balance_sheet, df_cashflow]\n",
    "\n",
    "    df_all = pd.DataFrame(reduce(lambda left, right: pd.merge(left, right, left_index=True, right_index=True, how='outer'), dfs))\n",
    "\n",
    "    print(df_all.shape[0])\n",
    "\n",
    "    tick_col = [f'{ticker}']* df_all.shape[0]\n",
    "\n",
    "    df_all['Ticker'] = tick_col\n",
    "\n",
    "    return df_all\n",
    "\n",
    "\n",
    "df_result = get_df_ticker(tickers[0])\n",
    "\n",
    "for ticker_name in tickers[1:]:\n",
    "\n",
    "    df_all = get_df_ticker(ticker_name)\n",
    "\n",
    "    df_all = pd.concat([df_result, df_all], ignore_index=False, join='outer' )\n",
    "\n",
    "    df_result = df_all.copy()"
   ]
  },
  {
   "cell_type": "code",
   "execution_count": 350,
   "metadata": {},
   "outputs": [
    {
     "name": "stdout",
     "output_type": "stream",
     "text": [
      "Getting data for ticker VRSK\n"
     ]
    },
    {
     "name": "stderr",
     "output_type": "stream",
     "text": [
      "[*********************100%%**********************]  1 of 1 completed\n"
     ]
    },
    {
     "name": "stdout",
     "output_type": "stream",
     "text": [
      "3695\n",
      "Getting data for ticker VZ\n"
     ]
    },
    {
     "name": "stderr",
     "output_type": "stream",
     "text": [
      "[*********************100%%**********************]  1 of 1 completed\n"
     ]
    },
    {
     "name": "stdout",
     "output_type": "stream",
     "text": [
      "6105\n",
      "Getting data for ticker VRTX\n"
     ]
    },
    {
     "name": "stderr",
     "output_type": "stream",
     "text": [
      "[*********************100%%**********************]  1 of 1 completed\n"
     ]
    },
    {
     "name": "stdout",
     "output_type": "stream",
     "text": [
      "6039\n",
      "Getting data for ticker VTRS\n"
     ]
    },
    {
     "name": "stderr",
     "output_type": "stream",
     "text": [
      "[*********************100%%**********************]  1 of 1 completed\n"
     ]
    },
    {
     "name": "stdout",
     "output_type": "stream",
     "text": [
      "6088\n",
      "Getting data for ticker VICI\n"
     ]
    },
    {
     "name": "stderr",
     "output_type": "stream",
     "text": [
      "[*********************100%%**********************]  1 of 1 completed\n"
     ]
    },
    {
     "name": "stdout",
     "output_type": "stream",
     "text": [
      "1622\n",
      "Getting data for ticker V\n"
     ]
    },
    {
     "name": "stderr",
     "output_type": "stream",
     "text": [
      "[*********************100%%**********************]  1 of 1 completed\n"
     ]
    },
    {
     "name": "stdout",
     "output_type": "stream",
     "text": [
      "4086\n",
      "Getting data for ticker VST\n"
     ]
    },
    {
     "name": "stderr",
     "output_type": "stream",
     "text": [
      "[*********************100%%**********************]  1 of 1 completed\n"
     ]
    },
    {
     "name": "stdout",
     "output_type": "stream",
     "text": [
      "1934\n",
      "Getting data for ticker VMC\n"
     ]
    },
    {
     "name": "stderr",
     "output_type": "stream",
     "text": [
      "[*********************100%%**********************]  1 of 1 completed\n"
     ]
    },
    {
     "name": "stdout",
     "output_type": "stream",
     "text": [
      "6096\n",
      "Getting data for ticker WRB\n"
     ]
    },
    {
     "name": "stderr",
     "output_type": "stream",
     "text": [
      "[*********************100%%**********************]  1 of 1 completed\n"
     ]
    },
    {
     "name": "stdout",
     "output_type": "stream",
     "text": [
      "6097\n",
      "Getting data for ticker GWW\n"
     ]
    },
    {
     "name": "stderr",
     "output_type": "stream",
     "text": [
      "[*********************100%%**********************]  1 of 1 completed\n"
     ]
    },
    {
     "name": "stdout",
     "output_type": "stream",
     "text": [
      "6104\n",
      "Getting data for ticker WAB\n"
     ]
    },
    {
     "name": "stderr",
     "output_type": "stream",
     "text": [
      "[*********************100%%**********************]  1 of 1 completed\n"
     ]
    },
    {
     "name": "stdout",
     "output_type": "stream",
     "text": [
      "6058\n",
      "Getting data for ticker WBA\n"
     ]
    },
    {
     "name": "stderr",
     "output_type": "stream",
     "text": [
      "[*********************100%%**********************]  1 of 1 completed\n"
     ]
    },
    {
     "name": "stdout",
     "output_type": "stream",
     "text": [
      "6105\n",
      "Getting data for ticker WMT\n"
     ]
    },
    {
     "name": "stderr",
     "output_type": "stream",
     "text": [
      "[*********************100%%**********************]  1 of 1 completed\n"
     ]
    },
    {
     "name": "stdout",
     "output_type": "stream",
     "text": [
      "6150\n",
      "Getting data for ticker DIS\n"
     ]
    },
    {
     "name": "stderr",
     "output_type": "stream",
     "text": [
      "[*********************100%%**********************]  1 of 1 completed\n"
     ]
    },
    {
     "name": "stdout",
     "output_type": "stream",
     "text": [
      "6143\n",
      "Getting data for ticker WBD\n"
     ]
    },
    {
     "name": "stderr",
     "output_type": "stream",
     "text": [
      "[*********************100%%**********************]  1 of 1 completed\n"
     ]
    },
    {
     "name": "stdout",
     "output_type": "stream",
     "text": [
      "4765\n",
      "Getting data for ticker WM\n"
     ]
    },
    {
     "name": "stderr",
     "output_type": "stream",
     "text": [
      "[*********************100%%**********************]  1 of 1 completed\n"
     ]
    },
    {
     "name": "stdout",
     "output_type": "stream",
     "text": [
      "6042\n",
      "Getting data for ticker WAT\n"
     ]
    },
    {
     "name": "stderr",
     "output_type": "stream",
     "text": [
      "[*********************100%%**********************]  1 of 1 completed\n"
     ]
    },
    {
     "name": "stdout",
     "output_type": "stream",
     "text": [
      "6040\n",
      "Getting data for ticker WEC\n"
     ]
    },
    {
     "name": "stderr",
     "output_type": "stream",
     "text": [
      "[*********************100%%**********************]  1 of 1 completed\n"
     ]
    },
    {
     "name": "stdout",
     "output_type": "stream",
     "text": [
      "6097\n",
      "Getting data for ticker WFC\n"
     ]
    },
    {
     "name": "stderr",
     "output_type": "stream",
     "text": [
      "[*********************100%%**********************]  1 of 1 completed\n"
     ]
    },
    {
     "name": "stdout",
     "output_type": "stream",
     "text": [
      "6156\n",
      "Getting data for ticker WELL\n"
     ]
    },
    {
     "name": "stderr",
     "output_type": "stream",
     "text": [
      "[*********************100%%**********************]  1 of 1 completed\n"
     ]
    },
    {
     "name": "stdout",
     "output_type": "stream",
     "text": [
      "6094\n",
      "Getting data for ticker WST\n"
     ]
    },
    {
     "name": "stderr",
     "output_type": "stream",
     "text": [
      "[*********************100%%**********************]  1 of 1 completed\n"
     ]
    },
    {
     "name": "stdout",
     "output_type": "stream",
     "text": [
      "6095\n",
      "Getting data for ticker WDC\n"
     ]
    },
    {
     "name": "stderr",
     "output_type": "stream",
     "text": [
      "[*********************100%%**********************]  1 of 1 completed\n"
     ]
    },
    {
     "name": "stdout",
     "output_type": "stream",
     "text": [
      "6039\n",
      "Getting data for ticker WRK\n"
     ]
    },
    {
     "name": "stderr",
     "output_type": "stream",
     "text": [
      "[*********************100%%**********************]  1 of 1 completed\n"
     ]
    },
    {
     "name": "stdout",
     "output_type": "stream",
     "text": [
      "2257\n",
      "Getting data for ticker WY\n"
     ]
    },
    {
     "name": "stderr",
     "output_type": "stream",
     "text": [
      "[*********************100%%**********************]  1 of 1 completed\n"
     ]
    },
    {
     "name": "stdout",
     "output_type": "stream",
     "text": [
      "6135\n",
      "Getting data for ticker WMB\n"
     ]
    },
    {
     "name": "stderr",
     "output_type": "stream",
     "text": [
      "[*********************100%%**********************]  1 of 1 completed\n"
     ]
    },
    {
     "name": "stdout",
     "output_type": "stream",
     "text": [
      "6116\n",
      "Getting data for ticker WTW\n"
     ]
    },
    {
     "name": "stderr",
     "output_type": "stream",
     "text": [
      "[*********************100%%**********************]  1 of 1 completed\n"
     ]
    },
    {
     "name": "stdout",
     "output_type": "stream",
     "text": [
      "5787\n",
      "Getting data for ticker WYNN\n"
     ]
    },
    {
     "name": "stderr",
     "output_type": "stream",
     "text": [
      "[*********************100%%**********************]  1 of 1 completed\n"
     ]
    },
    {
     "name": "stdout",
     "output_type": "stream",
     "text": [
      "5444\n",
      "Getting data for ticker XEL\n"
     ]
    },
    {
     "name": "stderr",
     "output_type": "stream",
     "text": [
      "[*********************100%%**********************]  1 of 1 completed\n"
     ]
    },
    {
     "name": "stdout",
     "output_type": "stream",
     "text": [
      "6101\n",
      "Getting data for ticker XYL\n"
     ]
    },
    {
     "name": "stderr",
     "output_type": "stream",
     "text": [
      "[*********************100%%**********************]  1 of 1 completed\n"
     ]
    },
    {
     "name": "stdout",
     "output_type": "stream",
     "text": [
      "3186\n",
      "Getting data for ticker YUM\n"
     ]
    },
    {
     "name": "stderr",
     "output_type": "stream",
     "text": [
      "[*********************100%%**********************]  1 of 1 completed\n"
     ]
    },
    {
     "name": "stdout",
     "output_type": "stream",
     "text": [
      "6039\n",
      "Getting data for ticker ZBRA\n"
     ]
    },
    {
     "name": "stderr",
     "output_type": "stream",
     "text": [
      "[*********************100%%**********************]  1 of 1 completed\n"
     ]
    },
    {
     "name": "stdout",
     "output_type": "stream",
     "text": [
      "6040\n",
      "Getting data for ticker ZBH\n"
     ]
    },
    {
     "name": "stderr",
     "output_type": "stream",
     "text": [
      "[*********************100%%**********************]  1 of 1 completed\n"
     ]
    },
    {
     "name": "stdout",
     "output_type": "stream",
     "text": [
      "5757\n",
      "Getting data for ticker ZTS\n"
     ]
    },
    {
     "name": "stderr",
     "output_type": "stream",
     "text": [
      "[*********************100%%**********************]  1 of 1 completed\n"
     ]
    },
    {
     "name": "stdout",
     "output_type": "stream",
     "text": [
      "2860\n"
     ]
    }
   ],
   "source": [
    "for ticker_name in tickers[470:]:\n",
    "\n",
    "    df_all = get_df_ticker(ticker_name)\n",
    "\n",
    "    df_all = pd.concat([df_result, df_all], ignore_index=False, join='outer' )\n",
    "\n",
    "    df_result = df_all.copy()"
   ]
  },
  {
   "cell_type": "code",
   "execution_count": 353,
   "metadata": {},
   "outputs": [],
   "source": [
    "#add data locally\n",
    "df_result.to_csv(\"../../raw_data/yf_2000_metrics_all.csv\")"
   ]
  },
  {
   "cell_type": "code",
   "execution_count": null,
   "metadata": {},
   "outputs": [],
   "source": [
    "'''\n",
    "To fill values of dividends\n",
    "\n",
    "def custom_forward_fill(series):\n",
    "    last_value = None\n",
    "    for i, value in series.items():\n",
    "        if pd.isnull(value):\n",
    "            if last_value is not None:\n",
    "                series[i] = last_value*0.99\n",
    "                last_value = series[i].copy()\n",
    "        else:\n",
    "            last_value = value\n",
    "    return series\n",
    "\n",
    "# Apply custom forward fill to each column\n",
    "filled_df = list(map(lambda x :custom_forward_fill(x), [merged_df.Dividends]))[0]\n",
    "merged_df.Dividends = pd.DataFrame(filled_df).Dividends\n",
    "'''"
   ]
  },
  {
   "cell_type": "code",
   "execution_count": 1,
   "metadata": {},
   "outputs": [],
   "source": [
    "import pandas as pd\n",
    "#check correctly imported\n",
    "yf_2000_metrics_all = pd.read_csv('../../raw_data/yf_2000_metrics_all.csv')"
   ]
  },
  {
   "cell_type": "code",
   "execution_count": 6,
   "metadata": {},
   "outputs": [
    {
     "name": "stdout",
     "output_type": "stream",
     "text": [
      "Unnamed: 0\n",
      "Open\n",
      "High\n",
      "Low\n",
      "Close\n",
      "Adj Close\n",
      "Volume\n",
      "Dividends\n",
      "Tax Effect Of Unusual Items\n",
      "Tax Rate For Calcs\n",
      "Normalized EBITDA\n",
      "Total Unusual Items\n",
      "Total Unusual Items Excluding Goodwill\n",
      "Net Income From Continuing Operation Net Minority Interest\n",
      "Reconciled Depreciation\n",
      "Reconciled Cost Of Revenue\n",
      "EBITDA\n",
      "EBIT\n",
      "Net Interest Income\n",
      "Interest Expense\n",
      "Interest Income\n",
      "Normalized Income\n",
      "Net Income From Continuing And Discontinued Operation\n",
      "Total Expenses\n",
      "Total Operating Income As Reported\n",
      "Diluted Average Shares\n",
      "Basic Average Shares\n",
      "Diluted EPS\n",
      "Basic EPS\n",
      "Diluted NI Availto Com Stockholders\n",
      "Net Income Common Stockholders\n",
      "Net Income\n",
      "Minority Interests\n",
      "Net Income Including Noncontrolling Interests\n",
      "Net Income Continuous Operations\n",
      "Earnings From Equity Interest Net Of Tax\n",
      "Tax Provision\n",
      "Pretax Income\n",
      "Other Income Expense\n",
      "Other Non Operating Income Expenses\n",
      "Special Income Charges\n",
      "Gain On Sale Of Business\n",
      "Impairment Of Capital Assets\n",
      "Net Non Operating Interest Income Expense\n",
      "Interest Expense Non Operating\n",
      "Interest Income Non Operating\n",
      "Operating Income\n",
      "Operating Expense\n",
      "Research And Development\n",
      "Selling General And Administration\n",
      "General And Administrative Expense\n",
      "Other Gand A\n",
      "Salaries And Wages\n",
      "Gross Profit\n",
      "Cost Of Revenue\n",
      "Total Revenue\n",
      "Operating Revenue\n",
      "Treasury Shares Number\n",
      "Ordinary Shares Number\n",
      "Share Issued\n",
      "Net Debt\n",
      "Total Debt\n",
      "Tangible Book Value\n",
      "Invested Capital\n",
      "Working Capital\n",
      "Net Tangible Assets\n",
      "Capital Lease Obligations\n",
      "Common Stock Equity\n",
      "Total Capitalization\n",
      "Total Equity Gross Minority Interest\n",
      "Minority Interest\n",
      "Stockholders Equity\n",
      "Gains Losses Not Affecting Retained Earnings\n",
      "Other Equity Adjustments\n",
      "Treasury Stock\n",
      "Retained Earnings\n",
      "Additional Paid In Capital\n",
      "Capital Stock\n",
      "Common Stock\n",
      "Total Liabilities Net Minority Interest\n",
      "Total Non Current Liabilities Net Minority Interest\n",
      "Other Non Current Liabilities\n",
      "Employee Benefits\n",
      "Non Current Pension And Other Postretirement Benefit Plans\n",
      "Tradeand Other Payables Non Current\n",
      "Non Current Deferred Liabilities\n",
      "Non Current Deferred Taxes Liabilities\n",
      "Long Term Debt And Capital Lease Obligation\n",
      "Long Term Capital Lease Obligation\n",
      "Long Term Debt\n",
      "Current Liabilities\n",
      "Other Current Liabilities\n",
      "Current Deferred Liabilities\n",
      "Current Deferred Revenue\n",
      "Current Debt And Capital Lease Obligation\n",
      "Current Capital Lease Obligation\n",
      "Current Debt\n",
      "Other Current Borrowings\n",
      "Line Of Credit\n",
      "Commercial Paper\n",
      "Pensionand Other Post Retirement Benefit Plans Current\n",
      "Payables And Accrued Expenses\n",
      "Current Accrued Expenses\n",
      "Payables\n",
      "Total Tax Payable\n",
      "Income Tax Payable\n",
      "Accounts Payable\n",
      "Total Assets\n",
      "Total Non Current Assets\n",
      "Other Non Current Assets\n",
      "Defined Pension Benefit\n",
      "Non Current Deferred Assets\n",
      "Non Current Deferred Taxes Assets\n",
      "Non Current Accounts Receivable\n",
      "Investments And Advances\n",
      "Investmentin Financial Assets\n",
      "Long Term Equity Investment\n",
      "Goodwill And Other Intangible Assets\n",
      "Other Intangible Assets\n",
      "Goodwill\n",
      "Net PPE\n",
      "Accumulated Depreciation\n",
      "Gross PPE\n",
      "Construction In Progress\n",
      "Other Properties\n",
      "Machinery Furniture Equipment\n",
      "Buildings And Improvements\n",
      "Land And Improvements\n",
      "Properties\n",
      "Current Assets\n",
      "Other Current Assets\n",
      "Hedging Assets Current\n",
      "Restricted Cash\n",
      "Prepaid Assets\n",
      "Inventory\n",
      "Finished Goods\n",
      "Work In Process\n",
      "Raw Materials\n",
      "Receivables\n",
      "Other Receivables\n",
      "Accounts Receivable\n",
      "Allowance For Doubtful Accounts Receivable\n",
      "Gross Accounts Receivable\n",
      "Cash Cash Equivalents And Short Term Investments\n",
      "Other Short Term Investments\n",
      "Cash And Cash Equivalents\n",
      "Free Cash Flow\n",
      "Repurchase Of Capital Stock\n",
      "Repayment Of Debt\n",
      "Issuance Of Debt\n",
      "Issuance Of Capital Stock\n",
      "Capital Expenditure\n",
      "Interest Paid Supplemental Data\n",
      "Income Tax Paid Supplemental Data\n",
      "End Cash Position\n",
      "Beginning Cash Position\n",
      "Effect Of Exchange Rate Changes\n",
      "Changes In Cash\n",
      "Financing Cash Flow\n",
      "Cash Flow From Continuing Financing Activities\n",
      "Net Other Financing Charges\n",
      "Proceeds From Stock Option Exercised\n",
      "Cash Dividends Paid\n",
      "Common Stock Dividend Paid\n",
      "Net Common Stock Issuance\n",
      "Common Stock Payments\n",
      "Common Stock Issuance\n",
      "Net Issuance Payments Of Debt\n",
      "Net Short Term Debt Issuance\n",
      "Net Long Term Debt Issuance\n",
      "Long Term Debt Payments\n",
      "Long Term Debt Issuance\n",
      "Investing Cash Flow\n",
      "Cash Flow From Continuing Investing Activities\n",
      "Net Other Investing Changes\n",
      "Net Investment Purchase And Sale\n",
      "Sale Of Investment\n",
      "Purchase Of Investment\n",
      "Net Business Purchase And Sale\n",
      "Sale Of Business\n",
      "Purchase Of Business\n",
      "Net PPE Purchase And Sale\n",
      "Sale Of PPE\n",
      "Purchase Of PPE\n",
      "Operating Cash Flow\n",
      "Cash Flow From Continuing Operating Activities\n",
      "Change In Working Capital\n",
      "Change In Payables And Accrued Expense\n",
      "Change In Payable\n",
      "Change In Account Payable\n",
      "Change In Tax Payable\n",
      "Change In Income Tax Payable\n",
      "Change In Inventory\n",
      "Change In Receivables\n",
      "Changes In Account Receivables\n",
      "Other Non Cash Items\n",
      "Stock Based Compensation\n",
      "Asset Impairment Charge\n",
      "Deferred Tax\n",
      "Deferred Income Tax\n",
      "Depreciation Amortization Depletion\n",
      "Depreciation And Amortization\n",
      "Operating Gains Losses\n",
      "Pension And Employee Benefit Expense\n",
      "Gain Loss On Sale Of Business\n",
      "Net Income From Continuing Operations\n",
      "Ticker\n",
      "Restructuring And Mergern Acquisition\n",
      "Foreign Currency Translation Adjustments\n",
      "Minimum Pension Liabilities\n",
      "Preferred Stock\n",
      "Non Current Accrued Expenses\n",
      "Long Term Provisions\n",
      "Current Provisions\n",
      "Inventories Adjustments Allowances\n",
      "Capital Expenditure Reported\n",
      "Change In Other Working Capital\n",
      "Change In Other Current Assets\n",
      "Change In Accrued Expense\n",
      "Net Income Discontinuous Operations\n",
      "Other Special Charges\n",
      "Gain On Sale Of Security\n",
      "Depreciation Amortization Depletion Income Statement\n",
      "Depreciation And Amortization In Income Statement\n",
      "Amortization\n",
      "Amortization Of Intangibles Income Statement\n",
      "Other Payable\n",
      "Dividends Payable\n",
      "Other Investments\n",
      "Available For Sale Securities\n",
      "Net Preferred Stock Issuance\n",
      "Preferred Stock Payments\n",
      "Change In Prepaid Assets\n",
      "Amortization Cash Flow\n",
      "Amortization Of Intangibles\n",
      "Depreciation\n",
      "Gain Loss On Investment Securities\n",
      "Otherunder Preferred Stock Dividend\n",
      "Other Operating Expenses\n",
      "Short Term Debt Payments\n",
      "Short Term Debt Issuance\n",
      "Provisionand Write Offof Assets\n",
      "Gain Loss On Sale Of PPE\n",
      "Average Dilution Earnings\n",
      "Selling And Marketing Expense\n",
      "Other Equity Interest\n",
      "Non Current Deferred Revenue\n",
      "Leases\n",
      "Change In Other Current Liabilities\n",
      "Current Notes Payable\n",
      "Interest Payable\n",
      "Cash Equivalents\n",
      "Cash Financial\n",
      "Unrealized Gain Loss On Investment Securities\n",
      "Earnings From Equity Interest\n",
      "Dueto Related Parties Current\n",
      "Non Current Prepaid Assets\n",
      "Duefrom Related Parties Current\n",
      "Earnings Losses From Equity Investments\n",
      "Gain On Sale Of Ppe\n",
      "Write Off\n",
      "Preferred Stock Equity\n",
      "Liabilities Heldfor Sale Non Current\n",
      "Preferred Securities Outside Stock Equity\n",
      "Non Current Note Receivables\n",
      "Investments In Other Ventures Under Equity Method\n",
      "Investmentsin Associatesat Cost\n",
      "Assets Held For Sale Current\n",
      "Other Cash Adjustment Inside Changein Cash\n",
      "Cash Flow From Discontinued Operation\n",
      "Preferred Stock Issuance\n",
      "Net Foreign Currency Exchange Gain Loss\n",
      "Unrealized Gain Loss\n",
      "Loans Receivable\n",
      "Amortization Of Securities\n",
      "Net Intangibles Purchase And Sale\n",
      "Purchase Of Intangibles\n",
      "Derivative Product Liabilities\n",
      "Dueto Related Parties Non Current\n",
      "Financial Assets\n",
      "Current Deferred Assets\n",
      "Taxes Receivable\n",
      "Cash From Discontinued Financing Activities\n",
      "Cash From Discontinued Investing Activities\n",
      "Cash From Discontinued Operating Activities\n",
      "Current Deferred Taxes Liabilities\n",
      "Provision For Doubtful Accounts\n",
      "Depreciation Income Statement\n",
      "Receivables Adjustments Allowances\n",
      "Investmentsin Joint Venturesat Cost\n",
      "Dividend Received Cfo\n",
      "Preferred Stock Dividends\n",
      "Investment Properties\n",
      "Notes Receivable\n",
      "Preferred Stock Dividend Paid\n",
      "Net Investment Properties Purchase And Sale\n",
      "Sale Of Investment Properties\n",
      "Purchase Of Investment Properties\n",
      "Other Taxes\n",
      "Preferred Shares Number\n",
      "Other Cash Adjustment Outside Changein Cash\n",
      "Excise Taxes\n",
      "Other Inventories\n",
      "Rent Expense Supplemental\n",
      "Held To Maturity Securities\n",
      "Change In Interest Payable\n",
      "Total Other Finance Cost\n",
      "Rent And Landing Fees\n",
      "Sale Of Intangibles\n",
      "Interest Received Cfi\n",
      "Dividends Received Cfi\n",
      "Trading Securities\n",
      "Excess Tax Benefit From Stock Based Compensation\n",
      "Financial Assets Designatedas Fair Value Through Profitor Loss Total\n",
      "Interest Paid Cff\n",
      "Investmentsin Subsidiariesat Cost\n",
      "Dividend Paid Cfo\n",
      "Insurance And Claims\n",
      "Depletion\n",
      "Current Deferred Taxes Assets\n",
      "Taxes Refund Paid\n",
      "Depletion Income Statement\n",
      "Accrued Interest Receivable\n",
      "Duefrom Related Parties Non Current\n",
      "Net Income From Tax Loss Carryforward\n",
      "Net Income Extraordinary\n",
      "Securities Amortization\n",
      "Restricted Common Stock\n",
      "Interest Paid Cfo\n"
     ]
    }
   ],
   "source": []
  },
  {
   "cell_type": "code",
   "execution_count": 8,
   "metadata": {},
   "outputs": [],
   "source": [
    "###GOOGLE CLOUD\n",
    "\n",
    "from google.cloud import bigquery\n",
    "import pandas\n",
    "import numpy\n",
    "import pyarrow\n",
    "import os"
   ]
  },
  {
   "cell_type": "code",
   "execution_count": 9,
   "metadata": {},
   "outputs": [
    {
     "ename": "KeyboardInterrupt",
     "evalue": "",
     "output_type": "error",
     "traceback": [
      "\u001b[0;31m---------------------------------------------------------------------------\u001b[0m",
      "\u001b[0;31m_OperationNotComplete\u001b[0m                     Traceback (most recent call last)",
      "File \u001b[0;32m~/.pyenv/versions/3.10.6/envs/lwhf/lib/python3.10/site-packages/google/api_core/retry/retry_unary.py:144\u001b[0m, in \u001b[0;36mretry_target\u001b[0;34m(target, predicate, sleep_generator, timeout, on_error, exception_factory, **kwargs)\u001b[0m\n\u001b[1;32m    143\u001b[0m \u001b[38;5;28;01mtry\u001b[39;00m:\n\u001b[0;32m--> 144\u001b[0m     result \u001b[38;5;241m=\u001b[39m \u001b[43mtarget\u001b[49m\u001b[43m(\u001b[49m\u001b[43m)\u001b[49m\n\u001b[1;32m    145\u001b[0m     \u001b[38;5;28;01mif\u001b[39;00m inspect\u001b[38;5;241m.\u001b[39misawaitable(result):\n",
      "File \u001b[0;32m~/.pyenv/versions/3.10.6/envs/lwhf/lib/python3.10/site-packages/google/api_core/future/polling.py:120\u001b[0m, in \u001b[0;36mPollingFuture._done_or_raise\u001b[0;34m(self, retry)\u001b[0m\n\u001b[1;32m    119\u001b[0m \u001b[38;5;28;01mif\u001b[39;00m \u001b[38;5;129;01mnot\u001b[39;00m \u001b[38;5;28mself\u001b[39m\u001b[38;5;241m.\u001b[39mdone(retry\u001b[38;5;241m=\u001b[39mretry):\n\u001b[0;32m--> 120\u001b[0m     \u001b[38;5;28;01mraise\u001b[39;00m _OperationNotComplete()\n",
      "\u001b[0;31m_OperationNotComplete\u001b[0m: ",
      "\nDuring handling of the above exception, another exception occurred:\n",
      "\u001b[0;31mKeyboardInterrupt\u001b[0m                         Traceback (most recent call last)",
      "Cell \u001b[0;32mIn[9], line 18\u001b[0m\n\u001b[1;32m     15\u001b[0m job_config \u001b[38;5;241m=\u001b[39m bigquery\u001b[38;5;241m.\u001b[39mLoadJobConfig(write_disposition\u001b[38;5;241m=\u001b[39mwrite_mode)\n\u001b[1;32m     17\u001b[0m job \u001b[38;5;241m=\u001b[39m client\u001b[38;5;241m.\u001b[39mload_table_from_dataframe(yf_2000_metrics_all, table, job_config\u001b[38;5;241m=\u001b[39mjob_config)\n\u001b[0;32m---> 18\u001b[0m result \u001b[38;5;241m=\u001b[39m \u001b[43mjob\u001b[49m\u001b[38;5;241;43m.\u001b[39;49m\u001b[43mresult\u001b[49m\u001b[43m(\u001b[49m\u001b[43m)\u001b[49m\n",
      "File \u001b[0;32m~/.pyenv/versions/3.10.6/envs/lwhf/lib/python3.10/site-packages/google/cloud/bigquery/job/base.py:971\u001b[0m, in \u001b[0;36m_AsyncJob.result\u001b[0;34m(self, retry, timeout)\u001b[0m\n\u001b[1;32m    968\u001b[0m     \u001b[38;5;28mself\u001b[39m\u001b[38;5;241m.\u001b[39m_begin(retry\u001b[38;5;241m=\u001b[39mretry, timeout\u001b[38;5;241m=\u001b[39mtimeout)\n\u001b[1;32m    970\u001b[0m kwargs \u001b[38;5;241m=\u001b[39m {} \u001b[38;5;28;01mif\u001b[39;00m retry \u001b[38;5;129;01mis\u001b[39;00m DEFAULT_RETRY \u001b[38;5;28;01melse\u001b[39;00m {\u001b[38;5;124m\"\u001b[39m\u001b[38;5;124mretry\u001b[39m\u001b[38;5;124m\"\u001b[39m: retry}\n\u001b[0;32m--> 971\u001b[0m \u001b[38;5;28;01mreturn\u001b[39;00m \u001b[38;5;28;43msuper\u001b[39;49m\u001b[43m(\u001b[49m\u001b[43m_AsyncJob\u001b[49m\u001b[43m,\u001b[49m\u001b[43m \u001b[49m\u001b[38;5;28;43mself\u001b[39;49m\u001b[43m)\u001b[49m\u001b[38;5;241;43m.\u001b[39;49m\u001b[43mresult\u001b[49m\u001b[43m(\u001b[49m\u001b[43mtimeout\u001b[49m\u001b[38;5;241;43m=\u001b[39;49m\u001b[43mtimeout\u001b[49m\u001b[43m,\u001b[49m\u001b[43m \u001b[49m\u001b[38;5;241;43m*\u001b[39;49m\u001b[38;5;241;43m*\u001b[39;49m\u001b[43mkwargs\u001b[49m\u001b[43m)\u001b[49m\n",
      "File \u001b[0;32m~/.pyenv/versions/3.10.6/envs/lwhf/lib/python3.10/site-packages/google/api_core/future/polling.py:256\u001b[0m, in \u001b[0;36mPollingFuture.result\u001b[0;34m(self, timeout, retry, polling)\u001b[0m\n\u001b[1;32m    144\u001b[0m \u001b[38;5;28;01mdef\u001b[39;00m \u001b[38;5;21mresult\u001b[39m(\u001b[38;5;28mself\u001b[39m, timeout\u001b[38;5;241m=\u001b[39m_DEFAULT_VALUE, retry\u001b[38;5;241m=\u001b[39m\u001b[38;5;28;01mNone\u001b[39;00m, polling\u001b[38;5;241m=\u001b[39m\u001b[38;5;28;01mNone\u001b[39;00m):\n\u001b[1;32m    145\u001b[0m \u001b[38;5;250m    \u001b[39m\u001b[38;5;124;03m\"\"\"Get the result of the operation.\u001b[39;00m\n\u001b[1;32m    146\u001b[0m \n\u001b[1;32m    147\u001b[0m \u001b[38;5;124;03m    This method will poll for operation status periodically, blocking if\u001b[39;00m\n\u001b[0;32m   (...)\u001b[0m\n\u001b[1;32m    253\u001b[0m \u001b[38;5;124;03m            the timeout is reached before the operation completes.\u001b[39;00m\n\u001b[1;32m    254\u001b[0m \u001b[38;5;124;03m    \"\"\"\u001b[39;00m\n\u001b[0;32m--> 256\u001b[0m     \u001b[38;5;28;43mself\u001b[39;49m\u001b[38;5;241;43m.\u001b[39;49m\u001b[43m_blocking_poll\u001b[49m\u001b[43m(\u001b[49m\u001b[43mtimeout\u001b[49m\u001b[38;5;241;43m=\u001b[39;49m\u001b[43mtimeout\u001b[49m\u001b[43m,\u001b[49m\u001b[43m \u001b[49m\u001b[43mretry\u001b[49m\u001b[38;5;241;43m=\u001b[39;49m\u001b[43mretry\u001b[49m\u001b[43m,\u001b[49m\u001b[43m \u001b[49m\u001b[43mpolling\u001b[49m\u001b[38;5;241;43m=\u001b[39;49m\u001b[43mpolling\u001b[49m\u001b[43m)\u001b[49m\n\u001b[1;32m    258\u001b[0m     \u001b[38;5;28;01mif\u001b[39;00m \u001b[38;5;28mself\u001b[39m\u001b[38;5;241m.\u001b[39m_exception \u001b[38;5;129;01mis\u001b[39;00m \u001b[38;5;129;01mnot\u001b[39;00m \u001b[38;5;28;01mNone\u001b[39;00m:\n\u001b[1;32m    259\u001b[0m         \u001b[38;5;66;03m# pylint: disable=raising-bad-type\u001b[39;00m\n\u001b[1;32m    260\u001b[0m         \u001b[38;5;66;03m# Pylint doesn't recognize that this is valid in this case.\u001b[39;00m\n\u001b[1;32m    261\u001b[0m         \u001b[38;5;28;01mraise\u001b[39;00m \u001b[38;5;28mself\u001b[39m\u001b[38;5;241m.\u001b[39m_exception\n",
      "File \u001b[0;32m~/.pyenv/versions/3.10.6/envs/lwhf/lib/python3.10/site-packages/google/api_core/future/polling.py:137\u001b[0m, in \u001b[0;36mPollingFuture._blocking_poll\u001b[0;34m(self, timeout, retry, polling)\u001b[0m\n\u001b[1;32m    134\u001b[0m     polling \u001b[38;5;241m=\u001b[39m polling\u001b[38;5;241m.\u001b[39mwith_timeout(timeout)\n\u001b[1;32m    136\u001b[0m \u001b[38;5;28;01mtry\u001b[39;00m:\n\u001b[0;32m--> 137\u001b[0m     \u001b[43mpolling\u001b[49m\u001b[43m(\u001b[49m\u001b[38;5;28;43mself\u001b[39;49m\u001b[38;5;241;43m.\u001b[39;49m\u001b[43m_done_or_raise\u001b[49m\u001b[43m)\u001b[49m\u001b[43m(\u001b[49m\u001b[43mretry\u001b[49m\u001b[38;5;241;43m=\u001b[39;49m\u001b[43mretry\u001b[49m\u001b[43m)\u001b[49m\n\u001b[1;32m    138\u001b[0m \u001b[38;5;28;01mexcept\u001b[39;00m exceptions\u001b[38;5;241m.\u001b[39mRetryError:\n\u001b[1;32m    139\u001b[0m     \u001b[38;5;28;01mraise\u001b[39;00m concurrent\u001b[38;5;241m.\u001b[39mfutures\u001b[38;5;241m.\u001b[39mTimeoutError(\n\u001b[1;32m    140\u001b[0m         \u001b[38;5;124mf\u001b[39m\u001b[38;5;124m\"\u001b[39m\u001b[38;5;124mOperation did not complete within the designated timeout of \u001b[39m\u001b[38;5;124m\"\u001b[39m\n\u001b[1;32m    141\u001b[0m         \u001b[38;5;124mf\u001b[39m\u001b[38;5;124m\"\u001b[39m\u001b[38;5;132;01m{\u001b[39;00mpolling\u001b[38;5;241m.\u001b[39mtimeout\u001b[38;5;132;01m}\u001b[39;00m\u001b[38;5;124m seconds.\u001b[39m\u001b[38;5;124m\"\u001b[39m\n\u001b[1;32m    142\u001b[0m     )\n",
      "File \u001b[0;32m~/.pyenv/versions/3.10.6/envs/lwhf/lib/python3.10/site-packages/google/api_core/retry/retry_unary.py:293\u001b[0m, in \u001b[0;36mRetry.__call__.<locals>.retry_wrapped_func\u001b[0;34m(*args, **kwargs)\u001b[0m\n\u001b[1;32m    289\u001b[0m target \u001b[38;5;241m=\u001b[39m functools\u001b[38;5;241m.\u001b[39mpartial(func, \u001b[38;5;241m*\u001b[39margs, \u001b[38;5;241m*\u001b[39m\u001b[38;5;241m*\u001b[39mkwargs)\n\u001b[1;32m    290\u001b[0m sleep_generator \u001b[38;5;241m=\u001b[39m exponential_sleep_generator(\n\u001b[1;32m    291\u001b[0m     \u001b[38;5;28mself\u001b[39m\u001b[38;5;241m.\u001b[39m_initial, \u001b[38;5;28mself\u001b[39m\u001b[38;5;241m.\u001b[39m_maximum, multiplier\u001b[38;5;241m=\u001b[39m\u001b[38;5;28mself\u001b[39m\u001b[38;5;241m.\u001b[39m_multiplier\n\u001b[1;32m    292\u001b[0m )\n\u001b[0;32m--> 293\u001b[0m \u001b[38;5;28;01mreturn\u001b[39;00m \u001b[43mretry_target\u001b[49m\u001b[43m(\u001b[49m\n\u001b[1;32m    294\u001b[0m \u001b[43m    \u001b[49m\u001b[43mtarget\u001b[49m\u001b[43m,\u001b[49m\n\u001b[1;32m    295\u001b[0m \u001b[43m    \u001b[49m\u001b[38;5;28;43mself\u001b[39;49m\u001b[38;5;241;43m.\u001b[39;49m\u001b[43m_predicate\u001b[49m\u001b[43m,\u001b[49m\n\u001b[1;32m    296\u001b[0m \u001b[43m    \u001b[49m\u001b[43msleep_generator\u001b[49m\u001b[43m,\u001b[49m\n\u001b[1;32m    297\u001b[0m \u001b[43m    \u001b[49m\u001b[43mtimeout\u001b[49m\u001b[38;5;241;43m=\u001b[39;49m\u001b[38;5;28;43mself\u001b[39;49m\u001b[38;5;241;43m.\u001b[39;49m\u001b[43m_timeout\u001b[49m\u001b[43m,\u001b[49m\n\u001b[1;32m    298\u001b[0m \u001b[43m    \u001b[49m\u001b[43mon_error\u001b[49m\u001b[38;5;241;43m=\u001b[39;49m\u001b[43mon_error\u001b[49m\u001b[43m,\u001b[49m\n\u001b[1;32m    299\u001b[0m \u001b[43m\u001b[49m\u001b[43m)\u001b[49m\n",
      "File \u001b[0;32m~/.pyenv/versions/3.10.6/envs/lwhf/lib/python3.10/site-packages/google/api_core/retry/retry_unary.py:164\u001b[0m, in \u001b[0;36mretry_target\u001b[0;34m(target, predicate, sleep_generator, timeout, on_error, exception_factory, **kwargs)\u001b[0m\n\u001b[1;32m    153\u001b[0m         _retry_error_helper(\n\u001b[1;32m    154\u001b[0m             exc,\n\u001b[1;32m    155\u001b[0m             deadline,\n\u001b[0;32m   (...)\u001b[0m\n\u001b[1;32m    161\u001b[0m             timeout,\n\u001b[1;32m    162\u001b[0m         )\n\u001b[1;32m    163\u001b[0m         \u001b[38;5;66;03m# if exception not raised, sleep before next attempt\u001b[39;00m\n\u001b[0;32m--> 164\u001b[0m         \u001b[43mtime\u001b[49m\u001b[38;5;241;43m.\u001b[39;49m\u001b[43msleep\u001b[49m\u001b[43m(\u001b[49m\u001b[43msleep\u001b[49m\u001b[43m)\u001b[49m\n\u001b[1;32m    166\u001b[0m \u001b[38;5;28;01mraise\u001b[39;00m \u001b[38;5;167;01mValueError\u001b[39;00m(\u001b[38;5;124m\"\u001b[39m\u001b[38;5;124mSleep generator stopped yielding sleep values.\u001b[39m\u001b[38;5;124m\"\u001b[39m)\n",
      "\u001b[0;31mKeyboardInterrupt\u001b[0m: "
     ]
    }
   ],
   "source": [
    "#UPLOAD TO BQ\n",
    "\n",
    "import pandas as pd\n",
    "from google.oauth2 import service_account\n",
    "\n",
    "PROJECT = \"le-wagon-hedge-fund\"\n",
    "DATASET = \"YahooFinance_data\"\n",
    "TABLE = \"2000_financials_all\"\n",
    "\n",
    "table = f'le-wagon-hedge-fund.YahooFinance_data.{TABLE}'\n",
    "\n",
    "client = bigquery.Client()\n",
    "\n",
    "write_mode = \"WRITE_TRUNCATE\" # or \"WRITE_APPEND\"\n",
    "job_config = bigquery.LoadJobConfig(write_disposition=write_mode)\n",
    "\n",
    "job = client.load_table_from_dataframe(yf_2000_metrics_all, table, job_config=job_config)\n",
    "result = job.result()\n"
   ]
  },
  {
   "cell_type": "code",
   "execution_count": 12,
   "metadata": {},
   "outputs": [],
   "source": [
    "import numpy as np\n",
    "\n",
    "def stocks(start_date, n_nan_vals):\n",
    "    '''\n",
    "    Select stocks from tabnle df_SP500_2000, for vals after start_date and that have less vals missing than n_nan_vals\n",
    "    '''\n",
    "    df = df_SP500_2000[df_SP500_2000.index > start_date]\n",
    "    df = df[list(df.columns[np.array(df.isnull().sum() <= 0)])]\n",
    "    return df\n"
   ]
  },
  {
   "cell_type": "code",
   "execution_count": 13,
   "metadata": {},
   "outputs": [],
   "source": [
    "df_2004 = stocks('2004-01-01', 0)\n",
    "\n",
    "#df_2004.to_csv(\"../raw_data/df_2004.csv\")\n"
   ]
  },
  {
   "cell_type": "markdown",
   "metadata": {},
   "source": [
    "# LSTM MODEL \n",
    "https://www.datacamp.com/tutorial/lstm-python-stock-market"
   ]
  },
  {
   "cell_type": "code",
   "execution_count": 14,
   "metadata": {},
   "outputs": [],
   "source": [
    "# Make sure that you have all these libaries available to run the code successfully\n",
    "from pandas_datareader import data\n",
    "import matplotlib.pyplot as plt\n",
    "import pandas as pd\n",
    "import datetime as dt\n",
    "import urllib.request, json\n",
    "import os\n",
    "import numpy as np\n",
    "import tensorflow as tf # This code has been tested with TensorFlow 1.6\n",
    "from sklearn.preprocessing import MinMaxScaler"
   ]
  },
  {
   "cell_type": "code",
   "execution_count": 15,
   "metadata": {},
   "outputs": [
    {
     "data": {
      "text/html": [
       "<div>\n",
       "<style scoped>\n",
       "    .dataframe tbody tr th:only-of-type {\n",
       "        vertical-align: middle;\n",
       "    }\n",
       "\n",
       "    .dataframe tbody tr th {\n",
       "        vertical-align: top;\n",
       "    }\n",
       "\n",
       "    .dataframe thead th {\n",
       "        text-align: right;\n",
       "    }\n",
       "</style>\n",
       "<table border=\"1\" class=\"dataframe\">\n",
       "  <thead>\n",
       "    <tr style=\"text-align: right;\">\n",
       "      <th></th>\n",
       "      <th>A</th>\n",
       "      <th>AAPL</th>\n",
       "      <th>ABT</th>\n",
       "      <th>ACGL</th>\n",
       "      <th>ACN</th>\n",
       "      <th>ADBE</th>\n",
       "      <th>ADI</th>\n",
       "      <th>ADM</th>\n",
       "      <th>ADP</th>\n",
       "      <th>ADSK</th>\n",
       "      <th>...</th>\n",
       "      <th>WRB</th>\n",
       "      <th>WST</th>\n",
       "      <th>WTW</th>\n",
       "      <th>WY</th>\n",
       "      <th>WYNN</th>\n",
       "      <th>XEL</th>\n",
       "      <th>XOM</th>\n",
       "      <th>YUM</th>\n",
       "      <th>ZBH</th>\n",
       "      <th>ZBRA</th>\n",
       "    </tr>\n",
       "    <tr>\n",
       "      <th>Date</th>\n",
       "      <th></th>\n",
       "      <th></th>\n",
       "      <th></th>\n",
       "      <th></th>\n",
       "      <th></th>\n",
       "      <th></th>\n",
       "      <th></th>\n",
       "      <th></th>\n",
       "      <th></th>\n",
       "      <th></th>\n",
       "      <th></th>\n",
       "      <th></th>\n",
       "      <th></th>\n",
       "      <th></th>\n",
       "      <th></th>\n",
       "      <th></th>\n",
       "      <th></th>\n",
       "      <th></th>\n",
       "      <th></th>\n",
       "      <th></th>\n",
       "      <th></th>\n",
       "    </tr>\n",
       "  </thead>\n",
       "  <tbody>\n",
       "    <tr>\n",
       "      <th>2004-01-02</th>\n",
       "      <td>20.600859</td>\n",
       "      <td>0.380000</td>\n",
       "      <td>20.986116</td>\n",
       "      <td>4.488889</td>\n",
       "      <td>25.920000</td>\n",
       "      <td>19.549999</td>\n",
       "      <td>45.790001</td>\n",
       "      <td>15.270000</td>\n",
       "      <td>31.690842</td>\n",
       "      <td>12.250000</td>\n",
       "      <td>...</td>\n",
       "      <td>7.000494</td>\n",
       "      <td>8.520000</td>\n",
       "      <td>91.417221</td>\n",
       "      <td>64.150002</td>\n",
       "      <td>28.360001</td>\n",
       "      <td>16.969999</td>\n",
       "      <td>40.630001</td>\n",
       "      <td>12.052480</td>\n",
       "      <td>67.961166</td>\n",
       "      <td>43.586666</td>\n",
       "    </tr>\n",
       "    <tr>\n",
       "      <th>2004-01-05</th>\n",
       "      <td>21.137339</td>\n",
       "      <td>0.395893</td>\n",
       "      <td>20.986116</td>\n",
       "      <td>4.455556</td>\n",
       "      <td>26.660000</td>\n",
       "      <td>19.900000</td>\n",
       "      <td>47.200001</td>\n",
       "      <td>15.410000</td>\n",
       "      <td>32.626656</td>\n",
       "      <td>12.360000</td>\n",
       "      <td>...</td>\n",
       "      <td>6.962963</td>\n",
       "      <td>8.485000</td>\n",
       "      <td>91.655632</td>\n",
       "      <td>65.000000</td>\n",
       "      <td>28.700001</td>\n",
       "      <td>16.969999</td>\n",
       "      <td>41.580002</td>\n",
       "      <td>12.228613</td>\n",
       "      <td>67.349518</td>\n",
       "      <td>43.666668</td>\n",
       "    </tr>\n",
       "    <tr>\n",
       "      <th>2004-01-06</th>\n",
       "      <td>21.802574</td>\n",
       "      <td>0.394464</td>\n",
       "      <td>20.833490</td>\n",
       "      <td>4.450000</td>\n",
       "      <td>26.350000</td>\n",
       "      <td>19.920000</td>\n",
       "      <td>48.259998</td>\n",
       "      <td>15.450000</td>\n",
       "      <td>32.935951</td>\n",
       "      <td>12.290000</td>\n",
       "      <td>...</td>\n",
       "      <td>6.966914</td>\n",
       "      <td>8.387500</td>\n",
       "      <td>92.821190</td>\n",
       "      <td>64.750000</td>\n",
       "      <td>28.270000</td>\n",
       "      <td>16.969999</td>\n",
       "      <td>41.299999</td>\n",
       "      <td>12.595255</td>\n",
       "      <td>67.019417</td>\n",
       "      <td>43.766666</td>\n",
       "    </tr>\n",
       "    <tr>\n",
       "      <th>2004-01-07</th>\n",
       "      <td>22.081545</td>\n",
       "      <td>0.403393</td>\n",
       "      <td>21.053452</td>\n",
       "      <td>4.441111</td>\n",
       "      <td>25.750000</td>\n",
       "      <td>19.719999</td>\n",
       "      <td>48.740002</td>\n",
       "      <td>15.250000</td>\n",
       "      <td>32.761478</td>\n",
       "      <td>12.395000</td>\n",
       "      <td>...</td>\n",
       "      <td>7.032099</td>\n",
       "      <td>8.415000</td>\n",
       "      <td>93.642387</td>\n",
       "      <td>64.629997</td>\n",
       "      <td>28.520000</td>\n",
       "      <td>17.120001</td>\n",
       "      <td>41.000000</td>\n",
       "      <td>12.379583</td>\n",
       "      <td>67.766991</td>\n",
       "      <td>44.500000</td>\n",
       "    </tr>\n",
       "    <tr>\n",
       "      <th>2004-01-08</th>\n",
       "      <td>23.090130</td>\n",
       "      <td>0.417143</td>\n",
       "      <td>20.433968</td>\n",
       "      <td>4.481111</td>\n",
       "      <td>24.889999</td>\n",
       "      <td>19.000000</td>\n",
       "      <td>49.610001</td>\n",
       "      <td>15.200000</td>\n",
       "      <td>32.698032</td>\n",
       "      <td>12.475000</td>\n",
       "      <td>...</td>\n",
       "      <td>7.063704</td>\n",
       "      <td>8.420000</td>\n",
       "      <td>90.781456</td>\n",
       "      <td>65.900002</td>\n",
       "      <td>28.389999</td>\n",
       "      <td>17.309999</td>\n",
       "      <td>40.900002</td>\n",
       "      <td>12.415528</td>\n",
       "      <td>69.077667</td>\n",
       "      <td>44.599998</td>\n",
       "    </tr>\n",
       "    <tr>\n",
       "      <th>...</th>\n",
       "      <td>...</td>\n",
       "      <td>...</td>\n",
       "      <td>...</td>\n",
       "      <td>...</td>\n",
       "      <td>...</td>\n",
       "      <td>...</td>\n",
       "      <td>...</td>\n",
       "      <td>...</td>\n",
       "      <td>...</td>\n",
       "      <td>...</td>\n",
       "      <td>...</td>\n",
       "      <td>...</td>\n",
       "      <td>...</td>\n",
       "      <td>...</td>\n",
       "      <td>...</td>\n",
       "      <td>...</td>\n",
       "      <td>...</td>\n",
       "      <td>...</td>\n",
       "      <td>...</td>\n",
       "      <td>...</td>\n",
       "      <td>...</td>\n",
       "    </tr>\n",
       "    <tr>\n",
       "      <th>2024-05-29</th>\n",
       "      <td>145.479996</td>\n",
       "      <td>190.289993</td>\n",
       "      <td>100.730003</td>\n",
       "      <td>101.550003</td>\n",
       "      <td>293.769989</td>\n",
       "      <td>477.600006</td>\n",
       "      <td>228.149994</td>\n",
       "      <td>60.029999</td>\n",
       "      <td>240.089996</td>\n",
       "      <td>208.509995</td>\n",
       "      <td>...</td>\n",
       "      <td>77.949997</td>\n",
       "      <td>322.850006</td>\n",
       "      <td>249.679993</td>\n",
       "      <td>29.360001</td>\n",
       "      <td>92.529999</td>\n",
       "      <td>53.299999</td>\n",
       "      <td>113.629997</td>\n",
       "      <td>134.669998</td>\n",
       "      <td>115.139999</td>\n",
       "      <td>316.929993</td>\n",
       "    </tr>\n",
       "    <tr>\n",
       "      <th>2024-05-30</th>\n",
       "      <td>131.419998</td>\n",
       "      <td>191.289993</td>\n",
       "      <td>101.739998</td>\n",
       "      <td>101.410004</td>\n",
       "      <td>284.799988</td>\n",
       "      <td>445.869995</td>\n",
       "      <td>230.000000</td>\n",
       "      <td>60.139999</td>\n",
       "      <td>240.910004</td>\n",
       "      <td>199.929993</td>\n",
       "      <td>...</td>\n",
       "      <td>79.500000</td>\n",
       "      <td>329.119995</td>\n",
       "      <td>251.360001</td>\n",
       "      <td>29.719999</td>\n",
       "      <td>92.540001</td>\n",
       "      <td>54.320000</td>\n",
       "      <td>113.989998</td>\n",
       "      <td>134.839996</td>\n",
       "      <td>114.440002</td>\n",
       "      <td>316.619995</td>\n",
       "    </tr>\n",
       "    <tr>\n",
       "      <th>2024-05-31</th>\n",
       "      <td>130.410004</td>\n",
       "      <td>192.250000</td>\n",
       "      <td>102.190002</td>\n",
       "      <td>102.629997</td>\n",
       "      <td>282.290009</td>\n",
       "      <td>444.760010</td>\n",
       "      <td>234.490005</td>\n",
       "      <td>62.439999</td>\n",
       "      <td>244.919998</td>\n",
       "      <td>201.600006</td>\n",
       "      <td>...</td>\n",
       "      <td>81.029999</td>\n",
       "      <td>331.410004</td>\n",
       "      <td>255.289993</td>\n",
       "      <td>30.030001</td>\n",
       "      <td>94.879997</td>\n",
       "      <td>55.450001</td>\n",
       "      <td>117.260002</td>\n",
       "      <td>137.429993</td>\n",
       "      <td>115.150002</td>\n",
       "      <td>312.339996</td>\n",
       "    </tr>\n",
       "    <tr>\n",
       "      <th>2024-06-03</th>\n",
       "      <td>131.399994</td>\n",
       "      <td>194.029999</td>\n",
       "      <td>102.870003</td>\n",
       "      <td>101.699997</td>\n",
       "      <td>281.760010</td>\n",
       "      <td>439.019989</td>\n",
       "      <td>232.210007</td>\n",
       "      <td>61.990002</td>\n",
       "      <td>244.020004</td>\n",
       "      <td>210.820007</td>\n",
       "      <td>...</td>\n",
       "      <td>80.070000</td>\n",
       "      <td>328.730011</td>\n",
       "      <td>255.039993</td>\n",
       "      <td>29.709999</td>\n",
       "      <td>94.910004</td>\n",
       "      <td>55.279999</td>\n",
       "      <td>114.449997</td>\n",
       "      <td>139.330002</td>\n",
       "      <td>113.120003</td>\n",
       "      <td>307.630005</td>\n",
       "    </tr>\n",
       "    <tr>\n",
       "      <th>2024-06-04</th>\n",
       "      <td>130.960007</td>\n",
       "      <td>194.688004</td>\n",
       "      <td>103.169998</td>\n",
       "      <td>100.490997</td>\n",
       "      <td>287.714996</td>\n",
       "      <td>445.260010</td>\n",
       "      <td>229.884995</td>\n",
       "      <td>62.115002</td>\n",
       "      <td>246.360001</td>\n",
       "      <td>210.880005</td>\n",
       "      <td>...</td>\n",
       "      <td>80.050003</td>\n",
       "      <td>320.859985</td>\n",
       "      <td>255.610001</td>\n",
       "      <td>29.665001</td>\n",
       "      <td>92.809998</td>\n",
       "      <td>56.380001</td>\n",
       "      <td>112.460197</td>\n",
       "      <td>141.835007</td>\n",
       "      <td>113.720001</td>\n",
       "      <td>302.684998</td>\n",
       "    </tr>\n",
       "  </tbody>\n",
       "</table>\n",
       "<p>5140 rows × 377 columns</p>\n",
       "</div>"
      ],
      "text/plain": [
       "                     A        AAPL         ABT        ACGL         ACN  \\\n",
       "Date                                                                     \n",
       "2004-01-02   20.600859    0.380000   20.986116    4.488889   25.920000   \n",
       "2004-01-05   21.137339    0.395893   20.986116    4.455556   26.660000   \n",
       "2004-01-06   21.802574    0.394464   20.833490    4.450000   26.350000   \n",
       "2004-01-07   22.081545    0.403393   21.053452    4.441111   25.750000   \n",
       "2004-01-08   23.090130    0.417143   20.433968    4.481111   24.889999   \n",
       "...                ...         ...         ...         ...         ...   \n",
       "2024-05-29  145.479996  190.289993  100.730003  101.550003  293.769989   \n",
       "2024-05-30  131.419998  191.289993  101.739998  101.410004  284.799988   \n",
       "2024-05-31  130.410004  192.250000  102.190002  102.629997  282.290009   \n",
       "2024-06-03  131.399994  194.029999  102.870003  101.699997  281.760010   \n",
       "2024-06-04  130.960007  194.688004  103.169998  100.490997  287.714996   \n",
       "\n",
       "                  ADBE         ADI        ADM         ADP        ADSK  ...  \\\n",
       "Date                                                                   ...   \n",
       "2004-01-02   19.549999   45.790001  15.270000   31.690842   12.250000  ...   \n",
       "2004-01-05   19.900000   47.200001  15.410000   32.626656   12.360000  ...   \n",
       "2004-01-06   19.920000   48.259998  15.450000   32.935951   12.290000  ...   \n",
       "2004-01-07   19.719999   48.740002  15.250000   32.761478   12.395000  ...   \n",
       "2004-01-08   19.000000   49.610001  15.200000   32.698032   12.475000  ...   \n",
       "...                ...         ...        ...         ...         ...  ...   \n",
       "2024-05-29  477.600006  228.149994  60.029999  240.089996  208.509995  ...   \n",
       "2024-05-30  445.869995  230.000000  60.139999  240.910004  199.929993  ...   \n",
       "2024-05-31  444.760010  234.490005  62.439999  244.919998  201.600006  ...   \n",
       "2024-06-03  439.019989  232.210007  61.990002  244.020004  210.820007  ...   \n",
       "2024-06-04  445.260010  229.884995  62.115002  246.360001  210.880005  ...   \n",
       "\n",
       "                  WRB         WST         WTW         WY       WYNN  \\\n",
       "Date                                                                  \n",
       "2004-01-02   7.000494    8.520000   91.417221  64.150002  28.360001   \n",
       "2004-01-05   6.962963    8.485000   91.655632  65.000000  28.700001   \n",
       "2004-01-06   6.966914    8.387500   92.821190  64.750000  28.270000   \n",
       "2004-01-07   7.032099    8.415000   93.642387  64.629997  28.520000   \n",
       "2004-01-08   7.063704    8.420000   90.781456  65.900002  28.389999   \n",
       "...               ...         ...         ...        ...        ...   \n",
       "2024-05-29  77.949997  322.850006  249.679993  29.360001  92.529999   \n",
       "2024-05-30  79.500000  329.119995  251.360001  29.719999  92.540001   \n",
       "2024-05-31  81.029999  331.410004  255.289993  30.030001  94.879997   \n",
       "2024-06-03  80.070000  328.730011  255.039993  29.709999  94.910004   \n",
       "2024-06-04  80.050003  320.859985  255.610001  29.665001  92.809998   \n",
       "\n",
       "                  XEL         XOM         YUM         ZBH        ZBRA  \n",
       "Date                                                                   \n",
       "2004-01-02  16.969999   40.630001   12.052480   67.961166   43.586666  \n",
       "2004-01-05  16.969999   41.580002   12.228613   67.349518   43.666668  \n",
       "2004-01-06  16.969999   41.299999   12.595255   67.019417   43.766666  \n",
       "2004-01-07  17.120001   41.000000   12.379583   67.766991   44.500000  \n",
       "2004-01-08  17.309999   40.900002   12.415528   69.077667   44.599998  \n",
       "...               ...         ...         ...         ...         ...  \n",
       "2024-05-29  53.299999  113.629997  134.669998  115.139999  316.929993  \n",
       "2024-05-30  54.320000  113.989998  134.839996  114.440002  316.619995  \n",
       "2024-05-31  55.450001  117.260002  137.429993  115.150002  312.339996  \n",
       "2024-06-03  55.279999  114.449997  139.330002  113.120003  307.630005  \n",
       "2024-06-04  56.380001  112.460197  141.835007  113.720001  302.684998  \n",
       "\n",
       "[5140 rows x 377 columns]"
      ]
     },
     "execution_count": 15,
     "metadata": {},
     "output_type": "execute_result"
    }
   ],
   "source": [
    "df_2004"
   ]
  },
  {
   "cell_type": "code",
   "execution_count": 16,
   "metadata": {},
   "outputs": [],
   "source": [
    "\n",
    "def sav_toBQ(df ,name_table):\n",
    "\n",
    "    table = f'le-wagon-hedge-fund.YahooFinance_data.name_table'\n",
    "\n",
    "    client = bigquery.Client()\n",
    "\n",
    "    write_mode = \"WRITE_TRUNCATE\"\n",
    "\n",
    "    job_config = bigquery.LoadJobConfig(write_disposition=write_mode)\n",
    "\n",
    "    job = client.load_table_from_dataframe(df, table, job_config=job_config)\n",
    "    result = job.result()\n"
   ]
  },
  {
   "cell_type": "code",
   "execution_count": 17,
   "metadata": {},
   "outputs": [
    {
     "data": {
      "text/html": [
       "<div>\n",
       "<style scoped>\n",
       "    .dataframe tbody tr th:only-of-type {\n",
       "        vertical-align: middle;\n",
       "    }\n",
       "\n",
       "    .dataframe tbody tr th {\n",
       "        vertical-align: top;\n",
       "    }\n",
       "\n",
       "    .dataframe thead th {\n",
       "        text-align: right;\n",
       "    }\n",
       "</style>\n",
       "<table border=\"1\" class=\"dataframe\">\n",
       "  <thead>\n",
       "    <tr style=\"text-align: right;\">\n",
       "      <th></th>\n",
       "      <th>A</th>\n",
       "      <th>AAPL</th>\n",
       "      <th>ABT</th>\n",
       "      <th>ACGL</th>\n",
       "      <th>ACN</th>\n",
       "      <th>ADBE</th>\n",
       "      <th>ADI</th>\n",
       "      <th>ADM</th>\n",
       "      <th>ADP</th>\n",
       "      <th>ADSK</th>\n",
       "      <th>...</th>\n",
       "      <th>WRB</th>\n",
       "      <th>WST</th>\n",
       "      <th>WTW</th>\n",
       "      <th>WY</th>\n",
       "      <th>WYNN</th>\n",
       "      <th>XEL</th>\n",
       "      <th>XOM</th>\n",
       "      <th>YUM</th>\n",
       "      <th>ZBH</th>\n",
       "      <th>ZBRA</th>\n",
       "    </tr>\n",
       "    <tr>\n",
       "      <th>Date</th>\n",
       "      <th></th>\n",
       "      <th></th>\n",
       "      <th></th>\n",
       "      <th></th>\n",
       "      <th></th>\n",
       "      <th></th>\n",
       "      <th></th>\n",
       "      <th></th>\n",
       "      <th></th>\n",
       "      <th></th>\n",
       "      <th></th>\n",
       "      <th></th>\n",
       "      <th></th>\n",
       "      <th></th>\n",
       "      <th></th>\n",
       "      <th></th>\n",
       "      <th></th>\n",
       "      <th></th>\n",
       "      <th></th>\n",
       "      <th></th>\n",
       "      <th></th>\n",
       "    </tr>\n",
       "  </thead>\n",
       "  <tbody>\n",
       "    <tr>\n",
       "      <th>2004-01-02</th>\n",
       "      <td>20.600859</td>\n",
       "      <td>0.380000</td>\n",
       "      <td>20.986116</td>\n",
       "      <td>4.488889</td>\n",
       "      <td>25.920000</td>\n",
       "      <td>19.549999</td>\n",
       "      <td>45.790001</td>\n",
       "      <td>15.270000</td>\n",
       "      <td>31.690842</td>\n",
       "      <td>12.250000</td>\n",
       "      <td>...</td>\n",
       "      <td>7.000494</td>\n",
       "      <td>8.520000</td>\n",
       "      <td>91.417221</td>\n",
       "      <td>64.150002</td>\n",
       "      <td>28.360001</td>\n",
       "      <td>16.969999</td>\n",
       "      <td>40.630001</td>\n",
       "      <td>12.052480</td>\n",
       "      <td>67.961166</td>\n",
       "      <td>43.586666</td>\n",
       "    </tr>\n",
       "    <tr>\n",
       "      <th>2004-01-05</th>\n",
       "      <td>21.137339</td>\n",
       "      <td>0.395893</td>\n",
       "      <td>20.986116</td>\n",
       "      <td>4.455556</td>\n",
       "      <td>26.660000</td>\n",
       "      <td>19.900000</td>\n",
       "      <td>47.200001</td>\n",
       "      <td>15.410000</td>\n",
       "      <td>32.626656</td>\n",
       "      <td>12.360000</td>\n",
       "      <td>...</td>\n",
       "      <td>6.962963</td>\n",
       "      <td>8.485000</td>\n",
       "      <td>91.655632</td>\n",
       "      <td>65.000000</td>\n",
       "      <td>28.700001</td>\n",
       "      <td>16.969999</td>\n",
       "      <td>41.580002</td>\n",
       "      <td>12.228613</td>\n",
       "      <td>67.349518</td>\n",
       "      <td>43.666668</td>\n",
       "    </tr>\n",
       "    <tr>\n",
       "      <th>2004-01-06</th>\n",
       "      <td>21.802574</td>\n",
       "      <td>0.394464</td>\n",
       "      <td>20.833490</td>\n",
       "      <td>4.450000</td>\n",
       "      <td>26.350000</td>\n",
       "      <td>19.920000</td>\n",
       "      <td>48.259998</td>\n",
       "      <td>15.450000</td>\n",
       "      <td>32.935951</td>\n",
       "      <td>12.290000</td>\n",
       "      <td>...</td>\n",
       "      <td>6.966914</td>\n",
       "      <td>8.387500</td>\n",
       "      <td>92.821190</td>\n",
       "      <td>64.750000</td>\n",
       "      <td>28.270000</td>\n",
       "      <td>16.969999</td>\n",
       "      <td>41.299999</td>\n",
       "      <td>12.595255</td>\n",
       "      <td>67.019417</td>\n",
       "      <td>43.766666</td>\n",
       "    </tr>\n",
       "    <tr>\n",
       "      <th>2004-01-07</th>\n",
       "      <td>22.081545</td>\n",
       "      <td>0.403393</td>\n",
       "      <td>21.053452</td>\n",
       "      <td>4.441111</td>\n",
       "      <td>25.750000</td>\n",
       "      <td>19.719999</td>\n",
       "      <td>48.740002</td>\n",
       "      <td>15.250000</td>\n",
       "      <td>32.761478</td>\n",
       "      <td>12.395000</td>\n",
       "      <td>...</td>\n",
       "      <td>7.032099</td>\n",
       "      <td>8.415000</td>\n",
       "      <td>93.642387</td>\n",
       "      <td>64.629997</td>\n",
       "      <td>28.520000</td>\n",
       "      <td>17.120001</td>\n",
       "      <td>41.000000</td>\n",
       "      <td>12.379583</td>\n",
       "      <td>67.766991</td>\n",
       "      <td>44.500000</td>\n",
       "    </tr>\n",
       "    <tr>\n",
       "      <th>2004-01-08</th>\n",
       "      <td>23.090130</td>\n",
       "      <td>0.417143</td>\n",
       "      <td>20.433968</td>\n",
       "      <td>4.481111</td>\n",
       "      <td>24.889999</td>\n",
       "      <td>19.000000</td>\n",
       "      <td>49.610001</td>\n",
       "      <td>15.200000</td>\n",
       "      <td>32.698032</td>\n",
       "      <td>12.475000</td>\n",
       "      <td>...</td>\n",
       "      <td>7.063704</td>\n",
       "      <td>8.420000</td>\n",
       "      <td>90.781456</td>\n",
       "      <td>65.900002</td>\n",
       "      <td>28.389999</td>\n",
       "      <td>17.309999</td>\n",
       "      <td>40.900002</td>\n",
       "      <td>12.415528</td>\n",
       "      <td>69.077667</td>\n",
       "      <td>44.599998</td>\n",
       "    </tr>\n",
       "    <tr>\n",
       "      <th>...</th>\n",
       "      <td>...</td>\n",
       "      <td>...</td>\n",
       "      <td>...</td>\n",
       "      <td>...</td>\n",
       "      <td>...</td>\n",
       "      <td>...</td>\n",
       "      <td>...</td>\n",
       "      <td>...</td>\n",
       "      <td>...</td>\n",
       "      <td>...</td>\n",
       "      <td>...</td>\n",
       "      <td>...</td>\n",
       "      <td>...</td>\n",
       "      <td>...</td>\n",
       "      <td>...</td>\n",
       "      <td>...</td>\n",
       "      <td>...</td>\n",
       "      <td>...</td>\n",
       "      <td>...</td>\n",
       "      <td>...</td>\n",
       "      <td>...</td>\n",
       "    </tr>\n",
       "    <tr>\n",
       "      <th>2024-05-29</th>\n",
       "      <td>145.479996</td>\n",
       "      <td>190.289993</td>\n",
       "      <td>100.730003</td>\n",
       "      <td>101.550003</td>\n",
       "      <td>293.769989</td>\n",
       "      <td>477.600006</td>\n",
       "      <td>228.149994</td>\n",
       "      <td>60.029999</td>\n",
       "      <td>240.089996</td>\n",
       "      <td>208.509995</td>\n",
       "      <td>...</td>\n",
       "      <td>77.949997</td>\n",
       "      <td>322.850006</td>\n",
       "      <td>249.679993</td>\n",
       "      <td>29.360001</td>\n",
       "      <td>92.529999</td>\n",
       "      <td>53.299999</td>\n",
       "      <td>113.629997</td>\n",
       "      <td>134.669998</td>\n",
       "      <td>115.139999</td>\n",
       "      <td>316.929993</td>\n",
       "    </tr>\n",
       "    <tr>\n",
       "      <th>2024-05-30</th>\n",
       "      <td>131.419998</td>\n",
       "      <td>191.289993</td>\n",
       "      <td>101.739998</td>\n",
       "      <td>101.410004</td>\n",
       "      <td>284.799988</td>\n",
       "      <td>445.869995</td>\n",
       "      <td>230.000000</td>\n",
       "      <td>60.139999</td>\n",
       "      <td>240.910004</td>\n",
       "      <td>199.929993</td>\n",
       "      <td>...</td>\n",
       "      <td>79.500000</td>\n",
       "      <td>329.119995</td>\n",
       "      <td>251.360001</td>\n",
       "      <td>29.719999</td>\n",
       "      <td>92.540001</td>\n",
       "      <td>54.320000</td>\n",
       "      <td>113.989998</td>\n",
       "      <td>134.839996</td>\n",
       "      <td>114.440002</td>\n",
       "      <td>316.619995</td>\n",
       "    </tr>\n",
       "    <tr>\n",
       "      <th>2024-05-31</th>\n",
       "      <td>130.410004</td>\n",
       "      <td>192.250000</td>\n",
       "      <td>102.190002</td>\n",
       "      <td>102.629997</td>\n",
       "      <td>282.290009</td>\n",
       "      <td>444.760010</td>\n",
       "      <td>234.490005</td>\n",
       "      <td>62.439999</td>\n",
       "      <td>244.919998</td>\n",
       "      <td>201.600006</td>\n",
       "      <td>...</td>\n",
       "      <td>81.029999</td>\n",
       "      <td>331.410004</td>\n",
       "      <td>255.289993</td>\n",
       "      <td>30.030001</td>\n",
       "      <td>94.879997</td>\n",
       "      <td>55.450001</td>\n",
       "      <td>117.260002</td>\n",
       "      <td>137.429993</td>\n",
       "      <td>115.150002</td>\n",
       "      <td>312.339996</td>\n",
       "    </tr>\n",
       "    <tr>\n",
       "      <th>2024-06-03</th>\n",
       "      <td>131.399994</td>\n",
       "      <td>194.029999</td>\n",
       "      <td>102.870003</td>\n",
       "      <td>101.699997</td>\n",
       "      <td>281.760010</td>\n",
       "      <td>439.019989</td>\n",
       "      <td>232.210007</td>\n",
       "      <td>61.990002</td>\n",
       "      <td>244.020004</td>\n",
       "      <td>210.820007</td>\n",
       "      <td>...</td>\n",
       "      <td>80.070000</td>\n",
       "      <td>328.730011</td>\n",
       "      <td>255.039993</td>\n",
       "      <td>29.709999</td>\n",
       "      <td>94.910004</td>\n",
       "      <td>55.279999</td>\n",
       "      <td>114.449997</td>\n",
       "      <td>139.330002</td>\n",
       "      <td>113.120003</td>\n",
       "      <td>307.630005</td>\n",
       "    </tr>\n",
       "    <tr>\n",
       "      <th>2024-06-04</th>\n",
       "      <td>130.960007</td>\n",
       "      <td>194.688004</td>\n",
       "      <td>103.169998</td>\n",
       "      <td>100.490997</td>\n",
       "      <td>287.714996</td>\n",
       "      <td>445.260010</td>\n",
       "      <td>229.884995</td>\n",
       "      <td>62.115002</td>\n",
       "      <td>246.360001</td>\n",
       "      <td>210.880005</td>\n",
       "      <td>...</td>\n",
       "      <td>80.050003</td>\n",
       "      <td>320.859985</td>\n",
       "      <td>255.610001</td>\n",
       "      <td>29.665001</td>\n",
       "      <td>92.809998</td>\n",
       "      <td>56.380001</td>\n",
       "      <td>112.460197</td>\n",
       "      <td>141.835007</td>\n",
       "      <td>113.720001</td>\n",
       "      <td>302.684998</td>\n",
       "    </tr>\n",
       "  </tbody>\n",
       "</table>\n",
       "<p>5140 rows × 377 columns</p>\n",
       "</div>"
      ],
      "text/plain": [
       "                     A        AAPL         ABT        ACGL         ACN  \\\n",
       "Date                                                                     \n",
       "2004-01-02   20.600859    0.380000   20.986116    4.488889   25.920000   \n",
       "2004-01-05   21.137339    0.395893   20.986116    4.455556   26.660000   \n",
       "2004-01-06   21.802574    0.394464   20.833490    4.450000   26.350000   \n",
       "2004-01-07   22.081545    0.403393   21.053452    4.441111   25.750000   \n",
       "2004-01-08   23.090130    0.417143   20.433968    4.481111   24.889999   \n",
       "...                ...         ...         ...         ...         ...   \n",
       "2024-05-29  145.479996  190.289993  100.730003  101.550003  293.769989   \n",
       "2024-05-30  131.419998  191.289993  101.739998  101.410004  284.799988   \n",
       "2024-05-31  130.410004  192.250000  102.190002  102.629997  282.290009   \n",
       "2024-06-03  131.399994  194.029999  102.870003  101.699997  281.760010   \n",
       "2024-06-04  130.960007  194.688004  103.169998  100.490997  287.714996   \n",
       "\n",
       "                  ADBE         ADI        ADM         ADP        ADSK  ...  \\\n",
       "Date                                                                   ...   \n",
       "2004-01-02   19.549999   45.790001  15.270000   31.690842   12.250000  ...   \n",
       "2004-01-05   19.900000   47.200001  15.410000   32.626656   12.360000  ...   \n",
       "2004-01-06   19.920000   48.259998  15.450000   32.935951   12.290000  ...   \n",
       "2004-01-07   19.719999   48.740002  15.250000   32.761478   12.395000  ...   \n",
       "2004-01-08   19.000000   49.610001  15.200000   32.698032   12.475000  ...   \n",
       "...                ...         ...        ...         ...         ...  ...   \n",
       "2024-05-29  477.600006  228.149994  60.029999  240.089996  208.509995  ...   \n",
       "2024-05-30  445.869995  230.000000  60.139999  240.910004  199.929993  ...   \n",
       "2024-05-31  444.760010  234.490005  62.439999  244.919998  201.600006  ...   \n",
       "2024-06-03  439.019989  232.210007  61.990002  244.020004  210.820007  ...   \n",
       "2024-06-04  445.260010  229.884995  62.115002  246.360001  210.880005  ...   \n",
       "\n",
       "                  WRB         WST         WTW         WY       WYNN  \\\n",
       "Date                                                                  \n",
       "2004-01-02   7.000494    8.520000   91.417221  64.150002  28.360001   \n",
       "2004-01-05   6.962963    8.485000   91.655632  65.000000  28.700001   \n",
       "2004-01-06   6.966914    8.387500   92.821190  64.750000  28.270000   \n",
       "2004-01-07   7.032099    8.415000   93.642387  64.629997  28.520000   \n",
       "2004-01-08   7.063704    8.420000   90.781456  65.900002  28.389999   \n",
       "...               ...         ...         ...        ...        ...   \n",
       "2024-05-29  77.949997  322.850006  249.679993  29.360001  92.529999   \n",
       "2024-05-30  79.500000  329.119995  251.360001  29.719999  92.540001   \n",
       "2024-05-31  81.029999  331.410004  255.289993  30.030001  94.879997   \n",
       "2024-06-03  80.070000  328.730011  255.039993  29.709999  94.910004   \n",
       "2024-06-04  80.050003  320.859985  255.610001  29.665001  92.809998   \n",
       "\n",
       "                  XEL         XOM         YUM         ZBH        ZBRA  \n",
       "Date                                                                   \n",
       "2004-01-02  16.969999   40.630001   12.052480   67.961166   43.586666  \n",
       "2004-01-05  16.969999   41.580002   12.228613   67.349518   43.666668  \n",
       "2004-01-06  16.969999   41.299999   12.595255   67.019417   43.766666  \n",
       "2004-01-07  17.120001   41.000000   12.379583   67.766991   44.500000  \n",
       "2004-01-08  17.309999   40.900002   12.415528   69.077667   44.599998  \n",
       "...               ...         ...         ...         ...         ...  \n",
       "2024-05-29  53.299999  113.629997  134.669998  115.139999  316.929993  \n",
       "2024-05-30  54.320000  113.989998  134.839996  114.440002  316.619995  \n",
       "2024-05-31  55.450001  117.260002  137.429993  115.150002  312.339996  \n",
       "2024-06-03  55.279999  114.449997  139.330002  113.120003  307.630005  \n",
       "2024-06-04  56.380001  112.460197  141.835007  113.720001  302.684998  \n",
       "\n",
       "[5140 rows x 377 columns]"
      ]
     },
     "execution_count": 17,
     "metadata": {},
     "output_type": "execute_result"
    }
   ],
   "source": [
    "df_2004"
   ]
  },
  {
   "cell_type": "markdown",
   "metadata": {},
   "source": [
    "### PREDICTING FOR APPL STOCK "
   ]
  },
  {
   "cell_type": "code",
   "execution_count": 18,
   "metadata": {},
   "outputs": [],
   "source": [
    "#https://www.datacamp.com/tutorial/lstm-python-stock-market"
   ]
  },
  {
   "cell_type": "code",
   "execution_count": 19,
   "metadata": {},
   "outputs": [],
   "source": [
    "AAPL_df = pd.DataFrame(df_2004.loc[:,'AAPL'])\n",
    "prices = np.array(AAPL_df['AAPL'])"
   ]
  },
  {
   "cell_type": "code",
   "execution_count": 22,
   "metadata": {},
   "outputs": [],
   "source": [
    "#sav_toBQ(AAPL_df, AAPL_df)\n",
    "#AAPL_df.to_csv(\"../raw_data/AAPL_df.csv\")"
   ]
  },
  {
   "cell_type": "code",
   "execution_count": 116,
   "metadata": {},
   "outputs": [
    {
     "data": {
      "image/png": "[encoded data removed]",
      "text/plain": [
       "<Figure size 1800x900 with 1 Axes>"
      ]
     },
     "metadata": {},
     "output_type": "display_data"
    }
   ],
   "source": [
    "plt.figure(figsize = (18,9))\n",
    "plt.plot(range(A_df.shape[0]),A_df['AAPL'])\n",
    "plt.xticks(range(0,A_df.shape[0],1000),A_df.index[::1000],rotation=45)\n",
    "plt.xlabel('Date',fontsize=18)\n",
    "plt.ylabel('Price',fontsize=18)\n",
    "plt.show()"
   ]
  },
  {
   "cell_type": "markdown",
   "metadata": {},
   "source": [
    "#### Normalizing the Data\n"
   ]
  },
  {
   "cell_type": "code",
   "execution_count": 117,
   "metadata": {},
   "outputs": [],
   "source": [
    "scaler = MinMaxScaler()\n",
    "prices = np.array(A_df['AAPL'])\n",
    "train_data = prices[:4000].reshape(-1,1)\n",
    "test_data = prices[4000:].reshape(-1,1)"
   ]
  },
  {
   "cell_type": "code",
   "execution_count": 118,
   "metadata": {},
   "outputs": [
    {
     "data": {
      "image/png": "[encoded data removed]",
      "text/plain": [
       "<Figure size 1800x900 with 1 Axes>"
      ]
     },
     "metadata": {},
     "output_type": "display_data"
    }
   ],
   "source": [
    "plt.figure(figsize = (18,9))\n",
    "plt.plot(range(len(prices[:4000])), prices[:4000] )\n",
    "plt.show()"
   ]
  },
  {
   "cell_type": "code",
   "execution_count": 119,
   "metadata": {},
   "outputs": [
    {
     "data": {
      "text/plain": [
       "'\\n# Train the Scaler with training data and smooth data\\nsmoothing_window_size = 1000\\nfor di in range(0,3000,smoothing_window_size):\\n    scaler.fit(train_data[di:di+smoothing_window_size,:])\\n    train_data[di:di+smoothing_window_size,:] = scaler.transform(train_data[di:di+smoothing_window_size,:])\\n\\n# You normalize the last bit of remaining data\\nscaler.fit(train_data[di+smoothing_window_size:,:])\\ntrain_data[di+smoothing_window_size:,:] = scaler.transform(train_data[di+smoothing_window_size:,:])\\n'"
      ]
     },
     "execution_count": 119,
     "metadata": {},
     "output_type": "execute_result"
    }
   ],
   "source": [
    "'''\n",
    "# Train the Scaler with training data and smooth data\n",
    "smoothing_window_size = 1000\n",
    "for di in range(0,3000,smoothing_window_size):\n",
    "    scaler.fit(train_data[di:di+smoothing_window_size,:])\n",
    "    train_data[di:di+smoothing_window_size,:] = scaler.transform(train_data[di:di+smoothing_window_size,:])\n",
    "\n",
    "# You normalize the last bit of remaining data\n",
    "scaler.fit(train_data[di+smoothing_window_size:,:])\n",
    "train_data[di+smoothing_window_size:,:] = scaler.transform(train_data[di+smoothing_window_size:,:])\n",
    "'''"
   ]
  },
  {
   "cell_type": "code",
   "execution_count": 92,
   "metadata": {},
   "outputs": [
    {
     "data": {
      "text/plain": [
       "'\\n# Reshape both train and test data\\ntrain_data = train_data.reshape(-1,1)\\n'"
      ]
     },
     "execution_count": 92,
     "metadata": {},
     "output_type": "execute_result"
    }
   ],
   "source": [
    "'''\n",
    "# Reshape both train and test data\n",
    "train_data = train_data.reshape(-1,1)\n",
    "'''"
   ]
  },
  {
   "cell_type": "code",
   "execution_count": 93,
   "metadata": {},
   "outputs": [
    {
     "data": {
      "text/plain": [
       "'\\n# Normalize test data\\ntest_data = scaler.transform(test_data).reshape(-1,1)\\n'"
      ]
     },
     "execution_count": 93,
     "metadata": {},
     "output_type": "execute_result"
    }
   ],
   "source": [
    "'''\n",
    "# Normalize test data\n",
    "test_data = scaler.transform(test_data).reshape(-1,1)\n",
    "'''"
   ]
  },
  {
   "cell_type": "code",
   "execution_count": 94,
   "metadata": {},
   "outputs": [
    {
     "data": {
      "text/plain": [
       "'\\nplt.figure(figsize = (18,9))\\nplt.plot(range(len(train_data)), train_data )\\nplt.show()\\n'"
      ]
     },
     "execution_count": 94,
     "metadata": {},
     "output_type": "execute_result"
    }
   ],
   "source": [
    "'''\n",
    "plt.figure(figsize = (18,9))\n",
    "plt.plot(range(len(train_data)), train_data )\n",
    "plt.show()\n",
    "'''"
   ]
  },
  {
   "cell_type": "code",
   "execution_count": 120,
   "metadata": {},
   "outputs": [
    {
     "data": {
      "text/plain": [
       "array([[ 0.38      ],\n",
       "       [ 0.39589301],\n",
       "       [ 0.39446399],\n",
       "       ...,\n",
       "       [66.77500153],\n",
       "       [66.57250214],\n",
       "       [65.79750061]])"
      ]
     },
     "execution_count": 120,
     "metadata": {},
     "output_type": "execute_result"
    }
   ],
   "source": [
    "train_data"
   ]
  },
  {
   "cell_type": "code",
   "execution_count": 121,
   "metadata": {},
   "outputs": [],
   "source": [
    "from sklearn.preprocessing import MinMaxScaler\n",
    "scaler = MinMaxScaler()\n",
    "\n",
    "scaled_data = scaler.fit_transform(train_data)"
   ]
  },
  {
   "cell_type": "code",
   "execution_count": 122,
   "metadata": {},
   "outputs": [],
   "source": [
    "scaled_data_test = scaler.transform(test_data)"
   ]
  },
  {
   "cell_type": "code",
   "execution_count": 123,
   "metadata": {},
   "outputs": [
    {
     "data": {
      "text/plain": [
       "array([[0.00000000e+00],\n",
       "       [2.39370614e-04],\n",
       "       [2.17847588e-04],\n",
       "       ...,\n",
       "       [1.00000000e+00],\n",
       "       [9.96950081e-01],\n",
       "       [9.85277492e-01]])"
      ]
     },
     "execution_count": 123,
     "metadata": {},
     "output_type": "execute_result"
    }
   ],
   "source": [
    "scaled_data"
   ]
  },
  {
   "cell_type": "code",
   "execution_count": 124,
   "metadata": {},
   "outputs": [],
   "source": [
    "# Set the number of days used for prediction\n",
    "prediction_days = 30\n",
    "\n",
    "# Initialize empty lists for training data input and output\n",
    "x = []\n",
    "y = []\n",
    "\n",
    "# Iterate through the scaled data, starting from the prediction_days index\n",
    "for i in range(prediction_days, len(scaled_data)):\n",
    "    # Append the previous 'prediction_days' values to x_train\n",
    "    x.append(scaled_data[i - prediction_days:i, 0])\n",
    "    # Append the current value to y_train\n",
    "    y.append(scaled_data[i, 0])\n",
    "\n",
    "# Convert the x_train and y_train lists to numpy arrays\n",
    "x_train, y_train = np.array(x), np.array(y)\n",
    "\n",
    "# Reshape x_train to a 3D array with the appropriate dimensions for the LSTM model\n",
    "#x_train = np.reshape(x_train, (x_train.shape[0], x_train.shape[1], 1))"
   ]
  },
  {
   "cell_type": "code",
   "execution_count": 125,
   "metadata": {},
   "outputs": [
    {
     "data": {
      "text/plain": [
       "(3970,)"
      ]
     },
     "execution_count": 125,
     "metadata": {},
     "output_type": "execute_result"
    }
   ],
   "source": [
    "#samples, time, features\n",
    "y_train.shape"
   ]
  },
  {
   "cell_type": "code",
   "execution_count": 126,
   "metadata": {},
   "outputs": [],
   "source": [
    "import numpy as np\n",
    "import pandas as pd\n",
    "\n",
    "import os\n",
    "import matplotlib.pyplot as plt\n",
    "import pandas_datareader as web\n",
    "import datetime as dt\n",
    "\n",
    "from sklearn.preprocessing import MinMaxScaler\n",
    "from tensorflow.keras.models import Sequential\n",
    "from tensorflow.keras.layers import Dense, Dropout, LSTM\n",
    "from tensorflow.keras.callbacks import ModelCheckpoint, EarlyStopping"
   ]
  },
  {
   "cell_type": "code",
   "execution_count": null,
   "metadata": {},
   "outputs": [],
   "source": []
  },
  {
   "cell_type": "code",
   "execution_count": 127,
   "metadata": {},
   "outputs": [
    {
     "name": "stderr",
     "output_type": "stream",
     "text": [
      "/Users/lme/.pyenv/versions/3.10.6/envs/lwhf/lib/python3.10/site-packages/keras/src/layers/core/dense.py:87: UserWarning: Do not pass an `input_shape`/`input_dim` argument to a layer. When using Sequential models, prefer using an `Input(shape)` object as the first layer in the model instead.\n",
      "  super().__init__(activity_regularizer=activity_regularizer, **kwargs)\n"
     ]
    }
   ],
   "source": [
    "# create and fit the LSTM network\n",
    "model = Sequential()\n",
    "model.add(Dense(4, input_dim=x_train.shape[1]))\n",
    "model.add(Dense(1))"
   ]
  },
  {
   "cell_type": "code",
   "execution_count": 128,
   "metadata": {},
   "outputs": [],
   "source": [
    "model.compile(loss= 'mse', optimizer='adam')\n"
   ]
  },
  {
   "cell_type": "code",
   "execution_count": 129,
   "metadata": {},
   "outputs": [],
   "source": [
    "## exponential moving average?"
   ]
  },
  {
   "cell_type": "code",
   "execution_count": 130,
   "metadata": {},
   "outputs": [],
   "source": [
    "model.fit(x_train, y_train)"
   ]
  },
  {
   "cell_type": "code",
   "execution_count": null,
   "metadata": {},
   "outputs": [],
   "source": []
  },
  {
   "cell_type": "code",
   "execution_count": null,
   "metadata": {},
   "outputs": [],
   "source": []
  },
  {
   "cell_type": "code",
   "execution_count": null,
   "metadata": {},
   "outputs": [],
   "source": []
  },
  {
   "cell_type": "code",
   "execution_count": 288,
   "metadata": {},
   "outputs": [],
   "source": [
    "# Exponential moving average smoothing\n",
    "# So the data will have a smoother curve than the original ragged data\n",
    "\n",
    "EMA = 0.0\n",
    "gamma = 0.1\n",
    "for ti in range(4000):\n",
    "  EMA = gamma*train_data[ti] + (1-gamma)*EMA\n",
    "  train_data[ti] = EMA\n",
    "\n",
    "# Used for visualization and test purposes\n",
    "all_data = np.concatenate([train_data,test_data],axis=0)"
   ]
  },
  {
   "cell_type": "code",
   "execution_count": 289,
   "metadata": {},
   "outputs": [
    {
     "data": {
      "image/png": "[encoded data removed]",
      "text/plain": [
       "<Figure size 1800x900 with 1 Axes>"
      ]
     },
     "metadata": {},
     "output_type": "display_data"
    }
   ],
   "source": [
    "plt.figure(figsize = (18,9))\n",
    "plt.plot(range(len(train_data)), train_data )\n",
    "plt.show()"
   ]
  },
  {
   "cell_type": "code",
   "execution_count": 292,
   "metadata": {},
   "outputs": [
    {
     "ename": "KeyError",
     "evalue": "'Date'",
     "output_type": "error",
     "traceback": [
      "\u001b[0;31m---------------------------------------------------------------------------\u001b[0m",
      "\u001b[0;31mKeyError\u001b[0m                                  Traceback (most recent call last)",
      "File \u001b[0;32m~/.pyenv/versions/3.10.6/envs/lwhf/lib/python3.10/site-packages/pandas/core/indexes/base.py:3805\u001b[0m, in \u001b[0;36mIndex.get_loc\u001b[0;34m(self, key)\u001b[0m\n\u001b[1;32m   3804\u001b[0m \u001b[38;5;28;01mtry\u001b[39;00m:\n\u001b[0;32m-> 3805\u001b[0m     \u001b[38;5;28;01mreturn\u001b[39;00m \u001b[38;5;28;43mself\u001b[39;49m\u001b[38;5;241;43m.\u001b[39;49m\u001b[43m_engine\u001b[49m\u001b[38;5;241;43m.\u001b[39;49m\u001b[43mget_loc\u001b[49m\u001b[43m(\u001b[49m\u001b[43mcasted_key\u001b[49m\u001b[43m)\u001b[49m\n\u001b[1;32m   3806\u001b[0m \u001b[38;5;28;01mexcept\u001b[39;00m \u001b[38;5;167;01mKeyError\u001b[39;00m \u001b[38;5;28;01mas\u001b[39;00m err:\n",
      "File \u001b[0;32mindex.pyx:167\u001b[0m, in \u001b[0;36mpandas._libs.index.IndexEngine.get_loc\u001b[0;34m()\u001b[0m\n",
      "File \u001b[0;32mindex.pyx:196\u001b[0m, in \u001b[0;36mpandas._libs.index.IndexEngine.get_loc\u001b[0;34m()\u001b[0m\n",
      "File \u001b[0;32mpandas/_libs/hashtable_class_helper.pxi:7081\u001b[0m, in \u001b[0;36mpandas._libs.hashtable.PyObjectHashTable.get_item\u001b[0;34m()\u001b[0m\n",
      "File \u001b[0;32mpandas/_libs/hashtable_class_helper.pxi:7089\u001b[0m, in \u001b[0;36mpandas._libs.hashtable.PyObjectHashTable.get_item\u001b[0;34m()\u001b[0m\n",
      "\u001b[0;31mKeyError\u001b[0m: 'Date'",
      "\nThe above exception was the direct cause of the following exception:\n",
      "\u001b[0;31mKeyError\u001b[0m                                  Traceback (most recent call last)",
      "Cell \u001b[0;32mIn[292], line 12\u001b[0m\n\u001b[1;32m     10\u001b[0m     date \u001b[38;5;241m=\u001b[39m dt\u001b[38;5;241m.\u001b[39mdatetime\u001b[38;5;241m.\u001b[39mstrptime(k, \u001b[38;5;124m'\u001b[39m\u001b[38;5;124m%\u001b[39m\u001b[38;5;124mY-\u001b[39m\u001b[38;5;124m%\u001b[39m\u001b[38;5;124mm-\u001b[39m\u001b[38;5;132;01m%d\u001b[39;00m\u001b[38;5;124m'\u001b[39m)\u001b[38;5;241m.\u001b[39mdate() \u001b[38;5;241m+\u001b[39m dt\u001b[38;5;241m.\u001b[39mtimedelta(days\u001b[38;5;241m=\u001b[39m\u001b[38;5;241m1\u001b[39m)\n\u001b[1;32m     11\u001b[0m \u001b[38;5;28;01melse\u001b[39;00m:\n\u001b[0;32m---> 12\u001b[0m     date \u001b[38;5;241m=\u001b[39m \u001b[43mA_df\u001b[49m\u001b[38;5;241;43m.\u001b[39;49m\u001b[43mloc\u001b[49m\u001b[43m[\u001b[49m\u001b[43mpred_idx\u001b[49m\u001b[43m,\u001b[49m\u001b[38;5;124;43m'\u001b[39;49m\u001b[38;5;124;43mDate\u001b[39;49m\u001b[38;5;124;43m'\u001b[39;49m\u001b[43m]\u001b[49m\n\u001b[1;32m     14\u001b[0m std_avg_predictions\u001b[38;5;241m.\u001b[39mappend(np\u001b[38;5;241m.\u001b[39mmean(train_data[pred_idx\u001b[38;5;241m-\u001b[39mwindow_size:pred_idx]))\n\u001b[1;32m     15\u001b[0m mse_errors\u001b[38;5;241m.\u001b[39mappend((std_avg_predictions[\u001b[38;5;241m-\u001b[39m\u001b[38;5;241m1\u001b[39m]\u001b[38;5;241m-\u001b[39mtrain_data[pred_idx])\u001b[38;5;241m*\u001b[39m\u001b[38;5;241m*\u001b[39m\u001b[38;5;241m2\u001b[39m)\n",
      "File \u001b[0;32m~/.pyenv/versions/3.10.6/envs/lwhf/lib/python3.10/site-packages/pandas/core/indexing.py:1183\u001b[0m, in \u001b[0;36m_LocationIndexer.__getitem__\u001b[0;34m(self, key)\u001b[0m\n\u001b[1;32m   1181\u001b[0m     key \u001b[38;5;241m=\u001b[39m \u001b[38;5;28mtuple\u001b[39m(com\u001b[38;5;241m.\u001b[39mapply_if_callable(x, \u001b[38;5;28mself\u001b[39m\u001b[38;5;241m.\u001b[39mobj) \u001b[38;5;28;01mfor\u001b[39;00m x \u001b[38;5;129;01min\u001b[39;00m key)\n\u001b[1;32m   1182\u001b[0m     \u001b[38;5;28;01mif\u001b[39;00m \u001b[38;5;28mself\u001b[39m\u001b[38;5;241m.\u001b[39m_is_scalar_access(key):\n\u001b[0;32m-> 1183\u001b[0m         \u001b[38;5;28;01mreturn\u001b[39;00m \u001b[38;5;28;43mself\u001b[39;49m\u001b[38;5;241;43m.\u001b[39;49m\u001b[43mobj\u001b[49m\u001b[38;5;241;43m.\u001b[39;49m\u001b[43m_get_value\u001b[49m\u001b[43m(\u001b[49m\u001b[38;5;241;43m*\u001b[39;49m\u001b[43mkey\u001b[49m\u001b[43m,\u001b[49m\u001b[43m \u001b[49m\u001b[43mtakeable\u001b[49m\u001b[38;5;241;43m=\u001b[39;49m\u001b[38;5;28;43mself\u001b[39;49m\u001b[38;5;241;43m.\u001b[39;49m\u001b[43m_takeable\u001b[49m\u001b[43m)\u001b[49m\n\u001b[1;32m   1184\u001b[0m     \u001b[38;5;28;01mreturn\u001b[39;00m \u001b[38;5;28mself\u001b[39m\u001b[38;5;241m.\u001b[39m_getitem_tuple(key)\n\u001b[1;32m   1185\u001b[0m \u001b[38;5;28;01melse\u001b[39;00m:\n\u001b[1;32m   1186\u001b[0m     \u001b[38;5;66;03m# we by definition only have the 0th axis\u001b[39;00m\n",
      "File \u001b[0;32m~/.pyenv/versions/3.10.6/envs/lwhf/lib/python3.10/site-packages/pandas/core/frame.py:4214\u001b[0m, in \u001b[0;36mDataFrame._get_value\u001b[0;34m(self, index, col, takeable)\u001b[0m\n\u001b[1;32m   4211\u001b[0m     series \u001b[38;5;241m=\u001b[39m \u001b[38;5;28mself\u001b[39m\u001b[38;5;241m.\u001b[39m_ixs(col, axis\u001b[38;5;241m=\u001b[39m\u001b[38;5;241m1\u001b[39m)\n\u001b[1;32m   4212\u001b[0m     \u001b[38;5;28;01mreturn\u001b[39;00m series\u001b[38;5;241m.\u001b[39m_values[index]\n\u001b[0;32m-> 4214\u001b[0m series \u001b[38;5;241m=\u001b[39m \u001b[38;5;28;43mself\u001b[39;49m\u001b[38;5;241;43m.\u001b[39;49m\u001b[43m_get_item_cache\u001b[49m\u001b[43m(\u001b[49m\u001b[43mcol\u001b[49m\u001b[43m)\u001b[49m\n\u001b[1;32m   4215\u001b[0m engine \u001b[38;5;241m=\u001b[39m \u001b[38;5;28mself\u001b[39m\u001b[38;5;241m.\u001b[39mindex\u001b[38;5;241m.\u001b[39m_engine\n\u001b[1;32m   4217\u001b[0m \u001b[38;5;28;01mif\u001b[39;00m \u001b[38;5;129;01mnot\u001b[39;00m \u001b[38;5;28misinstance\u001b[39m(\u001b[38;5;28mself\u001b[39m\u001b[38;5;241m.\u001b[39mindex, MultiIndex):\n\u001b[1;32m   4218\u001b[0m     \u001b[38;5;66;03m# CategoricalIndex: Trying to use the engine fastpath may give incorrect\u001b[39;00m\n\u001b[1;32m   4219\u001b[0m     \u001b[38;5;66;03m#  results if our categories are integers that dont match our codes\u001b[39;00m\n\u001b[1;32m   4220\u001b[0m     \u001b[38;5;66;03m# IntervalIndex: IntervalTree has no get_loc\u001b[39;00m\n",
      "File \u001b[0;32m~/.pyenv/versions/3.10.6/envs/lwhf/lib/python3.10/site-packages/pandas/core/frame.py:4638\u001b[0m, in \u001b[0;36mDataFrame._get_item_cache\u001b[0;34m(self, item)\u001b[0m\n\u001b[1;32m   4633\u001b[0m res \u001b[38;5;241m=\u001b[39m cache\u001b[38;5;241m.\u001b[39mget(item)\n\u001b[1;32m   4634\u001b[0m \u001b[38;5;28;01mif\u001b[39;00m res \u001b[38;5;129;01mis\u001b[39;00m \u001b[38;5;28;01mNone\u001b[39;00m:\n\u001b[1;32m   4635\u001b[0m     \u001b[38;5;66;03m# All places that call _get_item_cache have unique columns,\u001b[39;00m\n\u001b[1;32m   4636\u001b[0m     \u001b[38;5;66;03m#  pending resolution of GH#33047\u001b[39;00m\n\u001b[0;32m-> 4638\u001b[0m     loc \u001b[38;5;241m=\u001b[39m \u001b[38;5;28;43mself\u001b[39;49m\u001b[38;5;241;43m.\u001b[39;49m\u001b[43mcolumns\u001b[49m\u001b[38;5;241;43m.\u001b[39;49m\u001b[43mget_loc\u001b[49m\u001b[43m(\u001b[49m\u001b[43mitem\u001b[49m\u001b[43m)\u001b[49m\n\u001b[1;32m   4639\u001b[0m     res \u001b[38;5;241m=\u001b[39m \u001b[38;5;28mself\u001b[39m\u001b[38;5;241m.\u001b[39m_ixs(loc, axis\u001b[38;5;241m=\u001b[39m\u001b[38;5;241m1\u001b[39m)\n\u001b[1;32m   4641\u001b[0m     cache[item] \u001b[38;5;241m=\u001b[39m res\n",
      "File \u001b[0;32m~/.pyenv/versions/3.10.6/envs/lwhf/lib/python3.10/site-packages/pandas/core/indexes/base.py:3812\u001b[0m, in \u001b[0;36mIndex.get_loc\u001b[0;34m(self, key)\u001b[0m\n\u001b[1;32m   3807\u001b[0m     \u001b[38;5;28;01mif\u001b[39;00m \u001b[38;5;28misinstance\u001b[39m(casted_key, \u001b[38;5;28mslice\u001b[39m) \u001b[38;5;129;01mor\u001b[39;00m (\n\u001b[1;32m   3808\u001b[0m         \u001b[38;5;28misinstance\u001b[39m(casted_key, abc\u001b[38;5;241m.\u001b[39mIterable)\n\u001b[1;32m   3809\u001b[0m         \u001b[38;5;129;01mand\u001b[39;00m \u001b[38;5;28many\u001b[39m(\u001b[38;5;28misinstance\u001b[39m(x, \u001b[38;5;28mslice\u001b[39m) \u001b[38;5;28;01mfor\u001b[39;00m x \u001b[38;5;129;01min\u001b[39;00m casted_key)\n\u001b[1;32m   3810\u001b[0m     ):\n\u001b[1;32m   3811\u001b[0m         \u001b[38;5;28;01mraise\u001b[39;00m InvalidIndexError(key)\n\u001b[0;32m-> 3812\u001b[0m     \u001b[38;5;28;01mraise\u001b[39;00m \u001b[38;5;167;01mKeyError\u001b[39;00m(key) \u001b[38;5;28;01mfrom\u001b[39;00m \u001b[38;5;21;01merr\u001b[39;00m\n\u001b[1;32m   3813\u001b[0m \u001b[38;5;28;01mexcept\u001b[39;00m \u001b[38;5;167;01mTypeError\u001b[39;00m:\n\u001b[1;32m   3814\u001b[0m     \u001b[38;5;66;03m# If we have a listlike key, _check_indexing_error will raise\u001b[39;00m\n\u001b[1;32m   3815\u001b[0m     \u001b[38;5;66;03m#  InvalidIndexError. Otherwise we fall through and re-raise\u001b[39;00m\n\u001b[1;32m   3816\u001b[0m     \u001b[38;5;66;03m#  the TypeError.\u001b[39;00m\n\u001b[1;32m   3817\u001b[0m     \u001b[38;5;28mself\u001b[39m\u001b[38;5;241m.\u001b[39m_check_indexing_error(key)\n",
      "\u001b[0;31mKeyError\u001b[0m: 'Date'"
     ]
    }
   ],
   "source": [
    "window_size = 100\n",
    "N = train_data.size\n",
    "std_avg_predictions = []\n",
    "std_avg_x = []\n",
    "mse_errors = []\n",
    "\n",
    "for pred_idx in range(window_size,N):\n",
    "\n",
    "    if pred_idx >= N:\n",
    "        date = dt.datetime.strptime(k, '%Y-%m-%d').date() + dt.timedelta(days=1)\n",
    "    else:\n",
    "        date = A_df.loc[pred_idx,'Date']\n",
    "\n",
    "    std_avg_predictions.append(np.mean(train_data[pred_idx-window_size:pred_idx]))\n",
    "    mse_errors.append((std_avg_predictions[-1]-train_data[pred_idx])**2)\n",
    "    std_avg_x.append(date)\n",
    "\n",
    "print('MSE error for standard averaging: %.5f'%(0.5*np.mean(mse_errors)))"
   ]
  },
  {
   "cell_type": "markdown",
   "metadata": {},
   "source": [
    "## Exponential moving average"
   ]
  },
  {
   "cell_type": "markdown",
   "metadata": {},
   "source": [
    "$x_{t+1}$ as,\n",
    "\n",
    "$$x_{t+1} = EMA_{t} = \\gamma \\times EMA_{t-1} + (1-\\gamma) x_t$$ \n",
    "\n",
    "where $EMA_0 = 0$ and $EMA$ "
   ]
  },
  {
   "cell_type": "markdown",
   "metadata": {},
   "source": []
  },
  {
   "cell_type": "code",
   "execution_count": 291,
   "metadata": {},
   "outputs": [
    {
     "ename": "NameError",
     "evalue": "name 'date' is not defined",
     "output_type": "error",
     "traceback": [
      "\u001b[0;31m---------------------------------------------------------------------------\u001b[0m",
      "\u001b[0;31mNameError\u001b[0m                                 Traceback (most recent call last)",
      "Cell \u001b[0;32mIn[291], line 19\u001b[0m\n\u001b[1;32m     17\u001b[0m     run_avg_predictions\u001b[38;5;241m.\u001b[39mappend(running_mean)\n\u001b[1;32m     18\u001b[0m     mse_errors\u001b[38;5;241m.\u001b[39mappend((run_avg_predictions[\u001b[38;5;241m-\u001b[39m\u001b[38;5;241m1\u001b[39m]\u001b[38;5;241m-\u001b[39mtrain_data[pred_idx])\u001b[38;5;241m*\u001b[39m\u001b[38;5;241m*\u001b[39m\u001b[38;5;241m2\u001b[39m)\n\u001b[0;32m---> 19\u001b[0m     run_avg_x\u001b[38;5;241m.\u001b[39mappend(\u001b[43mdate\u001b[49m)\n\u001b[1;32m     21\u001b[0m \u001b[38;5;28mprint\u001b[39m(\u001b[38;5;124m'\u001b[39m\u001b[38;5;124mMSE error for EMA averaging: \u001b[39m\u001b[38;5;132;01m%.5f\u001b[39;00m\u001b[38;5;124m'\u001b[39m\u001b[38;5;241m%\u001b[39m(\u001b[38;5;241m0.5\u001b[39m\u001b[38;5;241m*\u001b[39mnp\u001b[38;5;241m.\u001b[39mmean(mse_errors)))\n",
      "\u001b[0;31mNameError\u001b[0m: name 'date' is not defined"
     ]
    }
   ],
   "source": [
    "window_size = 100\n",
    "N = train_data.size\n",
    "\n",
    "run_avg_predictions = []\n",
    "run_avg_x = []\n",
    "\n",
    "mse_errors = []\n",
    "\n",
    "running_mean = 0.0\n",
    "run_avg_predictions.append(running_mean)\n",
    "\n",
    "decay = 0.5\n",
    "\n",
    "for pred_idx in range(1,N):\n",
    "\n",
    "    running_mean = running_mean*decay + (1.0-decay)*train_data[pred_idx-1]\n",
    "    run_avg_predictions.append(running_mean)\n",
    "    mse_errors.append((run_avg_predictions[-1]-train_data[pred_idx])**2)\n",
    "    run_avg_x.append(date)\n",
    "\n",
    "print('MSE error for EMA averaging: %.5f'%(0.5*np.mean(mse_errors)))"
   ]
  },
  {
   "cell_type": "code",
   "execution_count": null,
   "metadata": {},
   "outputs": [],
   "source": []
  },
  {
   "cell_type": "code",
   "execution_count": null,
   "metadata": {},
   "outputs": [],
   "source": []
  }
 ],
 "metadata": {
  "kernelspec": {
   "display_name": "lwhf",
   "language": "python",
   "name": "python3"
  },
  "language_info": {
   "codemirror_mode": {
    "name": "ipython",
    "version": 3
   },
   "file_extension": ".py",
   "mimetype": "text/x-python",
   "name": "python",
   "nbconvert_exporter": "python",
   "pygments_lexer": "ipython3",
   "version": "3.10.6"
  }
 },
 "nbformat": 4,
 "nbformat_minor": 2
}

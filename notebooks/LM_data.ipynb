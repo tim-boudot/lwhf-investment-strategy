{
 "cells": [
  {
   "cell_type": "code",
   "execution_count": 3,
   "metadata": {},
   "outputs": [
    {
     "name": "stdout",
     "output_type": "stream",
     "text": [
      "Collecting yfinance\n",
      "  Downloading yfinance-0.2.40-py2.py3-none-any.whl.metadata (11 kB)\n",
      "Requirement already satisfied: pandas>=1.3.0 in /Users/lme/.pyenv/versions/3.10.6/envs/lwhf/lib/python3.10/site-packages (from yfinance) (2.2.2)\n",
      "Requirement already satisfied: numpy>=1.16.5 in /Users/lme/.pyenv/versions/3.10.6/envs/lwhf/lib/python3.10/site-packages (from yfinance) (1.26.4)\n",
      "Requirement already satisfied: requests>=2.31 in /Users/lme/.pyenv/versions/3.10.6/envs/lwhf/lib/python3.10/site-packages (from yfinance) (2.32.3)\n",
      "Collecting multitasking>=0.0.7 (from yfinance)\n",
      "  Downloading multitasking-0.0.11-py3-none-any.whl.metadata (5.5 kB)\n",
      "Collecting lxml>=4.9.1 (from yfinance)\n",
      "  Downloading lxml-5.2.2-cp310-cp310-macosx_10_9_universal2.whl.metadata (3.4 kB)\n",
      "Requirement already satisfied: platformdirs>=2.0.0 in /Users/lme/.pyenv/versions/3.10.6/envs/lwhf/lib/python3.10/site-packages (from yfinance) (4.2.2)\n",
      "Requirement already satisfied: pytz>=2022.5 in /Users/lme/.pyenv/versions/3.10.6/envs/lwhf/lib/python3.10/site-packages (from yfinance) (2024.1)\n",
      "Collecting frozendict>=2.3.4 (from yfinance)\n",
      "  Downloading frozendict-2.4.4-cp310-cp310-macosx_11_0_arm64.whl.metadata (23 kB)\n",
      "Collecting peewee>=3.16.2 (from yfinance)\n",
      "  Downloading peewee-3.17.5.tar.gz (3.0 MB)\n",
      "\u001b[2K     \u001b[90m━━━━━━━━━━━━━━━━━━━━━━━━━━━━━━━━━━━━━━━━\u001b[0m \u001b[32m3.0/3.0 MB\u001b[0m \u001b[31m16.7 MB/s\u001b[0m eta \u001b[36m0:00:00\u001b[0ma \u001b[36m0:00:01\u001b[0m\n",
      "\u001b[?25h  Installing build dependencies ... \u001b[?25ldone\n",
      "\u001b[?25h  Getting requirements to build wheel ... \u001b[?25ldone\n",
      "\u001b[?25h  Preparing metadata (pyproject.toml) ... \u001b[?25ldone\n",
      "\u001b[?25hRequirement already satisfied: beautifulsoup4>=4.11.1 in /Users/lme/.pyenv/versions/3.10.6/envs/lwhf/lib/python3.10/site-packages (from yfinance) (4.12.3)\n",
      "Collecting html5lib>=1.1 (from yfinance)\n",
      "  Downloading html5lib-1.1-py2.py3-none-any.whl.metadata (16 kB)\n",
      "Requirement already satisfied: soupsieve>1.2 in /Users/lme/.pyenv/versions/3.10.6/envs/lwhf/lib/python3.10/site-packages (from beautifulsoup4>=4.11.1->yfinance) (2.5)\n",
      "Requirement already satisfied: six>=1.9 in /Users/lme/.pyenv/versions/3.10.6/envs/lwhf/lib/python3.10/site-packages (from html5lib>=1.1->yfinance) (1.16.0)\n",
      "Requirement already satisfied: webencodings in /Users/lme/.pyenv/versions/3.10.6/envs/lwhf/lib/python3.10/site-packages (from html5lib>=1.1->yfinance) (0.5.1)\n",
      "Requirement already satisfied: python-dateutil>=2.8.2 in /Users/lme/.pyenv/versions/3.10.6/envs/lwhf/lib/python3.10/site-packages (from pandas>=1.3.0->yfinance) (2.9.0.post0)\n",
      "Requirement already satisfied: tzdata>=2022.7 in /Users/lme/.pyenv/versions/3.10.6/envs/lwhf/lib/python3.10/site-packages (from pandas>=1.3.0->yfinance) (2024.1)\n",
      "Requirement already satisfied: charset-normalizer<4,>=2 in /Users/lme/.pyenv/versions/3.10.6/envs/lwhf/lib/python3.10/site-packages (from requests>=2.31->yfinance) (3.3.2)\n",
      "Requirement already satisfied: idna<4,>=2.5 in /Users/lme/.pyenv/versions/3.10.6/envs/lwhf/lib/python3.10/site-packages (from requests>=2.31->yfinance) (3.7)\n",
      "Requirement already satisfied: urllib3<3,>=1.21.1 in /Users/lme/.pyenv/versions/3.10.6/envs/lwhf/lib/python3.10/site-packages (from requests>=2.31->yfinance) (2.2.1)\n",
      "Requirement already satisfied: certifi>=2017.4.17 in /Users/lme/.pyenv/versions/3.10.6/envs/lwhf/lib/python3.10/site-packages (from requests>=2.31->yfinance) (2024.6.2)\n",
      "Downloading yfinance-0.2.40-py2.py3-none-any.whl (73 kB)\n",
      "\u001b[2K   \u001b[90m━━━━━━━━━━━━━━━━━━━━━━━━━━━━━━━━━━━━━━━━\u001b[0m \u001b[32m73.5/73.5 kB\u001b[0m \u001b[31m21.5 MB/s\u001b[0m eta \u001b[36m0:00:00\u001b[0m\n",
      "\u001b[?25hDownloading frozendict-2.4.4-cp310-cp310-macosx_11_0_arm64.whl (37 kB)\n",
      "Downloading html5lib-1.1-py2.py3-none-any.whl (112 kB)\n",
      "\u001b[2K   \u001b[90m━━━━━━━━━━━━━━━━━━━━━━━━━━━━━━━━━━━━━━━━\u001b[0m \u001b[32m112.2/112.2 kB\u001b[0m \u001b[31m25.2 MB/s\u001b[0m eta \u001b[36m0:00:00\u001b[0m\n",
      "\u001b[?25hDownloading lxml-5.2.2-cp310-cp310-macosx_10_9_universal2.whl (8.1 MB)\n",
      "\u001b[2K   \u001b[90m━━━━━━━━━━━━━━━━━━━━━━━━━━━━━━━━━━━━━━━━\u001b[0m \u001b[32m8.1/8.1 MB\u001b[0m \u001b[31m22.5 MB/s\u001b[0m eta \u001b[36m0:00:00\u001b[0m00:01\u001b[0m00:01\u001b[0m\n",
      "\u001b[?25hDownloading multitasking-0.0.11-py3-none-any.whl (8.5 kB)\n",
      "Building wheels for collected packages: peewee\n",
      "  Building wheel for peewee (pyproject.toml) ... \u001b[?25ldone\n",
      "\u001b[?25h  Created wheel for peewee: filename=peewee-3.17.5-cp310-cp310-macosx_14_0_arm64.whl size=252362 sha256=f8595d6e194e85234895e305071542a88ce0552b2b789fe071b5f42d81efc15a\n",
      "  Stored in directory: /Users/lme/Library/Caches/pip/wheels/06/80/9b/98db0d58349a2f5c09f8406789ade4270762f97b7d26f2fa22\n",
      "Successfully built peewee\n",
      "Installing collected packages: peewee, multitasking, lxml, html5lib, frozendict, yfinance\n",
      "Successfully installed frozendict-2.4.4 html5lib-1.1 lxml-5.2.2 multitasking-0.0.11 peewee-3.17.5 yfinance-0.2.40\n"
     ]
    }
   ],
   "source": [
    "!pip install yfinance"
   ]
  },
  {
   "cell_type": "code",
   "execution_count": 15,
   "metadata": {},
   "outputs": [],
   "source": [
    "import yfinance as yahooFinance"
   ]
  },
  {
   "cell_type": "code",
   "execution_count": 11,
   "metadata": {},
   "outputs": [
    {
     "name": "stdout",
     "output_type": "stream",
     "text": [
      "address1 : 1 Meta Way\n",
      "city : Menlo Park\n",
      "state : CA\n",
      "zip : 94025\n",
      "country : United States\n",
      "phone : 650 543 4800\n",
      "website : https://investor.fb.com\n",
      "industry : Internet Content & Information\n",
      "industryKey : internet-content-information\n",
      "industryDisp : Internet Content & Information\n",
      "sector : Communication Services\n",
      "sectorKey : communication-services\n",
      "sectorDisp : Communication Services\n",
      "longBusinessSummary : Meta Platforms, Inc. engages in the development of products that enable people to connect and share with friends and family through mobile devices, personal computers, virtual reality headsets, and wearables worldwide. It operates in two segments, Family of Apps and Reality Labs. The Family of Apps segment offers Facebook, which enables people to share, discuss, discover, and connect with interests; Instagram, a community for sharing photos, videos, and private messages, as well as feed, stories, reels, video, live, and shops; Messenger, a messaging application for people to connect with friends, family, communities, and businesses across platforms and devices through text, audio, and video calls; and WhatsApp, a messaging application that is used by people and businesses to communicate and transact privately. The Reality Labs segment provides augmented and virtual reality related products comprising consumer hardware, software, and content that help people feel connected, anytime, and anywhere. The company was formerly known as Facebook, Inc. and changed its name to Meta Platforms, Inc. in October 2021. The company was incorporated in 2004 and is headquartered in Menlo Park, California\n",
      "fullTimeEmployees : 69329\n",
      "companyOfficers : [{'maxAge': 1, 'name': 'Mr. Mark Elliot Zuckerberg', 'age': 39, 'title': 'Founder, Chairman & CEO', 'yearBorn': 1984, 'fiscalYear': 2023, 'totalPay': 24399968, 'exercisedValue': 0, 'unexercisedValue': 0}, {'maxAge': 1, 'name': 'Ms. Susan J. S. Li', 'age': 37, 'title': 'Chief Financial Officer', 'yearBorn': 1986, 'fiscalYear': 2023, 'totalPay': 1963161, 'exercisedValue': 0, 'unexercisedValue': 0}, {'maxAge': 1, 'name': 'Mr. Javier  Olivan', 'age': 46, 'title': 'Chief Operating Officer', 'yearBorn': 1977, 'fiscalYear': 2023, 'totalPay': 4065442, 'exercisedValue': 0, 'unexercisedValue': 0}, {'maxAge': 1, 'name': 'Mr. Andrew  Bosworth', 'age': 41, 'title': 'Chief Technology Officer', 'yearBorn': 1982, 'fiscalYear': 2023, 'totalPay': 2000988, 'exercisedValue': 0, 'unexercisedValue': 0}, {'maxAge': 1, 'name': 'Mr. Christopher K. Cox', 'age': 40, 'title': 'Chief Product Officer', 'yearBorn': 1983, 'fiscalYear': 2023, 'totalPay': 2013913, 'exercisedValue': 0, 'unexercisedValue': 0}, {'maxAge': 1, 'name': 'Mr. Aaron A. Anderson', 'title': 'Chief Accounting Officer', 'fiscalYear': 2023, 'exercisedValue': 0, 'unexercisedValue': 0}, {'maxAge': 1, 'name': 'Mr. Atish  Banerjea', 'age': 57, 'title': 'Chief Information Officer', 'yearBorn': 1966, 'fiscalYear': 2023, 'exercisedValue': 0, 'unexercisedValue': 0}, {'maxAge': 1, 'name': 'Ms. Deborah T. Crawford', 'title': 'Vice President of Investor Relations', 'fiscalYear': 2023, 'exercisedValue': 0, 'unexercisedValue': 0}, {'maxAge': 1, 'name': 'Ms. Jennifer G. Newstead', 'age': 53, 'title': 'Chief Legal Officer', 'yearBorn': 1970, 'fiscalYear': 2023, 'totalPay': 3079624, 'exercisedValue': 0, 'unexercisedValue': 0}, {'maxAge': 1, 'name': 'Mr. Henry T. A. Moniz', 'age': 58, 'title': 'Chief Compliance Officer', 'yearBorn': 1965, 'fiscalYear': 2023, 'exercisedValue': 0, 'unexercisedValue': 0}]\n",
      "auditRisk : 9\n",
      "boardRisk : 10\n",
      "compensationRisk : 10\n",
      "shareHolderRightsRisk : 10\n",
      "overallRisk : 10\n",
      "governanceEpochDate : 1717200000\n",
      "compensationAsOfEpochDate : 1703980800\n",
      "maxAge : 86400\n",
      "priceHint : 2\n",
      "previousClose : 466.83\n",
      "open : 470.87\n",
      "dayLow : 468.24\n",
      "dayHigh : 479.6\n",
      "regularMarketPreviousClose : 466.83\n",
      "regularMarketOpen : 470.87\n",
      "regularMarketDayLow : 468.24\n",
      "regularMarketDayHigh : 479.6\n",
      "dividendRate : 2.0\n",
      "dividendYield : 0.0043\n",
      "exDividendDate : 1718323200\n",
      "payoutRatio : 0.028800001\n",
      "beta : 1.208\n",
      "trailingPE : 27.506044\n",
      "forwardPE : 22.473188\n",
      "volume : 5180718\n",
      "regularMarketVolume : 5180718\n",
      "averageVolume : 15601285\n",
      "averageVolume10days : 11517950\n",
      "averageDailyVolume10Day : 11517950\n",
      "bid : 477.24\n",
      "ask : 477.98\n",
      "bidSize : 100\n",
      "askSize : 100\n",
      "marketCap : 1211903246336\n",
      "fiftyTwoWeekLow : 258.88\n",
      "fiftyTwoWeekHigh : 531.49\n",
      "priceToSalesTrailing12Months : 8.491951\n",
      "fiftyDayAverage : 482.1438\n",
      "twoHundredDayAverage : 391.7324\n",
      "trailingAnnualDividendRate : 0.5\n",
      "trailingAnnualDividendYield : 0.0010710538\n",
      "currency : USD\n",
      "enterpriseValue : 1163643191296\n",
      "profitMargins : 0.32062998\n",
      "floatShares : 2186746126\n",
      "sharesOutstanding : 2191450112\n",
      "sharesShort : 29721686\n",
      "sharesShortPriorMonth : 27026387\n",
      "sharesShortPreviousMonthDate : 1713139200\n",
      "dateShortInterest : 1715731200\n",
      "sharesPercentSharesOut : 0.0117\n",
      "heldPercentInsiders : 0.00183\n",
      "heldPercentInstitutions : 0.79165\n",
      "shortRatio : 1.51\n",
      "shortPercentOfFloat : 0.0136\n",
      "impliedSharesOutstanding : 2578299904\n",
      "bookValue : 58.939\n",
      "priceToBook : 8.106347\n",
      "lastFiscalYearEnd : 1703980800\n",
      "nextFiscalYearEnd : 1735603200\n",
      "mostRecentQuarter : 1711843200\n",
      "earningsQuarterlyGrowth : 1.167\n",
      "netIncomeToCommon : 45758001152\n",
      "trailingEps : 17.37\n",
      "forwardEps : 21.26\n",
      "pegRatio : 0.91\n",
      "enterpriseToRevenue : 8.154\n",
      "enterpriseToEbitda : 17.001\n",
      "52WeekChange : 0.7201444\n",
      "SandP52WeekChange : 0.23485482\n",
      "lastDividendValue : 0.5\n",
      "lastDividendDate : 1708473600\n",
      "exchange : NMS\n",
      "quoteType : EQUITY\n",
      "symbol : META\n",
      "underlyingSymbol : META\n",
      "shortName : Meta Platforms, Inc.\n",
      "longName : Meta Platforms, Inc.\n",
      "firstTradeDateEpochUtc : 1337347800\n",
      "timeZoneFullName : America/New_York\n",
      "timeZoneShortName : EDT\n",
      "uuid : e59f1c4f-b1aa-3d70-a8c3-eb59ff3e461b\n",
      "messageBoardId : finmb_20765463\n",
      "gmtOffSetMilliseconds : -14400000\n",
      "currentPrice : 477.78\n",
      "targetHighPrice : 546.15\n",
      "targetLowPrice : 239.46\n",
      "targetMeanPrice : 472.46\n",
      "targetMedianPrice : 478.92\n",
      "recommendationMean : 1.8\n",
      "recommendationKey : buy\n",
      "numberOfAnalystOpinions : 52\n",
      "totalCash : 58119999488\n",
      "totalCashPerShare : 22.913\n",
      "ebitda : 68446998528\n",
      "totalDebt : 37632999424\n",
      "quickRatio : 2.546\n",
      "currentRatio : 2.681\n",
      "totalRevenue : 142711996416\n",
      "debtToEquity : 25.168\n",
      "revenuePerShare : 55.671\n",
      "returnOnAssets : 0.17312999\n",
      "returnOnEquity : 0.33361\n",
      "freeCashflow : 35132125184\n",
      "operatingCashflow : 76360998912\n",
      "earningsGrowth : 1.141\n",
      "revenueGrowth : 0.273\n",
      "grossMargins : 0.81496\n",
      "ebitdaMargins : 0.47962\n",
      "operatingMargins : 0.38579\n",
      "financialCurrency : USD\n",
      "trailingPegRatio : 1.0791\n"
     ]
    }
   ],
   "source": [
    "GetFacebookInformation = yahooFinance.Ticker(\"META\")\n",
    "\n",
    "# get all key value pairs that are available\n",
    "for key, value in GetFacebookInformation.info.items():\n",
    "    print(key, \":\", value)"
   ]
  },
  {
   "cell_type": "code",
   "execution_count": 14,
   "metadata": {},
   "outputs": [
    {
     "data": {
      "text/plain": [
       "Date\n",
       "2024-05-03 00:00:00-04:00    451.959991\n",
       "2024-05-06 00:00:00-04:00    465.679993\n",
       "2024-05-07 00:00:00-04:00    468.239990\n",
       "2024-05-08 00:00:00-04:00    472.600006\n",
       "2024-05-09 00:00:00-04:00    475.420013\n",
       "2024-05-10 00:00:00-04:00    476.200012\n",
       "2024-05-13 00:00:00-04:00    468.010010\n",
       "2024-05-14 00:00:00-04:00    471.850006\n",
       "2024-05-15 00:00:00-04:00    481.540009\n",
       "2024-05-16 00:00:00-04:00    473.230011\n",
       "2024-05-17 00:00:00-04:00    471.910004\n",
       "2024-05-20 00:00:00-04:00    468.839996\n",
       "2024-05-21 00:00:00-04:00    464.630005\n",
       "2024-05-22 00:00:00-04:00    467.779999\n",
       "2024-05-23 00:00:00-04:00    465.779999\n",
       "2024-05-24 00:00:00-04:00    478.220001\n",
       "2024-05-28 00:00:00-04:00    479.920013\n",
       "2024-05-29 00:00:00-04:00    474.359985\n",
       "2024-05-30 00:00:00-04:00    467.049988\n",
       "2024-05-31 00:00:00-04:00    466.829987\n",
       "2024-06-03 00:00:00-04:00    477.540009\n",
       "Name: Close, dtype: float64"
      ]
     },
     "execution_count": 14,
     "metadata": {},
     "output_type": "execute_result"
    }
   ],
   "source": [
    "#daily data\n",
    "GetFacebookInformation.history().Close"
   ]
  },
  {
   "cell_type": "code",
   "execution_count": 1,
   "metadata": {},
   "outputs": [],
   "source": [
    "import pandas as pd"
   ]
  },
  {
   "cell_type": "code",
   "execution_count": 14,
   "metadata": {},
   "outputs": [
    {
     "name": "stdout",
     "output_type": "stream",
     "text": [
      "Cloning into 'f6a2613b24c393821f81c0c1d23d4192'...\n",
      "remote: Enumerating objects: 3, done.\u001b[K\n",
      "remote: Total 3 (delta 0), reused 0 (delta 0), pack-reused 3\u001b[K\n",
      "Receiving objects: 100% (3/3), 6.42 KiB | 6.42 MiB/s, done.\n"
     ]
    }
   ],
   "source": [
    "!git clone https://gist.github.com/f6a2613b24c393821f81c0c1d23d4192.git\n"
   ]
  },
  {
   "cell_type": "code",
   "execution_count": 13,
   "metadata": {},
   "outputs": [],
   "source": [
    "#data from https://gist.github.com/ZeccaLehn/f6a2613b24c393821f81c0c1d23d4192\n",
    "list_tickers = list(pd.read_csv('SP500.csv', sep = ',')['Symbol'])"
   ]
  },
  {
   "cell_type": "code",
   "execution_count": null,
   "metadata": {},
   "outputs": [],
   "source": [
    "for name_ticker in list_tickers:\n",
    "    yahooFinance.Ticker(name_ticker).history()"
   ]
  },
  {
   "cell_type": "code",
   "execution_count": 33,
   "metadata": {},
   "outputs": [
    {
     "data": {
      "text/plain": [
       "DatetimeIndex(['2024-05-03 00:00:00-04:00', '2024-05-06 00:00:00-04:00',\n",
       "               '2024-05-07 00:00:00-04:00', '2024-05-08 00:00:00-04:00',\n",
       "               '2024-05-09 00:00:00-04:00', '2024-05-10 00:00:00-04:00',\n",
       "               '2024-05-13 00:00:00-04:00', '2024-05-14 00:00:00-04:00',\n",
       "               '2024-05-15 00:00:00-04:00', '2024-05-16 00:00:00-04:00',\n",
       "               '2024-05-17 00:00:00-04:00', '2024-05-20 00:00:00-04:00',\n",
       "               '2024-05-21 00:00:00-04:00', '2024-05-22 00:00:00-04:00',\n",
       "               '2024-05-23 00:00:00-04:00', '2024-05-24 00:00:00-04:00',\n",
       "               '2024-05-28 00:00:00-04:00', '2024-05-29 00:00:00-04:00',\n",
       "               '2024-05-30 00:00:00-04:00', '2024-05-31 00:00:00-04:00',\n",
       "               '2024-06-03 00:00:00-04:00'],\n",
       "              dtype='datetime64[ns, America/New_York]', name='Date', freq=None)"
      ]
     },
     "execution_count": 33,
     "metadata": {},
     "output_type": "execute_result"
    }
   ],
   "source": [
    "yahooFinance.Ticker(\"META\").history().Close.index"
   ]
  },
  {
   "cell_type": "code",
   "execution_count": null,
   "metadata": {},
   "outputs": [],
   "source": []
  }
 ],
 "metadata": {
  "kernelspec": {
   "display_name": "lwhf",
   "language": "python",
   "name": "python3"
  },
  "language_info": {
   "codemirror_mode": {
    "name": "ipython",
    "version": 3
   },
   "file_extension": ".py",
   "mimetype": "text/x-python",
   "name": "python",
   "nbconvert_exporter": "python",
   "pygments_lexer": "ipython3",
   "version": "3.10.6"
  }
 },
 "nbformat": 4,
 "nbformat_minor": 2
}

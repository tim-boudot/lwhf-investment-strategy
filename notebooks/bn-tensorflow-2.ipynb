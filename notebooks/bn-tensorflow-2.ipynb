{
 "cells": [
  {
   "cell_type": "code",
   "execution_count": 8,
   "metadata": {},
   "outputs": [],
   "source": [
    "import pandas as pd\n",
    "import numpy as np\n",
    "import matplotlib.pyplot as plt\n",
    "from tensorflow.keras.models import Sequential\n",
    "from tensorflow.keras.optimizers import Adam\n",
    "from tensorflow.keras import layers\n",
    "\n",
    "closes = pd.read_csv('../raw_data/closes.csv', index_col='timestamp', parse_dates=True)\n",
    "returns = pd.read_csv('../raw_data/returns.csv', index_col='timestamp', parse_dates=True)"
   ]
  },
  {
   "cell_type": "code",
   "execution_count": 9,
   "metadata": {},
   "outputs": [],
   "source": [
    "train_size = int(0.8 * len(closes))\n",
    "closes_train = closes[:train_size]\n",
    "closes_test = closes[train_size:]\n",
    "returns_train = returns[:train_size]\n",
    "returns_test = returns[train_size:]"
   ]
  },
  {
   "cell_type": "code",
   "execution_count": 10,
   "metadata": {},
   "outputs": [
    {
     "data": {
      "text/plain": [
       "(351, 421)"
      ]
     },
     "execution_count": 10,
     "metadata": {},
     "output_type": "execute_result"
    }
   ],
   "source": [
    "returns_train.shape"
   ]
  },
  {
   "cell_type": "code",
   "execution_count": 12,
   "metadata": {},
   "outputs": [
    {
     "data": {
      "text/plain": [
       "((350, 421), (1, 421))"
      ]
     },
     "execution_count": 12,
     "metadata": {},
     "output_type": "execute_result"
    }
   ],
   "source": [
    "output_chunk = 1\n",
    "input_chunk = returns_train.shape[0] - output_chunk\n",
    "\n",
    "closes_train_X = closes_train[-input_chunk-output_chunk:-output_chunk]\n",
    "closes_train_y = closes_train[-output_chunk:]\n",
    "closes_train_X.shape, closes_train_y.shape"
   ]
  },
  {
   "cell_type": "code",
   "execution_count": null,
   "metadata": {},
   "outputs": [],
   "source": [
    "from lwhf.ml_logic.backtesting import features_from_data\n"
   ]
  }
 ],
 "metadata": {
  "kernelspec": {
   "display_name": "lwhf",
   "language": "python",
   "name": "python3"
  },
  "language_info": {
   "codemirror_mode": {
    "name": "ipython",
    "version": 3
   },
   "file_extension": ".py",
   "mimetype": "text/x-python",
   "name": "python",
   "nbconvert_exporter": "python",
   "pygments_lexer": "ipython3",
   "version": "3.10.6"
  }
 },
 "nbformat": 4,
 "nbformat_minor": 2
}

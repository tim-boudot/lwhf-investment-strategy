{
 "cells": [
  {
   "cell_type": "code",
   "execution_count": 1,
   "metadata": {},
   "outputs": [],
   "source": [
    "%load_ext autoreload\n",
    "%autoreload 2"
   ]
  },
  {
   "cell_type": "code",
   "execution_count": 2,
   "metadata": {},
   "outputs": [
    {
     "name": "stdout",
     "output_type": "stream",
     "text": [
      "Getting data from BQ\n"
     ]
    },
    {
     "name": "stderr",
     "output_type": "stream",
     "text": [
      "/Users/behnamnajafi/.pyenv/versions/3.10.6/envs/lwhf/lib/python3.10/site-packages/google/cloud/bigquery/table.py:1727: UserWarning: BigQuery Storage module not found, fetch data with the REST endpoint instead.\n",
      "  warnings.warn(\n",
      "/Users/behnamnajafi/Code/tim-boudot/lwhf-investment-strategy/lwhf/ml_logic/backtesting.py:29: FutureWarning: The default fill_method='pad' in DataFrame.pct_change is deprecated and will be removed in a future version. Either fill in any non-leading NA values prior to calling pct_change or specify 'fill_method=None' to not fill NA values.\n",
      "  returns_df = time_df.pct_change()#.dropna()\n",
      "/Users/behnamnajafi/.pyenv/versions/3.10.6/envs/lwhf/lib/python3.10/site-packages/pypfopt/risk_models.py:70: UserWarning: The covariance matrix is non positive semidefinite. Amending eigenvalues.\n",
      "  warnings.warn(\n",
      "/Users/behnamnajafi/.pyenv/versions/3.10.6/envs/lwhf/lib/python3.10/site-packages/pypfopt/risk_models.py:89: UserWarning: Could not fix matrix. Please try a different risk model.\n",
      "  warnings.warn(\n"
     ]
    },
    {
     "name": "stdout",
     "output_type": "stream",
     "text": [
      "symbol         A       AAL       AAP      AAPL      ABBV       ABC       ABT  \\\n",
      "symbol                                                                         \n",
      "A       0.340000  0.168783  0.234132  0.150481  0.076593  0.075980  0.167789   \n",
      "AAL     0.168783  1.185495  0.358182  0.184143  0.098153  0.107732  0.123881   \n",
      "AAP     0.234132  0.358182  1.088290  0.103973  0.178735  0.084169  0.122896   \n",
      "AAPL    0.150481  0.184143  0.103973  0.542638  0.059450  0.071552  0.106768   \n",
      "ABBV    0.076593  0.098153  0.178735  0.059450  0.240939  0.075201  0.093927   \n",
      "ABC     0.075980  0.107732  0.084169  0.071552  0.075201  0.178106  0.064553   \n",
      "ABT     0.167789  0.123881  0.122896  0.106768  0.093927  0.064553  0.266180   \n",
      "ACN     0.173402  0.232475  0.187797  0.187746  0.081110  0.074076  0.140638   \n",
      "ADBE    0.217961  0.226086  0.134991  0.285626  0.055340  0.061815  0.153523   \n",
      "ADI     0.209188  0.274823  0.142416  0.198120  0.054575  0.059014  0.120961   \n",
      "\n",
      "symbol       ACN      ADBE       ADI  ...        XL      XLNX       XOM  \\\n",
      "symbol                                ...                                 \n",
      "A       0.173402  0.217961  0.209188  ...  0.133760  0.067870  0.100055   \n",
      "AAL     0.232475  0.226086  0.274823  ...  0.181694  0.074203  0.171925   \n",
      "AAP     0.187797  0.134991  0.142416  ...  0.074358  0.047052  0.164309   \n",
      "AAPL    0.187746  0.285626  0.198120  ...  0.091803  0.059347  0.027423   \n",
      "ABBV    0.081110  0.055340  0.054575  ...  0.039165  0.019356  0.064612   \n",
      "ABC     0.074076  0.061815  0.059014  ...  0.022668  0.028725  0.083018   \n",
      "ABT     0.140638  0.153523  0.120961  ...  0.076946  0.041292  0.028138   \n",
      "ACN     0.347594  0.289228  0.166333  ...  0.147422  0.049478  0.069934   \n",
      "ADBE    0.289228  0.666571  0.239808  ...  0.248360  0.071419  0.026653   \n",
      "ADI     0.166333  0.239808  0.361564  ...  0.154208  0.084061  0.057737   \n",
      "\n",
      "symbol      XRAY       XRX       XYL       YUM       ZBH      ZION       ZTS  \n",
      "symbol                                                                        \n",
      "A       0.196033  0.190655  0.208698  0.127210  0.162342  0.237846  0.208072  \n",
      "AAL     0.301652  0.544079  0.298728  0.211139  0.251858  0.478078  0.195722  \n",
      "AAP     0.172949  0.336834  0.171718  0.145656  0.160438  0.309939  0.140012  \n",
      "AAPL    0.128654  0.200478  0.161549  0.094143  0.135658  0.132394  0.212950  \n",
      "ABBV    0.083032  0.135423  0.083472  0.069236  0.101820  0.132143  0.105158  \n",
      "ABC     0.076724  0.082912  0.094111  0.078247  0.079028  0.077010  0.070478  \n",
      "ABT     0.178061  0.105786  0.138041  0.128283  0.164470  0.105781  0.170167  \n",
      "ACN     0.191258  0.279710  0.168165  0.122092  0.156180  0.209010  0.193945  \n",
      "ADBE    0.177629  0.228380  0.183463  0.099981  0.176798  0.190394  0.239888  \n",
      "ADI     0.190500  0.251996  0.206213  0.138301  0.168538  0.222410  0.206487  \n",
      "\n",
      "[10 rows x 491 columns]\n",
      "✅ Downloading model from GCS\n"
     ]
    },
    {
     "name": "stderr",
     "output_type": "stream",
     "text": [
      "/Users/behnamnajafi/Code/tim-boudot/lwhf-investment-strategy/lwhf/ml_logic/backtesting.py:29: FutureWarning: The default fill_method='pad' in DataFrame.pct_change is deprecated and will be removed in a future version. Either fill in any non-leading NA values prior to calling pct_change or specify 'fill_method=None' to not fill NA values.\n",
      "  returns_df = time_df.pct_change()#.dropna()\n",
      "/Users/behnamnajafi/.pyenv/versions/3.10.6/envs/lwhf/lib/python3.10/site-packages/pypfopt/risk_models.py:70: UserWarning: The covariance matrix is non positive semidefinite. Amending eigenvalues.\n",
      "  warnings.warn(\n",
      "/Users/behnamnajafi/.pyenv/versions/3.10.6/envs/lwhf/lib/python3.10/site-packages/pypfopt/risk_models.py:89: UserWarning: Could not fix matrix. Please try a different risk model.\n",
      "  warnings.warn(\n",
      "2024-06-12 12:00:57.351341: W tensorflow/core/platform/profile_utils/cpu_utils.cc:128] Failed to get CPU frequency: 0 Hz\n"
     ]
    },
    {
     "ename": "ValueError",
     "evalue": "in user code:\n\n    File \"/Users/behnamnajafi/.pyenv/versions/3.10.6/envs/lwhf/lib/python3.10/site-packages/keras/engine/training.py\", line 2041, in predict_function  *\n        return step_function(self, iterator)\n    File \"/Users/behnamnajafi/.pyenv/versions/3.10.6/envs/lwhf/lib/python3.10/site-packages/keras/engine/training.py\", line 2027, in step_function  **\n        outputs = model.distribute_strategy.run(run_step, args=(data,))\n    File \"/Users/behnamnajafi/.pyenv/versions/3.10.6/envs/lwhf/lib/python3.10/site-packages/keras/engine/training.py\", line 2015, in run_step  **\n        outputs = model.predict_step(data)\n    File \"/Users/behnamnajafi/.pyenv/versions/3.10.6/envs/lwhf/lib/python3.10/site-packages/keras/engine/training.py\", line 1983, in predict_step\n        return self(x, training=False)\n    File \"/Users/behnamnajafi/.pyenv/versions/3.10.6/envs/lwhf/lib/python3.10/site-packages/keras/utils/traceback_utils.py\", line 70, in error_handler\n        raise e.with_traceback(filtered_tb) from None\n    File \"/Users/behnamnajafi/.pyenv/versions/3.10.6/envs/lwhf/lib/python3.10/site-packages/keras/engine/input_spec.py\", line 295, in assert_input_compatibility\n        raise ValueError(\n\n    ValueError: Input 0 of layer \"sequential_4\" is incompatible with the layer: expected shape=(None, 434, 1), found shape=(None, 435, 1)\n",
     "output_type": "error",
     "traceback": [
      "\u001b[0;31m---------------------------------------------------------------------------\u001b[0m",
      "\u001b[0;31mValueError\u001b[0m                                Traceback (most recent call last)",
      "Cell \u001b[0;32mIn[2], line 5\u001b[0m\n\u001b[1;32m      1\u001b[0m \u001b[38;5;28;01mfrom\u001b[39;00m \u001b[38;5;21;01mlwhf\u001b[39;00m\u001b[38;5;21;01m.\u001b[39;00m\u001b[38;5;21;01mml_logic\u001b[39;00m\u001b[38;5;21;01m.\u001b[39;00m\u001b[38;5;21;01mbacktesting\u001b[39;00m \u001b[38;5;28;01mimport\u001b[39;00m backtesting\n\u001b[1;32m      3\u001b[0m as_of_date \u001b[38;5;241m=\u001b[39m \u001b[38;5;124m'\u001b[39m\u001b[38;5;124m2024-05-27\u001b[39m\u001b[38;5;124m'\u001b[39m\n\u001b[0;32m----> 5\u001b[0m port_return, weekly_returns, cleaned_weigths \u001b[38;5;241m=\u001b[39m \u001b[43mbacktesting\u001b[49m\u001b[43m(\u001b[49m\u001b[43mas_of_date\u001b[49m\u001b[43m,\u001b[49m\u001b[43m \u001b[49m\u001b[38;5;241;43m3\u001b[39;49m\u001b[43m,\u001b[49m\u001b[43m \u001b[49m\u001b[38;5;124;43m'\u001b[39;49m\u001b[38;5;124;43mW\u001b[39;49m\u001b[38;5;124;43m'\u001b[39;49m\u001b[43m,\u001b[49m\u001b[43m \u001b[49m\u001b[38;5;124;43m'\u001b[39;49m\u001b[38;5;124;43malpaca_stock_prices\u001b[39;49m\u001b[38;5;124;43m'\u001b[39;49m\u001b[43m)\u001b[49m\n",
      "File \u001b[0;32m~/Code/tim-boudot/lwhf-investment-strategy/lwhf/ml_logic/backtesting.py:120\u001b[0m, in \u001b[0;36mbacktesting\u001b[0;34m(as_of_date, n_periods, timestep_data, name_data, method_cov)\u001b[0m\n\u001b[1;32m    118\u001b[0m df \u001b[38;5;241m=\u001b[39m df[df\u001b[38;5;241m.\u001b[39mtimestamp\u001b[38;5;241m.\u001b[39mapply(\u001b[38;5;28;01mlambda\u001b[39;00m x: DT\u001b[38;5;241m.\u001b[39mdatetime\u001b[38;5;241m.\u001b[39mstrptime(x, \u001b[38;5;124m'\u001b[39m\u001b[38;5;124m%\u001b[39m\u001b[38;5;124mY-\u001b[39m\u001b[38;5;124m%\u001b[39m\u001b[38;5;124mm-\u001b[39m\u001b[38;5;132;01m%d\u001b[39;00m\u001b[38;5;124m \u001b[39m\u001b[38;5;124m%\u001b[39m\u001b[38;5;124mH:\u001b[39m\u001b[38;5;124m%\u001b[39m\u001b[38;5;124mM:\u001b[39m\u001b[38;5;124m%\u001b[39m\u001b[38;5;124mS+00:00\u001b[39m\u001b[38;5;124m'\u001b[39m)\u001b[38;5;241m.\u001b[39mdate())\u001b[38;5;241m<\u001b[39mstarting_point]\n\u001b[1;32m    119\u001b[0m X, y, X_pred, cov_df, tickers \u001b[38;5;241m=\u001b[39m features_from_data(df, method_cov, name_data)\n\u001b[0;32m--> 120\u001b[0m y_pred \u001b[38;5;241m=\u001b[39m \u001b[43mpredicting\u001b[49m\u001b[43m(\u001b[49m\u001b[43mX_pred\u001b[49m\u001b[43m,\u001b[49m\u001b[43m \u001b[49m\u001b[43mmodel\u001b[49m\u001b[43m)\u001b[49m\n\u001b[1;32m    121\u001b[0m cleaned_weights \u001b[38;5;241m=\u001b[39m making_portfolio(tickers,y_pred\u001b[38;5;241m.\u001b[39mreshape(\u001b[38;5;241m-\u001b[39m\u001b[38;5;241m1\u001b[39m), cov_df)\n\u001b[1;32m    122\u001b[0m weekly_return \u001b[38;5;241m=\u001b[39m portfolio_returns(cleaned_weights,week_start_str,week_end_str)\n",
      "File \u001b[0;32m~/Code/tim-boudot/lwhf-investment-strategy/lwhf/ml_logic/model.py:64\u001b[0m, in \u001b[0;36mpredicting\u001b[0;34m(X, model)\u001b[0m\n\u001b[1;32m     63\u001b[0m \u001b[38;5;28;01mdef\u001b[39;00m \u001b[38;5;21mpredicting\u001b[39m(X, model):\n\u001b[0;32m---> 64\u001b[0m     y_pred \u001b[38;5;241m=\u001b[39m \u001b[43mmodel\u001b[49m\u001b[38;5;241;43m.\u001b[39;49m\u001b[43mpredict\u001b[49m\u001b[43m(\u001b[49m\u001b[43mX\u001b[49m\u001b[43m)\u001b[49m\n\u001b[1;32m     65\u001b[0m     \u001b[38;5;28;01mreturn\u001b[39;00m y_pred\n",
      "File \u001b[0;32m~/.pyenv/versions/3.10.6/envs/lwhf/lib/python3.10/site-packages/keras/utils/traceback_utils.py:70\u001b[0m, in \u001b[0;36mfilter_traceback.<locals>.error_handler\u001b[0;34m(*args, **kwargs)\u001b[0m\n\u001b[1;32m     67\u001b[0m     filtered_tb \u001b[38;5;241m=\u001b[39m _process_traceback_frames(e\u001b[38;5;241m.\u001b[39m__traceback__)\n\u001b[1;32m     68\u001b[0m     \u001b[38;5;66;03m# To get the full stack trace, call:\u001b[39;00m\n\u001b[1;32m     69\u001b[0m     \u001b[38;5;66;03m# `tf.debugging.disable_traceback_filtering()`\u001b[39;00m\n\u001b[0;32m---> 70\u001b[0m     \u001b[38;5;28;01mraise\u001b[39;00m e\u001b[38;5;241m.\u001b[39mwith_traceback(filtered_tb) \u001b[38;5;28;01mfrom\u001b[39;00m \u001b[38;5;28;01mNone\u001b[39;00m\n\u001b[1;32m     71\u001b[0m \u001b[38;5;28;01mfinally\u001b[39;00m:\n\u001b[1;32m     72\u001b[0m     \u001b[38;5;28;01mdel\u001b[39;00m filtered_tb\n",
      "File \u001b[0;32m/var/folders/h_/1wt571f136n_t4j7p0xw3fnc0000gn/T/__autograph_generated_file6899swbg.py:15\u001b[0m, in \u001b[0;36mouter_factory.<locals>.inner_factory.<locals>.tf__predict_function\u001b[0;34m(iterator)\u001b[0m\n\u001b[1;32m     13\u001b[0m \u001b[38;5;28;01mtry\u001b[39;00m:\n\u001b[1;32m     14\u001b[0m     do_return \u001b[38;5;241m=\u001b[39m \u001b[38;5;28;01mTrue\u001b[39;00m\n\u001b[0;32m---> 15\u001b[0m     retval_ \u001b[38;5;241m=\u001b[39m ag__\u001b[38;5;241m.\u001b[39mconverted_call(ag__\u001b[38;5;241m.\u001b[39mld(step_function), (ag__\u001b[38;5;241m.\u001b[39mld(\u001b[38;5;28mself\u001b[39m), ag__\u001b[38;5;241m.\u001b[39mld(iterator)), \u001b[38;5;28;01mNone\u001b[39;00m, fscope)\n\u001b[1;32m     16\u001b[0m \u001b[38;5;28;01mexcept\u001b[39;00m:\n\u001b[1;32m     17\u001b[0m     do_return \u001b[38;5;241m=\u001b[39m \u001b[38;5;28;01mFalse\u001b[39;00m\n",
      "\u001b[0;31mValueError\u001b[0m: in user code:\n\n    File \"/Users/behnamnajafi/.pyenv/versions/3.10.6/envs/lwhf/lib/python3.10/site-packages/keras/engine/training.py\", line 2041, in predict_function  *\n        return step_function(self, iterator)\n    File \"/Users/behnamnajafi/.pyenv/versions/3.10.6/envs/lwhf/lib/python3.10/site-packages/keras/engine/training.py\", line 2027, in step_function  **\n        outputs = model.distribute_strategy.run(run_step, args=(data,))\n    File \"/Users/behnamnajafi/.pyenv/versions/3.10.6/envs/lwhf/lib/python3.10/site-packages/keras/engine/training.py\", line 2015, in run_step  **\n        outputs = model.predict_step(data)\n    File \"/Users/behnamnajafi/.pyenv/versions/3.10.6/envs/lwhf/lib/python3.10/site-packages/keras/engine/training.py\", line 1983, in predict_step\n        return self(x, training=False)\n    File \"/Users/behnamnajafi/.pyenv/versions/3.10.6/envs/lwhf/lib/python3.10/site-packages/keras/utils/traceback_utils.py\", line 70, in error_handler\n        raise e.with_traceback(filtered_tb) from None\n    File \"/Users/behnamnajafi/.pyenv/versions/3.10.6/envs/lwhf/lib/python3.10/site-packages/keras/engine/input_spec.py\", line 295, in assert_input_compatibility\n        raise ValueError(\n\n    ValueError: Input 0 of layer \"sequential_4\" is incompatible with the layer: expected shape=(None, 434, 1), found shape=(None, 435, 1)\n"
     ]
    }
   ],
   "source": [
    "from lwhf.ml_logic.backtesting import backtesting\n",
    "\n",
    "as_of_date = '2024-05-27'\n",
    "\n",
    "port_return, weekly_returns, cleaned_weigths = backtesting(as_of_date, 3, 'W', 'alpaca_stock_prices')"
   ]
  },
  {
   "cell_type": "code",
   "execution_count": 55,
   "metadata": {},
   "outputs": [
    {
     "name": "stderr",
     "output_type": "stream",
     "text": [
      "/Users/behnamnajafi/.pyenv/versions/3.10.6/envs/lwhf/lib/python3.10/site-packages/google/cloud/bigquery/table.py:1727: UserWarning: BigQuery Storage module not found, fetch data with the REST endpoint instead.\n",
      "  warnings.warn(\n"
     ]
    }
   ],
   "source": [
    "from lwhf.ml_logic.data_BQ import get_all_data, get_data\n",
    "import datetime as DT\n",
    "\n",
    "as_of_date = '2024-05-27'\n",
    "n_periods = 3\n",
    "timestep_data = 'W'\n",
    "as_of = DT.datetime.strptime(as_of_date, '%Y-%m-%d').date()\n",
    "starting_point = as_of - DT.timedelta(days=7 * n_periods)\n",
    "port_return = 1\n",
    "weekly_returns = []\n",
    "\n",
    "df = get_data('2016-01-04', as_of_date, timestep_data)"
   ]
  },
  {
   "cell_type": "code",
   "execution_count": 1,
   "metadata": {},
   "outputs": [
    {
     "ename": "NameError",
     "evalue": "name 'df' is not defined",
     "output_type": "error",
     "traceback": [
      "\u001b[0;31m---------------------------------------------------------------------------\u001b[0m",
      "\u001b[0;31mNameError\u001b[0m                                 Traceback (most recent call last)",
      "Cell \u001b[0;32mIn[1], line 1\u001b[0m\n\u001b[0;32m----> 1\u001b[0m df \u001b[38;5;241m=\u001b[39m \u001b[43mdf\u001b[49m[df\u001b[38;5;241m.\u001b[39mtimestamp\u001b[38;5;241m.\u001b[39mapply(\u001b[38;5;28;01mlambda\u001b[39;00m x: DT\u001b[38;5;241m.\u001b[39mdatetime\u001b[38;5;241m.\u001b[39mstrptime(x, \u001b[38;5;124m'\u001b[39m\u001b[38;5;124m%\u001b[39m\u001b[38;5;124mY-\u001b[39m\u001b[38;5;124m%\u001b[39m\u001b[38;5;124mm-\u001b[39m\u001b[38;5;132;01m%d\u001b[39;00m\u001b[38;5;124m \u001b[39m\u001b[38;5;124m%\u001b[39m\u001b[38;5;124mH:\u001b[39m\u001b[38;5;124m%\u001b[39m\u001b[38;5;124mM:\u001b[39m\u001b[38;5;124m%\u001b[39m\u001b[38;5;124mS+00:00\u001b[39m\u001b[38;5;124m'\u001b[39m)\u001b[38;5;241m.\u001b[39mdate())\u001b[38;5;241m<\u001b[39mstarting_point]\n\u001b[1;32m      2\u001b[0m start_date \u001b[38;5;241m=\u001b[39m \u001b[38;5;28mlist\u001b[39m(df\u001b[38;5;241m.\u001b[39mtimestamp)[\u001b[38;5;241m0\u001b[39m]\n\u001b[1;32m      3\u001b[0m end_date \u001b[38;5;241m=\u001b[39m \u001b[38;5;28mlist\u001b[39m(df\u001b[38;5;241m.\u001b[39mtimestamp)[\u001b[38;5;241m-\u001b[39m\u001b[38;5;241m1\u001b[39m]\n",
      "\u001b[0;31mNameError\u001b[0m: name 'df' is not defined"
     ]
    }
   ],
   "source": [
    "df = df[df.timestamp.apply(lambda x: DT.datetime.strptime(x, '%Y-%m-%d %H:%M:%S+00:00').date())<starting_point]\n",
    "start_date = list(df.timestamp)[0]\n",
    "end_date = list(df.timestamp)[-1]\n",
    "df"
   ]
  },
  {
   "cell_type": "code",
   "execution_count": null,
   "metadata": {},
   "outputs": [
    {
     "name": "stderr",
     "output_type": "stream",
     "text": [
      "/Users/behnamnajafi/Code/tim-boudot/lwhf-investment-strategy/lwhf/ml_logic/backtesting.py:29: FutureWarning: The default fill_method='pad' in DataFrame.pct_change is deprecated and will be removed in a future version. Either fill in any non-leading NA values prior to calling pct_change or specify 'fill_method=None' to not fill NA values.\n",
      "  returns_df = time_df.pct_change()#.dropna()\n",
      "/Users/behnamnajafi/.pyenv/versions/3.10.6/envs/lwhf/lib/python3.10/site-packages/pypfopt/risk_models.py:70: UserWarning: The covariance matrix is non positive semidefinite. Amending eigenvalues.\n",
      "  warnings.warn(\n",
      "/Users/behnamnajafi/.pyenv/versions/3.10.6/envs/lwhf/lib/python3.10/site-packages/pypfopt/risk_models.py:89: UserWarning: Could not fix matrix. Please try a different risk model.\n",
      "  warnings.warn(\n"
     ]
    }
   ],
   "source": [
    "from lwhf.ml_logic.backtesting import features_from_data\n",
    "\n",
    "method_cov = 'exp_cov'\n",
    "name_data = 'alpaca_stock_prices'\n",
    "X, y, X_pred, cov_df, tickers = features_from_data(df, method_cov, name_data)\n"
   ]
  },
  {
   "cell_type": "markdown",
   "metadata": {},
   "source": [
    "## get_features_from_data()"
   ]
  },
  {
   "cell_type": "code",
   "execution_count": null,
   "metadata": {},
   "outputs": [
    {
     "data": {
      "text/plain": [
       "((195099, 9), (491, 413, 1))"
      ]
     },
     "execution_count": 13,
     "metadata": {},
     "output_type": "execute_result"
    }
   ],
   "source": [
    "df.shape, X.shape"
   ]
  },
  {
   "cell_type": "code",
   "execution_count": null,
   "metadata": {},
   "outputs": [
    {
     "data": {
      "text/plain": [
       "(414, 504)"
      ]
     },
     "execution_count": 14,
     "metadata": {},
     "output_type": "execute_result"
    }
   ],
   "source": [
    "time_df = df.pivot(index='timestamp',columns='symbol',values='close')\n",
    "time_df.shape"
   ]
  },
  {
   "cell_type": "code",
   "execution_count": null,
   "metadata": {},
   "outputs": [
    {
     "name": "stderr",
     "output_type": "stream",
     "text": [
      "/var/folders/h_/1wt571f136n_t4j7p0xw3fnc0000gn/T/ipykernel_85534/3776271359.py:2: FutureWarning: The default fill_method='pad' in DataFrame.pct_change is deprecated and will be removed in a future version. Either fill in any non-leading NA values prior to calling pct_change or specify 'fill_method=None' to not fill NA values.\n",
      "  returns_df = time_df.pct_change()#.dropna()\n"
     ]
    },
    {
     "data": {
      "text/plain": [
       "(414, 491)"
      ]
     },
     "execution_count": 15,
     "metadata": {},
     "output_type": "execute_result"
    }
   ],
   "source": [
    "time_df = df.pivot(index='timestamp',columns='symbol',values='close')\n",
    "returns_df = time_df.pct_change()#.dropna()\n",
    "s = returns_df.isna().sum()>20\n",
    "to_ban = list(s[s].index)\n",
    "returns_df = returns_df[returns_df.columns[~returns_df.columns.isin(to_ban)]]\n",
    "returns_df = returns_df.fillna(returns_df.mean())\n",
    "returns_df.shape"
   ]
  },
  {
   "cell_type": "code",
   "execution_count": null,
   "metadata": {},
   "outputs": [
    {
     "data": {
      "text/plain": [
       "((413, 491), (491,))"
      ]
     },
     "execution_count": 17,
     "metadata": {},
     "output_type": "execute_result"
    }
   ],
   "source": [
    "X = returns_df.iloc[:-1]\n",
    "y = returns_df.iloc[-1]\n",
    "X.shape, y.shape"
   ]
  },
  {
   "cell_type": "code",
   "execution_count": null,
   "metadata": {},
   "outputs": [
    {
     "data": {
      "text/plain": [
       "((491, 413, 1), (491,))"
      ]
     },
     "execution_count": 18,
     "metadata": {},
     "output_type": "execute_result"
    }
   ],
   "source": [
    "X = X.to_numpy().reshape(X.shape[1],X.shape[0],1)\n",
    "y = y.to_numpy()\n",
    "X.shape, y.shape"
   ]
  },
  {
   "cell_type": "code",
   "execution_count": null,
   "metadata": {},
   "outputs": [
    {
     "data": {
      "text/plain": [
       "(491, 414, 1)"
      ]
     },
     "execution_count": 19,
     "metadata": {},
     "output_type": "execute_result"
    }
   ],
   "source": [
    "X_pred = returns_df.to_numpy()\n",
    "X_pred = X_pred.reshape(X_pred.shape[1],X_pred.shape[0],1)\n",
    "X_pred.shape"
   ]
  },
  {
   "cell_type": "markdown",
   "metadata": {},
   "source": [
    "## Model"
   ]
  },
  {
   "cell_type": "code",
   "execution_count": null,
   "metadata": {},
   "outputs": [],
   "source": [
    "from tensorflow.keras.models import Sequential, load_model\n",
    "from tensorflow.keras import layers\n",
    "from tensorflow.keras.callbacks import EarlyStopping\n",
    "\n",
    "\n",
    "model = Sequential()\n",
    "model.add(layers.Input(shape=X.shape[1:]))\n",
    "model.add(layers.LSTM(units=20, activation='linear'))\n",
    "model.add(layers.Dense(10, activation=\"linear\"))\n",
    "model.add(layers.Dropout(0.1))\n",
    "#model.add(layers.LSTM(units=20, activation='linear'))\n",
    "model.add(layers.Dense(1, activation=\"linear\"))\n",
    "\n",
    "model.compile(loss='mse',\n",
    "            optimizer='rmsprop', #adam\n",
    "            metrics=['mae']) # very high lr so we can converge with such a small datase\n"
   ]
  },
  {
   "cell_type": "code",
   "execution_count": null,
   "metadata": {},
   "outputs": [
    {
     "name": "stdout",
     "output_type": "stream",
     "text": [
      "Epoch 1/10\n",
      "Epoch 2/10\n",
      "Epoch 3/10\n",
      "Epoch 4/10\n",
      "Epoch 5/10\n",
      "Epoch 6/10\n",
      "Epoch 7/10\n",
      "Epoch 8/10\n",
      "Epoch 9/10\n",
      "Epoch 10/10\n"
     ]
    }
   ],
   "source": [
    "es = EarlyStopping(patience=5, restore_best_weights=True)\n",
    "history = model.fit(X, y.reshape(-1), validation_split=.2, batch_size=32, epochs=10, verbose=10 ,callbacks=[es])\n"
   ]
  },
  {
   "cell_type": "code",
   "execution_count": null,
   "metadata": {},
   "outputs": [
    {
     "ename": "NameError",
     "evalue": "name 'model' is not defined",
     "output_type": "error",
     "traceback": [
      "\u001b[0;31m---------------------------------------------------------------------------\u001b[0m",
      "\u001b[0;31mNameError\u001b[0m                                 Traceback (most recent call last)",
      "Cell \u001b[0;32mIn[5], line 1\u001b[0m\n\u001b[0;32m----> 1\u001b[0m y_pred \u001b[38;5;241m=\u001b[39m \u001b[43mmodel\u001b[49m\u001b[38;5;241m.\u001b[39mpredict(X_pred)\n",
      "\u001b[0;31mNameError\u001b[0m: name 'model' is not defined"
     ]
    }
   ],
   "source": [
    "y_pred = model.predict(X_pred)"
   ]
  },
  {
   "cell_type": "code",
   "execution_count": null,
   "metadata": {},
   "outputs": [
    {
     "data": {
      "text/plain": [
       "<matplotlib.legend.Legend at 0x3426d63b0>"
      ]
     },
     "execution_count": 23,
     "metadata": {},
     "output_type": "execute_result"
    },
    {
     "data": {
      "image/png": "[encoded data removed]",
      "text/plain": [
       "<Figure size 640x480 with 1 Axes>"
      ]
     },
     "metadata": {},
     "output_type": "display_data"
    }
   ],
   "source": [
    "# plot history\n",
    "\n",
    "import matplotlib.pyplot as plt\n",
    "\n",
    "plt.plot(history.history['loss'], label='train')\n",
    "plt.plot(history.history['val_loss'], label='test')\n",
    "plt.legend()"
   ]
  },
  {
   "cell_type": "code",
   "execution_count": null,
   "metadata": {},
   "outputs": [],
   "source": [
    "from lwhf.data.biqquery import BigQueryData\n",
    "\n",
    "PROJECT = \"le-wagon-hedge-fund\"\n",
    "DATASET = \"data_alpaca_20240604\"\n",
    "TABLE = \"SP500_Historical_Weekly\"\n",
    "\n",
    "data = BigQueryData(PROJECT, DATASET, TABLE)"
   ]
  },
  {
   "cell_type": "code",
   "execution_count": null,
   "metadata": {},
   "outputs": [
    {
     "name": "stdout",
     "output_type": "stream",
     "text": [
      "le-wagon-hedge-fund-data_alpaca_20240604-SP500_Historical_Weekly-2018-01-04-2020-01-01.csv\n",
      "✅ Found le-wagon-hedge-fund-data_alpaca_20240604-SP500_Historical_Weekly-2018-01-04-2020-01-01.csv in the local cache.\n"
     ]
    },
    {
     "data": {
      "text/html": [
       "<div>\n",
       "<style scoped>\n",
       "    .dataframe tbody tr th:only-of-type {\n",
       "        vertical-align: middle;\n",
       "    }\n",
       "\n",
       "    .dataframe tbody tr th {\n",
       "        vertical-align: top;\n",
       "    }\n",
       "\n",
       "    .dataframe thead th {\n",
       "        text-align: right;\n",
       "    }\n",
       "</style>\n",
       "<table border=\"1\" class=\"dataframe\">\n",
       "  <thead>\n",
       "    <tr style=\"text-align: right;\">\n",
       "      <th></th>\n",
       "      <th>symbol</th>\n",
       "      <th>timestamp</th>\n",
       "      <th>open</th>\n",
       "      <th>high</th>\n",
       "      <th>low</th>\n",
       "      <th>close</th>\n",
       "      <th>volume</th>\n",
       "      <th>trade_count</th>\n",
       "      <th>vwap</th>\n",
       "    </tr>\n",
       "  </thead>\n",
       "  <tbody>\n",
       "    <tr>\n",
       "      <th>0</th>\n",
       "      <td>AAPL</td>\n",
       "      <td>2018-01-08 05:00:00+00:00</td>\n",
       "      <td>174.35</td>\n",
       "      <td>177.36</td>\n",
       "      <td>173.0000</td>\n",
       "      <td>177.09</td>\n",
       "      <td>118768858.0</td>\n",
       "      <td>713765.0</td>\n",
       "      <td>174.937721</td>\n",
       "    </tr>\n",
       "    <tr>\n",
       "      <th>1</th>\n",
       "      <td>AAPL</td>\n",
       "      <td>2018-01-15 05:00:00+00:00</td>\n",
       "      <td>177.90</td>\n",
       "      <td>180.10</td>\n",
       "      <td>175.0700</td>\n",
       "      <td>178.46</td>\n",
       "      <td>140770878.0</td>\n",
       "      <td>759300.0</td>\n",
       "      <td>178.169627</td>\n",
       "    </tr>\n",
       "    <tr>\n",
       "      <th>2</th>\n",
       "      <td>AAPL</td>\n",
       "      <td>2018-01-22 05:00:00+00:00</td>\n",
       "      <td>177.30</td>\n",
       "      <td>179.44</td>\n",
       "      <td>170.0600</td>\n",
       "      <td>171.51</td>\n",
       "      <td>204970294.0</td>\n",
       "      <td>1238380.0</td>\n",
       "      <td>174.362602</td>\n",
       "    </tr>\n",
       "    <tr>\n",
       "      <th>3</th>\n",
       "      <td>AAPL</td>\n",
       "      <td>2018-01-29 05:00:00+00:00</td>\n",
       "      <td>170.16</td>\n",
       "      <td>170.16</td>\n",
       "      <td>160.1000</td>\n",
       "      <td>160.37</td>\n",
       "      <td>278094573.0</td>\n",
       "      <td>1811059.0</td>\n",
       "      <td>166.009440</td>\n",
       "    </tr>\n",
       "    <tr>\n",
       "      <th>4</th>\n",
       "      <td>AAPL</td>\n",
       "      <td>2018-02-05 05:00:00+00:00</td>\n",
       "      <td>159.10</td>\n",
       "      <td>163.88</td>\n",
       "      <td>150.2400</td>\n",
       "      <td>156.41</td>\n",
       "      <td>337562706.0</td>\n",
       "      <td>2185596.0</td>\n",
       "      <td>158.854360</td>\n",
       "    </tr>\n",
       "    <tr>\n",
       "      <th>...</th>\n",
       "      <td>...</td>\n",
       "      <td>...</td>\n",
       "      <td>...</td>\n",
       "      <td>...</td>\n",
       "      <td>...</td>\n",
       "      <td>...</td>\n",
       "      <td>...</td>\n",
       "      <td>...</td>\n",
       "      <td>...</td>\n",
       "    </tr>\n",
       "    <tr>\n",
       "      <th>50544</th>\n",
       "      <td>ZTS</td>\n",
       "      <td>2019-12-02 05:00:00+00:00</td>\n",
       "      <td>120.87</td>\n",
       "      <td>121.92</td>\n",
       "      <td>118.0000</td>\n",
       "      <td>121.72</td>\n",
       "      <td>14352938.0</td>\n",
       "      <td>103100.0</td>\n",
       "      <td>120.384558</td>\n",
       "    </tr>\n",
       "    <tr>\n",
       "      <th>50545</th>\n",
       "      <td>ZTS</td>\n",
       "      <td>2019-12-09 05:00:00+00:00</td>\n",
       "      <td>121.49</td>\n",
       "      <td>125.00</td>\n",
       "      <td>120.6305</td>\n",
       "      <td>124.45</td>\n",
       "      <td>9606285.0</td>\n",
       "      <td>88615.0</td>\n",
       "      <td>123.081489</td>\n",
       "    </tr>\n",
       "    <tr>\n",
       "      <th>50546</th>\n",
       "      <td>ZTS</td>\n",
       "      <td>2019-12-16 05:00:00+00:00</td>\n",
       "      <td>125.00</td>\n",
       "      <td>133.52</td>\n",
       "      <td>124.3700</td>\n",
       "      <td>132.68</td>\n",
       "      <td>16604525.0</td>\n",
       "      <td>105786.0</td>\n",
       "      <td>129.252094</td>\n",
       "    </tr>\n",
       "    <tr>\n",
       "      <th>50547</th>\n",
       "      <td>ZTS</td>\n",
       "      <td>2019-12-23 05:00:00+00:00</td>\n",
       "      <td>132.60</td>\n",
       "      <td>133.48</td>\n",
       "      <td>131.2900</td>\n",
       "      <td>133.25</td>\n",
       "      <td>5021308.0</td>\n",
       "      <td>45086.0</td>\n",
       "      <td>132.808859</td>\n",
       "    </tr>\n",
       "    <tr>\n",
       "      <th>50548</th>\n",
       "      <td>ZTS</td>\n",
       "      <td>2019-12-30 05:00:00+00:00</td>\n",
       "      <td>133.57</td>\n",
       "      <td>134.91</td>\n",
       "      <td>131.4500</td>\n",
       "      <td>134.16</td>\n",
       "      <td>5738634.0</td>\n",
       "      <td>57199.0</td>\n",
       "      <td>133.137934</td>\n",
       "    </tr>\n",
       "  </tbody>\n",
       "</table>\n",
       "<p>50549 rows × 9 columns</p>\n",
       "</div>"
      ],
      "text/plain": [
       "      symbol                 timestamp    open    high       low   close  \\\n",
       "0       AAPL 2018-01-08 05:00:00+00:00  174.35  177.36  173.0000  177.09   \n",
       "1       AAPL 2018-01-15 05:00:00+00:00  177.90  180.10  175.0700  178.46   \n",
       "2       AAPL 2018-01-22 05:00:00+00:00  177.30  179.44  170.0600  171.51   \n",
       "3       AAPL 2018-01-29 05:00:00+00:00  170.16  170.16  160.1000  160.37   \n",
       "4       AAPL 2018-02-05 05:00:00+00:00  159.10  163.88  150.2400  156.41   \n",
       "...      ...                       ...     ...     ...       ...     ...   \n",
       "50544    ZTS 2019-12-02 05:00:00+00:00  120.87  121.92  118.0000  121.72   \n",
       "50545    ZTS 2019-12-09 05:00:00+00:00  121.49  125.00  120.6305  124.45   \n",
       "50546    ZTS 2019-12-16 05:00:00+00:00  125.00  133.52  124.3700  132.68   \n",
       "50547    ZTS 2019-12-23 05:00:00+00:00  132.60  133.48  131.2900  133.25   \n",
       "50548    ZTS 2019-12-30 05:00:00+00:00  133.57  134.91  131.4500  134.16   \n",
       "\n",
       "            volume  trade_count        vwap  \n",
       "0      118768858.0     713765.0  174.937721  \n",
       "1      140770878.0     759300.0  178.169627  \n",
       "2      204970294.0    1238380.0  174.362602  \n",
       "3      278094573.0    1811059.0  166.009440  \n",
       "4      337562706.0    2185596.0  158.854360  \n",
       "...            ...          ...         ...  \n",
       "50544   14352938.0     103100.0  120.384558  \n",
       "50545    9606285.0      88615.0  123.081489  \n",
       "50546   16604525.0     105786.0  129.252094  \n",
       "50547    5021308.0      45086.0  132.808859  \n",
       "50548    5738634.0      57199.0  133.137934  \n",
       "\n",
       "[50549 rows x 9 columns]"
      ]
     },
     "execution_count": 7,
     "metadata": {},
     "output_type": "execute_result"
    }
   ],
   "source": [
    "data.get_data(start_date='2018-01-04', end_date='2020-01-01')"
   ]
  },
  {
   "cell_type": "code",
   "execution_count": null,
   "metadata": {},
   "outputs": [
    {
     "data": {
      "text/html": [
       "<div>\n",
       "<style scoped>\n",
       "    .dataframe tbody tr th:only-of-type {\n",
       "        vertical-align: middle;\n",
       "    }\n",
       "\n",
       "    .dataframe tbody tr th {\n",
       "        vertical-align: top;\n",
       "    }\n",
       "\n",
       "    .dataframe thead th {\n",
       "        text-align: right;\n",
       "    }\n",
       "</style>\n",
       "<table border=\"1\" class=\"dataframe\">\n",
       "  <thead>\n",
       "    <tr style=\"text-align: right;\">\n",
       "      <th>symbol</th>\n",
       "      <th>A</th>\n",
       "      <th>AAL</th>\n",
       "      <th>AAP</th>\n",
       "      <th>AAPL</th>\n",
       "      <th>ABBV</th>\n",
       "      <th>ABC</th>\n",
       "      <th>ABT</th>\n",
       "      <th>ACN</th>\n",
       "      <th>ADBE</th>\n",
       "      <th>ADI</th>\n",
       "      <th>...</th>\n",
       "      <th>XL</th>\n",
       "      <th>XLNX</th>\n",
       "      <th>XOM</th>\n",
       "      <th>XRAY</th>\n",
       "      <th>XRX</th>\n",
       "      <th>XYL</th>\n",
       "      <th>YUM</th>\n",
       "      <th>ZBH</th>\n",
       "      <th>ZION</th>\n",
       "      <th>ZTS</th>\n",
       "    </tr>\n",
       "    <tr>\n",
       "      <th>timestamp</th>\n",
       "      <th></th>\n",
       "      <th></th>\n",
       "      <th></th>\n",
       "      <th></th>\n",
       "      <th></th>\n",
       "      <th></th>\n",
       "      <th></th>\n",
       "      <th></th>\n",
       "      <th></th>\n",
       "      <th></th>\n",
       "      <th></th>\n",
       "      <th></th>\n",
       "      <th></th>\n",
       "      <th></th>\n",
       "      <th></th>\n",
       "      <th></th>\n",
       "      <th></th>\n",
       "      <th></th>\n",
       "      <th></th>\n",
       "      <th></th>\n",
       "      <th></th>\n",
       "    </tr>\n",
       "  </thead>\n",
       "  <tbody>\n",
       "    <tr>\n",
       "      <th>2018-01-08 05:00:00+00:00</th>\n",
       "      <td>71.73</td>\n",
       "      <td>58.470</td>\n",
       "      <td>115.94</td>\n",
       "      <td>177.09</td>\n",
       "      <td>100.34</td>\n",
       "      <td>99.00</td>\n",
       "      <td>58.84</td>\n",
       "      <td>160.11</td>\n",
       "      <td>195.05</td>\n",
       "      <td>92.02</td>\n",
       "      <td>...</td>\n",
       "      <td>35.49</td>\n",
       "      <td>74.66</td>\n",
       "      <td>87.52</td>\n",
       "      <td>65.79</td>\n",
       "      <td>32.77</td>\n",
       "      <td>70.46</td>\n",
       "      <td>83.62</td>\n",
       "      <td>122.10</td>\n",
       "      <td>53.28</td>\n",
       "      <td>75.39</td>\n",
       "    </tr>\n",
       "    <tr>\n",
       "      <th>2018-01-15 05:00:00+00:00</th>\n",
       "      <td>73.07</td>\n",
       "      <td>58.060</td>\n",
       "      <td>117.02</td>\n",
       "      <td>178.46</td>\n",
       "      <td>104.64</td>\n",
       "      <td>100.06</td>\n",
       "      <td>59.31</td>\n",
       "      <td>161.75</td>\n",
       "      <td>195.73</td>\n",
       "      <td>96.14</td>\n",
       "      <td>...</td>\n",
       "      <td>35.45</td>\n",
       "      <td>75.71</td>\n",
       "      <td>87.15</td>\n",
       "      <td>61.95</td>\n",
       "      <td>31.80</td>\n",
       "      <td>71.91</td>\n",
       "      <td>83.81</td>\n",
       "      <td>123.48</td>\n",
       "      <td>53.73</td>\n",
       "      <td>76.62</td>\n",
       "    </tr>\n",
       "    <tr>\n",
       "      <th>2018-01-22 05:00:00+00:00</th>\n",
       "      <td>74.82</td>\n",
       "      <td>53.070</td>\n",
       "      <td>123.64</td>\n",
       "      <td>171.51</td>\n",
       "      <td>123.21</td>\n",
       "      <td>105.48</td>\n",
       "      <td>63.42</td>\n",
       "      <td>162.55</td>\n",
       "      <td>201.30</td>\n",
       "      <td>93.84</td>\n",
       "      <td>...</td>\n",
       "      <td>36.67</td>\n",
       "      <td>71.94</td>\n",
       "      <td>89.00</td>\n",
       "      <td>62.84</td>\n",
       "      <td>32.83</td>\n",
       "      <td>74.41</td>\n",
       "      <td>86.20</td>\n",
       "      <td>126.23</td>\n",
       "      <td>54.02</td>\n",
       "      <td>80.09</td>\n",
       "    </tr>\n",
       "    <tr>\n",
       "      <th>2018-01-29 05:00:00+00:00</th>\n",
       "      <td>71.25</td>\n",
       "      <td>52.100</td>\n",
       "      <td>113.93</td>\n",
       "      <td>160.37</td>\n",
       "      <td>115.17</td>\n",
       "      <td>96.02</td>\n",
       "      <td>61.69</td>\n",
       "      <td>156.90</td>\n",
       "      <td>195.64</td>\n",
       "      <td>89.11</td>\n",
       "      <td>...</td>\n",
       "      <td>38.25</td>\n",
       "      <td>70.64</td>\n",
       "      <td>84.53</td>\n",
       "      <td>60.06</td>\n",
       "      <td>31.63</td>\n",
       "      <td>75.66</td>\n",
       "      <td>82.63</td>\n",
       "      <td>125.79</td>\n",
       "      <td>54.16</td>\n",
       "      <td>76.78</td>\n",
       "    </tr>\n",
       "    <tr>\n",
       "      <th>2018-02-05 05:00:00+00:00</th>\n",
       "      <td>66.98</td>\n",
       "      <td>48.360</td>\n",
       "      <td>109.14</td>\n",
       "      <td>156.41</td>\n",
       "      <td>111.30</td>\n",
       "      <td>89.19</td>\n",
       "      <td>57.17</td>\n",
       "      <td>153.84</td>\n",
       "      <td>187.99</td>\n",
       "      <td>83.93</td>\n",
       "      <td>...</td>\n",
       "      <td>41.86</td>\n",
       "      <td>65.38</td>\n",
       "      <td>75.78</td>\n",
       "      <td>57.18</td>\n",
       "      <td>29.61</td>\n",
       "      <td>70.82</td>\n",
       "      <td>79.31</td>\n",
       "      <td>116.39</td>\n",
       "      <td>51.64</td>\n",
       "      <td>72.35</td>\n",
       "    </tr>\n",
       "    <tr>\n",
       "      <th>...</th>\n",
       "      <td>...</td>\n",
       "      <td>...</td>\n",
       "      <td>...</td>\n",
       "      <td>...</td>\n",
       "      <td>...</td>\n",
       "      <td>...</td>\n",
       "      <td>...</td>\n",
       "      <td>...</td>\n",
       "      <td>...</td>\n",
       "      <td>...</td>\n",
       "      <td>...</td>\n",
       "      <td>...</td>\n",
       "      <td>...</td>\n",
       "      <td>...</td>\n",
       "      <td>...</td>\n",
       "      <td>...</td>\n",
       "      <td>...</td>\n",
       "      <td>...</td>\n",
       "      <td>...</td>\n",
       "      <td>...</td>\n",
       "      <td>...</td>\n",
       "    </tr>\n",
       "    <tr>\n",
       "      <th>2019-12-02 05:00:00+00:00</th>\n",
       "      <td>82.21</td>\n",
       "      <td>27.725</td>\n",
       "      <td>154.62</td>\n",
       "      <td>270.71</td>\n",
       "      <td>86.98</td>\n",
       "      <td>88.24</td>\n",
       "      <td>85.48</td>\n",
       "      <td>202.55</td>\n",
       "      <td>306.23</td>\n",
       "      <td>115.89</td>\n",
       "      <td>...</td>\n",
       "      <td>57.59</td>\n",
       "      <td>91.86</td>\n",
       "      <td>69.51</td>\n",
       "      <td>58.05</td>\n",
       "      <td>37.77</td>\n",
       "      <td>75.32</td>\n",
       "      <td>98.77</td>\n",
       "      <td>148.53</td>\n",
       "      <td>49.71</td>\n",
       "      <td>121.72</td>\n",
       "    </tr>\n",
       "    <tr>\n",
       "      <th>2019-12-09 05:00:00+00:00</th>\n",
       "      <td>83.71</td>\n",
       "      <td>27.480</td>\n",
       "      <td>155.21</td>\n",
       "      <td>275.15</td>\n",
       "      <td>87.84</td>\n",
       "      <td>84.85</td>\n",
       "      <td>86.35</td>\n",
       "      <td>206.66</td>\n",
       "      <td>317.94</td>\n",
       "      <td>118.77</td>\n",
       "      <td>...</td>\n",
       "      <td>57.59</td>\n",
       "      <td>96.23</td>\n",
       "      <td>69.23</td>\n",
       "      <td>56.38</td>\n",
       "      <td>36.84</td>\n",
       "      <td>77.72</td>\n",
       "      <td>100.11</td>\n",
       "      <td>148.07</td>\n",
       "      <td>51.15</td>\n",
       "      <td>124.45</td>\n",
       "    </tr>\n",
       "    <tr>\n",
       "      <th>2019-12-16 05:00:00+00:00</th>\n",
       "      <td>85.19</td>\n",
       "      <td>29.040</td>\n",
       "      <td>158.12</td>\n",
       "      <td>279.44</td>\n",
       "      <td>89.29</td>\n",
       "      <td>85.67</td>\n",
       "      <td>86.66</td>\n",
       "      <td>211.10</td>\n",
       "      <td>327.61</td>\n",
       "      <td>119.82</td>\n",
       "      <td>...</td>\n",
       "      <td>57.59</td>\n",
       "      <td>97.74</td>\n",
       "      <td>69.94</td>\n",
       "      <td>56.85</td>\n",
       "      <td>37.35</td>\n",
       "      <td>78.61</td>\n",
       "      <td>100.59</td>\n",
       "      <td>150.32</td>\n",
       "      <td>51.63</td>\n",
       "      <td>132.68</td>\n",
       "    </tr>\n",
       "    <tr>\n",
       "      <th>2019-12-23 05:00:00+00:00</th>\n",
       "      <td>85.42</td>\n",
       "      <td>28.440</td>\n",
       "      <td>158.35</td>\n",
       "      <td>289.80</td>\n",
       "      <td>89.20</td>\n",
       "      <td>84.91</td>\n",
       "      <td>87.40</td>\n",
       "      <td>212.22</td>\n",
       "      <td>330.79</td>\n",
       "      <td>119.45</td>\n",
       "      <td>...</td>\n",
       "      <td>57.59</td>\n",
       "      <td>98.42</td>\n",
       "      <td>69.89</td>\n",
       "      <td>56.84</td>\n",
       "      <td>37.31</td>\n",
       "      <td>78.84</td>\n",
       "      <td>101.90</td>\n",
       "      <td>150.01</td>\n",
       "      <td>51.50</td>\n",
       "      <td>133.25</td>\n",
       "    </tr>\n",
       "    <tr>\n",
       "      <th>2019-12-30 05:00:00+00:00</th>\n",
       "      <td>84.57</td>\n",
       "      <td>27.645</td>\n",
       "      <td>159.42</td>\n",
       "      <td>297.43</td>\n",
       "      <td>88.70</td>\n",
       "      <td>84.01</td>\n",
       "      <td>85.89</td>\n",
       "      <td>209.80</td>\n",
       "      <td>331.81</td>\n",
       "      <td>118.31</td>\n",
       "      <td>...</td>\n",
       "      <td>57.59</td>\n",
       "      <td>99.31</td>\n",
       "      <td>70.33</td>\n",
       "      <td>56.30</td>\n",
       "      <td>36.45</td>\n",
       "      <td>80.32</td>\n",
       "      <td>101.85</td>\n",
       "      <td>148.81</td>\n",
       "      <td>51.70</td>\n",
       "      <td>134.16</td>\n",
       "    </tr>\n",
       "  </tbody>\n",
       "</table>\n",
       "<p>104 rows × 469 columns</p>\n",
       "</div>"
      ],
      "text/plain": [
       "symbol                         A     AAL     AAP    AAPL    ABBV     ABC  \\\n",
       "timestamp                                                                  \n",
       "2018-01-08 05:00:00+00:00  71.73  58.470  115.94  177.09  100.34   99.00   \n",
       "2018-01-15 05:00:00+00:00  73.07  58.060  117.02  178.46  104.64  100.06   \n",
       "2018-01-22 05:00:00+00:00  74.82  53.070  123.64  171.51  123.21  105.48   \n",
       "2018-01-29 05:00:00+00:00  71.25  52.100  113.93  160.37  115.17   96.02   \n",
       "2018-02-05 05:00:00+00:00  66.98  48.360  109.14  156.41  111.30   89.19   \n",
       "...                          ...     ...     ...     ...     ...     ...   \n",
       "2019-12-02 05:00:00+00:00  82.21  27.725  154.62  270.71   86.98   88.24   \n",
       "2019-12-09 05:00:00+00:00  83.71  27.480  155.21  275.15   87.84   84.85   \n",
       "2019-12-16 05:00:00+00:00  85.19  29.040  158.12  279.44   89.29   85.67   \n",
       "2019-12-23 05:00:00+00:00  85.42  28.440  158.35  289.80   89.20   84.91   \n",
       "2019-12-30 05:00:00+00:00  84.57  27.645  159.42  297.43   88.70   84.01   \n",
       "\n",
       "symbol                       ABT     ACN    ADBE     ADI  ...     XL   XLNX  \\\n",
       "timestamp                                                 ...                 \n",
       "2018-01-08 05:00:00+00:00  58.84  160.11  195.05   92.02  ...  35.49  74.66   \n",
       "2018-01-15 05:00:00+00:00  59.31  161.75  195.73   96.14  ...  35.45  75.71   \n",
       "2018-01-22 05:00:00+00:00  63.42  162.55  201.30   93.84  ...  36.67  71.94   \n",
       "2018-01-29 05:00:00+00:00  61.69  156.90  195.64   89.11  ...  38.25  70.64   \n",
       "2018-02-05 05:00:00+00:00  57.17  153.84  187.99   83.93  ...  41.86  65.38   \n",
       "...                          ...     ...     ...     ...  ...    ...    ...   \n",
       "2019-12-02 05:00:00+00:00  85.48  202.55  306.23  115.89  ...  57.59  91.86   \n",
       "2019-12-09 05:00:00+00:00  86.35  206.66  317.94  118.77  ...  57.59  96.23   \n",
       "2019-12-16 05:00:00+00:00  86.66  211.10  327.61  119.82  ...  57.59  97.74   \n",
       "2019-12-23 05:00:00+00:00  87.40  212.22  330.79  119.45  ...  57.59  98.42   \n",
       "2019-12-30 05:00:00+00:00  85.89  209.80  331.81  118.31  ...  57.59  99.31   \n",
       "\n",
       "symbol                       XOM   XRAY    XRX    XYL     YUM     ZBH   ZION  \\\n",
       "timestamp                                                                      \n",
       "2018-01-08 05:00:00+00:00  87.52  65.79  32.77  70.46   83.62  122.10  53.28   \n",
       "2018-01-15 05:00:00+00:00  87.15  61.95  31.80  71.91   83.81  123.48  53.73   \n",
       "2018-01-22 05:00:00+00:00  89.00  62.84  32.83  74.41   86.20  126.23  54.02   \n",
       "2018-01-29 05:00:00+00:00  84.53  60.06  31.63  75.66   82.63  125.79  54.16   \n",
       "2018-02-05 05:00:00+00:00  75.78  57.18  29.61  70.82   79.31  116.39  51.64   \n",
       "...                          ...    ...    ...    ...     ...     ...    ...   \n",
       "2019-12-02 05:00:00+00:00  69.51  58.05  37.77  75.32   98.77  148.53  49.71   \n",
       "2019-12-09 05:00:00+00:00  69.23  56.38  36.84  77.72  100.11  148.07  51.15   \n",
       "2019-12-16 05:00:00+00:00  69.94  56.85  37.35  78.61  100.59  150.32  51.63   \n",
       "2019-12-23 05:00:00+00:00  69.89  56.84  37.31  78.84  101.90  150.01  51.50   \n",
       "2019-12-30 05:00:00+00:00  70.33  56.30  36.45  80.32  101.85  148.81  51.70   \n",
       "\n",
       "symbol                        ZTS  \n",
       "timestamp                          \n",
       "2018-01-08 05:00:00+00:00   75.39  \n",
       "2018-01-15 05:00:00+00:00   76.62  \n",
       "2018-01-22 05:00:00+00:00   80.09  \n",
       "2018-01-29 05:00:00+00:00   76.78  \n",
       "2018-02-05 05:00:00+00:00   72.35  \n",
       "...                           ...  \n",
       "2019-12-02 05:00:00+00:00  121.72  \n",
       "2019-12-09 05:00:00+00:00  124.45  \n",
       "2019-12-16 05:00:00+00:00  132.68  \n",
       "2019-12-23 05:00:00+00:00  133.25  \n",
       "2019-12-30 05:00:00+00:00  134.16  \n",
       "\n",
       "[104 rows x 469 columns]"
      ]
     },
     "execution_count": 8,
     "metadata": {},
     "output_type": "execute_result"
    }
   ],
   "source": [
    "data.get_prices()"
   ]
  },
  {
   "cell_type": "code",
   "execution_count": null,
   "metadata": {},
   "outputs": [
    {
     "data": {
      "text/html": [
       "<div>\n",
       "<style scoped>\n",
       "    .dataframe tbody tr th:only-of-type {\n",
       "        vertical-align: middle;\n",
       "    }\n",
       "\n",
       "    .dataframe tbody tr th {\n",
       "        vertical-align: top;\n",
       "    }\n",
       "\n",
       "    .dataframe thead th {\n",
       "        text-align: right;\n",
       "    }\n",
       "</style>\n",
       "<table border=\"1\" class=\"dataframe\">\n",
       "  <thead>\n",
       "    <tr style=\"text-align: right;\">\n",
       "      <th>symbol</th>\n",
       "      <th>A</th>\n",
       "      <th>AAL</th>\n",
       "      <th>AAP</th>\n",
       "      <th>AAPL</th>\n",
       "      <th>ABBV</th>\n",
       "      <th>ABC</th>\n",
       "      <th>ABT</th>\n",
       "      <th>ACN</th>\n",
       "      <th>ADBE</th>\n",
       "      <th>ADI</th>\n",
       "      <th>...</th>\n",
       "      <th>XL</th>\n",
       "      <th>XLNX</th>\n",
       "      <th>XOM</th>\n",
       "      <th>XRAY</th>\n",
       "      <th>XRX</th>\n",
       "      <th>XYL</th>\n",
       "      <th>YUM</th>\n",
       "      <th>ZBH</th>\n",
       "      <th>ZION</th>\n",
       "      <th>ZTS</th>\n",
       "    </tr>\n",
       "    <tr>\n",
       "      <th>timestamp</th>\n",
       "      <th></th>\n",
       "      <th></th>\n",
       "      <th></th>\n",
       "      <th></th>\n",
       "      <th></th>\n",
       "      <th></th>\n",
       "      <th></th>\n",
       "      <th></th>\n",
       "      <th></th>\n",
       "      <th></th>\n",
       "      <th></th>\n",
       "      <th></th>\n",
       "      <th></th>\n",
       "      <th></th>\n",
       "      <th></th>\n",
       "      <th></th>\n",
       "      <th></th>\n",
       "      <th></th>\n",
       "      <th></th>\n",
       "      <th></th>\n",
       "      <th></th>\n",
       "    </tr>\n",
       "  </thead>\n",
       "  <tbody>\n",
       "    <tr>\n",
       "      <th>2018-01-15 05:00:00+00:00</th>\n",
       "      <td>0.018681</td>\n",
       "      <td>-0.007012</td>\n",
       "      <td>0.009315</td>\n",
       "      <td>0.007736</td>\n",
       "      <td>0.042854</td>\n",
       "      <td>0.010707</td>\n",
       "      <td>0.007988</td>\n",
       "      <td>0.010243</td>\n",
       "      <td>0.003486</td>\n",
       "      <td>0.044773</td>\n",
       "      <td>...</td>\n",
       "      <td>-0.001127</td>\n",
       "      <td>0.014064</td>\n",
       "      <td>-0.004228</td>\n",
       "      <td>-0.058368</td>\n",
       "      <td>-0.029600</td>\n",
       "      <td>0.020579</td>\n",
       "      <td>0.002272</td>\n",
       "      <td>0.011302</td>\n",
       "      <td>0.008446</td>\n",
       "      <td>0.016315</td>\n",
       "    </tr>\n",
       "    <tr>\n",
       "      <th>2018-01-22 05:00:00+00:00</th>\n",
       "      <td>0.023950</td>\n",
       "      <td>-0.085946</td>\n",
       "      <td>0.056572</td>\n",
       "      <td>-0.038944</td>\n",
       "      <td>0.177466</td>\n",
       "      <td>0.054167</td>\n",
       "      <td>0.069297</td>\n",
       "      <td>0.004946</td>\n",
       "      <td>0.028458</td>\n",
       "      <td>-0.023923</td>\n",
       "      <td>...</td>\n",
       "      <td>0.034415</td>\n",
       "      <td>-0.049795</td>\n",
       "      <td>0.021228</td>\n",
       "      <td>0.014366</td>\n",
       "      <td>0.032390</td>\n",
       "      <td>0.034766</td>\n",
       "      <td>0.028517</td>\n",
       "      <td>0.022271</td>\n",
       "      <td>0.005397</td>\n",
       "      <td>0.045288</td>\n",
       "    </tr>\n",
       "    <tr>\n",
       "      <th>2018-01-29 05:00:00+00:00</th>\n",
       "      <td>-0.047715</td>\n",
       "      <td>-0.018278</td>\n",
       "      <td>-0.078534</td>\n",
       "      <td>-0.064952</td>\n",
       "      <td>-0.065254</td>\n",
       "      <td>-0.089685</td>\n",
       "      <td>-0.027278</td>\n",
       "      <td>-0.034759</td>\n",
       "      <td>-0.028117</td>\n",
       "      <td>-0.050405</td>\n",
       "      <td>...</td>\n",
       "      <td>0.043087</td>\n",
       "      <td>-0.018071</td>\n",
       "      <td>-0.050225</td>\n",
       "      <td>-0.044239</td>\n",
       "      <td>-0.036552</td>\n",
       "      <td>0.016799</td>\n",
       "      <td>-0.041415</td>\n",
       "      <td>-0.003486</td>\n",
       "      <td>0.002592</td>\n",
       "      <td>-0.041329</td>\n",
       "    </tr>\n",
       "    <tr>\n",
       "      <th>2018-02-05 05:00:00+00:00</th>\n",
       "      <td>-0.059930</td>\n",
       "      <td>-0.071785</td>\n",
       "      <td>-0.042043</td>\n",
       "      <td>-0.024693</td>\n",
       "      <td>-0.033603</td>\n",
       "      <td>-0.071131</td>\n",
       "      <td>-0.073270</td>\n",
       "      <td>-0.019503</td>\n",
       "      <td>-0.039102</td>\n",
       "      <td>-0.058130</td>\n",
       "      <td>...</td>\n",
       "      <td>0.094379</td>\n",
       "      <td>-0.074462</td>\n",
       "      <td>-0.103514</td>\n",
       "      <td>-0.047952</td>\n",
       "      <td>-0.063863</td>\n",
       "      <td>-0.063970</td>\n",
       "      <td>-0.040179</td>\n",
       "      <td>-0.074728</td>\n",
       "      <td>-0.046529</td>\n",
       "      <td>-0.057697</td>\n",
       "    </tr>\n",
       "    <tr>\n",
       "      <th>2018-02-12 05:00:00+00:00</th>\n",
       "      <td>0.074500</td>\n",
       "      <td>0.066584</td>\n",
       "      <td>-0.014385</td>\n",
       "      <td>0.102423</td>\n",
       "      <td>0.065588</td>\n",
       "      <td>0.114475</td>\n",
       "      <td>0.052475</td>\n",
       "      <td>0.057332</td>\n",
       "      <td>0.072185</td>\n",
       "      <td>0.025736</td>\n",
       "      <td>...</td>\n",
       "      <td>0.046345</td>\n",
       "      <td>0.026155</td>\n",
       "      <td>0.010029</td>\n",
       "      <td>0.021861</td>\n",
       "      <td>0.031746</td>\n",
       "      <td>0.062271</td>\n",
       "      <td>-0.013365</td>\n",
       "      <td>0.035140</td>\n",
       "      <td>0.066421</td>\n",
       "      <td>0.102004</td>\n",
       "    </tr>\n",
       "    <tr>\n",
       "      <th>...</th>\n",
       "      <td>...</td>\n",
       "      <td>...</td>\n",
       "      <td>...</td>\n",
       "      <td>...</td>\n",
       "      <td>...</td>\n",
       "      <td>...</td>\n",
       "      <td>...</td>\n",
       "      <td>...</td>\n",
       "      <td>...</td>\n",
       "      <td>...</td>\n",
       "      <td>...</td>\n",
       "      <td>...</td>\n",
       "      <td>...</td>\n",
       "      <td>...</td>\n",
       "      <td>...</td>\n",
       "      <td>...</td>\n",
       "      <td>...</td>\n",
       "      <td>...</td>\n",
       "      <td>...</td>\n",
       "      <td>...</td>\n",
       "      <td>...</td>\n",
       "    </tr>\n",
       "    <tr>\n",
       "      <th>2019-12-02 05:00:00+00:00</th>\n",
       "      <td>0.017828</td>\n",
       "      <td>-0.035317</td>\n",
       "      <td>-0.015661</td>\n",
       "      <td>0.012947</td>\n",
       "      <td>-0.008549</td>\n",
       "      <td>0.003754</td>\n",
       "      <td>0.000351</td>\n",
       "      <td>0.006910</td>\n",
       "      <td>-0.010661</td>\n",
       "      <td>0.026029</td>\n",
       "      <td>...</td>\n",
       "      <td>0.000000</td>\n",
       "      <td>-0.009916</td>\n",
       "      <td>0.020255</td>\n",
       "      <td>0.026707</td>\n",
       "      <td>-0.029797</td>\n",
       "      <td>-0.028254</td>\n",
       "      <td>-0.018874</td>\n",
       "      <td>0.022371</td>\n",
       "      <td>-0.001406</td>\n",
       "      <td>0.009957</td>\n",
       "    </tr>\n",
       "    <tr>\n",
       "      <th>2019-12-09 05:00:00+00:00</th>\n",
       "      <td>0.018246</td>\n",
       "      <td>-0.008837</td>\n",
       "      <td>0.003816</td>\n",
       "      <td>0.016401</td>\n",
       "      <td>0.009887</td>\n",
       "      <td>-0.038418</td>\n",
       "      <td>0.010178</td>\n",
       "      <td>0.020291</td>\n",
       "      <td>0.038239</td>\n",
       "      <td>0.024851</td>\n",
       "      <td>...</td>\n",
       "      <td>0.000000</td>\n",
       "      <td>0.047572</td>\n",
       "      <td>-0.004028</td>\n",
       "      <td>-0.028768</td>\n",
       "      <td>-0.024623</td>\n",
       "      <td>0.031864</td>\n",
       "      <td>0.013567</td>\n",
       "      <td>-0.003097</td>\n",
       "      <td>0.028968</td>\n",
       "      <td>0.022429</td>\n",
       "    </tr>\n",
       "    <tr>\n",
       "      <th>2019-12-16 05:00:00+00:00</th>\n",
       "      <td>0.017680</td>\n",
       "      <td>0.056769</td>\n",
       "      <td>0.018749</td>\n",
       "      <td>0.015591</td>\n",
       "      <td>0.016507</td>\n",
       "      <td>0.009664</td>\n",
       "      <td>0.003590</td>\n",
       "      <td>0.021485</td>\n",
       "      <td>0.030415</td>\n",
       "      <td>0.008841</td>\n",
       "      <td>...</td>\n",
       "      <td>0.000000</td>\n",
       "      <td>0.015692</td>\n",
       "      <td>0.010256</td>\n",
       "      <td>0.008336</td>\n",
       "      <td>0.013844</td>\n",
       "      <td>0.011451</td>\n",
       "      <td>0.004795</td>\n",
       "      <td>0.015196</td>\n",
       "      <td>0.009384</td>\n",
       "      <td>0.066131</td>\n",
       "    </tr>\n",
       "    <tr>\n",
       "      <th>2019-12-23 05:00:00+00:00</th>\n",
       "      <td>0.002700</td>\n",
       "      <td>-0.020661</td>\n",
       "      <td>0.001455</td>\n",
       "      <td>0.037074</td>\n",
       "      <td>-0.001008</td>\n",
       "      <td>-0.008871</td>\n",
       "      <td>0.008539</td>\n",
       "      <td>0.005306</td>\n",
       "      <td>0.009707</td>\n",
       "      <td>-0.003088</td>\n",
       "      <td>...</td>\n",
       "      <td>0.000000</td>\n",
       "      <td>0.006957</td>\n",
       "      <td>-0.000715</td>\n",
       "      <td>-0.000176</td>\n",
       "      <td>-0.001071</td>\n",
       "      <td>0.002926</td>\n",
       "      <td>0.013023</td>\n",
       "      <td>-0.002062</td>\n",
       "      <td>-0.002518</td>\n",
       "      <td>0.004296</td>\n",
       "    </tr>\n",
       "    <tr>\n",
       "      <th>2019-12-30 05:00:00+00:00</th>\n",
       "      <td>-0.009951</td>\n",
       "      <td>-0.027954</td>\n",
       "      <td>0.006757</td>\n",
       "      <td>0.026329</td>\n",
       "      <td>-0.005605</td>\n",
       "      <td>-0.010599</td>\n",
       "      <td>-0.017277</td>\n",
       "      <td>-0.011403</td>\n",
       "      <td>0.003084</td>\n",
       "      <td>-0.009544</td>\n",
       "      <td>...</td>\n",
       "      <td>0.000000</td>\n",
       "      <td>0.009043</td>\n",
       "      <td>0.006296</td>\n",
       "      <td>-0.009500</td>\n",
       "      <td>-0.023050</td>\n",
       "      <td>0.018772</td>\n",
       "      <td>-0.000491</td>\n",
       "      <td>-0.007999</td>\n",
       "      <td>0.003883</td>\n",
       "      <td>0.006829</td>\n",
       "    </tr>\n",
       "  </tbody>\n",
       "</table>\n",
       "<p>103 rows × 469 columns</p>\n",
       "</div>"
      ],
      "text/plain": [
       "symbol                            A       AAL       AAP      AAPL      ABBV  \\\n",
       "timestamp                                                                     \n",
       "2018-01-15 05:00:00+00:00  0.018681 -0.007012  0.009315  0.007736  0.042854   \n",
       "2018-01-22 05:00:00+00:00  0.023950 -0.085946  0.056572 -0.038944  0.177466   \n",
       "2018-01-29 05:00:00+00:00 -0.047715 -0.018278 -0.078534 -0.064952 -0.065254   \n",
       "2018-02-05 05:00:00+00:00 -0.059930 -0.071785 -0.042043 -0.024693 -0.033603   \n",
       "2018-02-12 05:00:00+00:00  0.074500  0.066584 -0.014385  0.102423  0.065588   \n",
       "...                             ...       ...       ...       ...       ...   \n",
       "2019-12-02 05:00:00+00:00  0.017828 -0.035317 -0.015661  0.012947 -0.008549   \n",
       "2019-12-09 05:00:00+00:00  0.018246 -0.008837  0.003816  0.016401  0.009887   \n",
       "2019-12-16 05:00:00+00:00  0.017680  0.056769  0.018749  0.015591  0.016507   \n",
       "2019-12-23 05:00:00+00:00  0.002700 -0.020661  0.001455  0.037074 -0.001008   \n",
       "2019-12-30 05:00:00+00:00 -0.009951 -0.027954  0.006757  0.026329 -0.005605   \n",
       "\n",
       "symbol                          ABC       ABT       ACN      ADBE       ADI  \\\n",
       "timestamp                                                                     \n",
       "2018-01-15 05:00:00+00:00  0.010707  0.007988  0.010243  0.003486  0.044773   \n",
       "2018-01-22 05:00:00+00:00  0.054167  0.069297  0.004946  0.028458 -0.023923   \n",
       "2018-01-29 05:00:00+00:00 -0.089685 -0.027278 -0.034759 -0.028117 -0.050405   \n",
       "2018-02-05 05:00:00+00:00 -0.071131 -0.073270 -0.019503 -0.039102 -0.058130   \n",
       "2018-02-12 05:00:00+00:00  0.114475  0.052475  0.057332  0.072185  0.025736   \n",
       "...                             ...       ...       ...       ...       ...   \n",
       "2019-12-02 05:00:00+00:00  0.003754  0.000351  0.006910 -0.010661  0.026029   \n",
       "2019-12-09 05:00:00+00:00 -0.038418  0.010178  0.020291  0.038239  0.024851   \n",
       "2019-12-16 05:00:00+00:00  0.009664  0.003590  0.021485  0.030415  0.008841   \n",
       "2019-12-23 05:00:00+00:00 -0.008871  0.008539  0.005306  0.009707 -0.003088   \n",
       "2019-12-30 05:00:00+00:00 -0.010599 -0.017277 -0.011403  0.003084 -0.009544   \n",
       "\n",
       "symbol                     ...        XL      XLNX       XOM      XRAY  \\\n",
       "timestamp                  ...                                           \n",
       "2018-01-15 05:00:00+00:00  ... -0.001127  0.014064 -0.004228 -0.058368   \n",
       "2018-01-22 05:00:00+00:00  ...  0.034415 -0.049795  0.021228  0.014366   \n",
       "2018-01-29 05:00:00+00:00  ...  0.043087 -0.018071 -0.050225 -0.044239   \n",
       "2018-02-05 05:00:00+00:00  ...  0.094379 -0.074462 -0.103514 -0.047952   \n",
       "2018-02-12 05:00:00+00:00  ...  0.046345  0.026155  0.010029  0.021861   \n",
       "...                        ...       ...       ...       ...       ...   \n",
       "2019-12-02 05:00:00+00:00  ...  0.000000 -0.009916  0.020255  0.026707   \n",
       "2019-12-09 05:00:00+00:00  ...  0.000000  0.047572 -0.004028 -0.028768   \n",
       "2019-12-16 05:00:00+00:00  ...  0.000000  0.015692  0.010256  0.008336   \n",
       "2019-12-23 05:00:00+00:00  ...  0.000000  0.006957 -0.000715 -0.000176   \n",
       "2019-12-30 05:00:00+00:00  ...  0.000000  0.009043  0.006296 -0.009500   \n",
       "\n",
       "symbol                          XRX       XYL       YUM       ZBH      ZION  \\\n",
       "timestamp                                                                     \n",
       "2018-01-15 05:00:00+00:00 -0.029600  0.020579  0.002272  0.011302  0.008446   \n",
       "2018-01-22 05:00:00+00:00  0.032390  0.034766  0.028517  0.022271  0.005397   \n",
       "2018-01-29 05:00:00+00:00 -0.036552  0.016799 -0.041415 -0.003486  0.002592   \n",
       "2018-02-05 05:00:00+00:00 -0.063863 -0.063970 -0.040179 -0.074728 -0.046529   \n",
       "2018-02-12 05:00:00+00:00  0.031746  0.062271 -0.013365  0.035140  0.066421   \n",
       "...                             ...       ...       ...       ...       ...   \n",
       "2019-12-02 05:00:00+00:00 -0.029797 -0.028254 -0.018874  0.022371 -0.001406   \n",
       "2019-12-09 05:00:00+00:00 -0.024623  0.031864  0.013567 -0.003097  0.028968   \n",
       "2019-12-16 05:00:00+00:00  0.013844  0.011451  0.004795  0.015196  0.009384   \n",
       "2019-12-23 05:00:00+00:00 -0.001071  0.002926  0.013023 -0.002062 -0.002518   \n",
       "2019-12-30 05:00:00+00:00 -0.023050  0.018772 -0.000491 -0.007999  0.003883   \n",
       "\n",
       "symbol                          ZTS  \n",
       "timestamp                            \n",
       "2018-01-15 05:00:00+00:00  0.016315  \n",
       "2018-01-22 05:00:00+00:00  0.045288  \n",
       "2018-01-29 05:00:00+00:00 -0.041329  \n",
       "2018-02-05 05:00:00+00:00 -0.057697  \n",
       "2018-02-12 05:00:00+00:00  0.102004  \n",
       "...                             ...  \n",
       "2019-12-02 05:00:00+00:00  0.009957  \n",
       "2019-12-09 05:00:00+00:00  0.022429  \n",
       "2019-12-16 05:00:00+00:00  0.066131  \n",
       "2019-12-23 05:00:00+00:00  0.004296  \n",
       "2019-12-30 05:00:00+00:00  0.006829  \n",
       "\n",
       "[103 rows x 469 columns]"
      ]
     },
     "execution_count": 9,
     "metadata": {},
     "output_type": "execute_result"
    }
   ],
   "source": [
    "data.get_returns()"
   ]
  },
  {
   "cell_type": "code",
   "execution_count": null,
   "metadata": {},
   "outputs": [
    {
     "data": {
      "text/plain": [
       "DatetimeIndex(['2018-01-15 05:00:00+00:00', '2018-01-22 05:00:00+00:00',\n",
       "               '2018-01-29 05:00:00+00:00', '2018-02-05 05:00:00+00:00',\n",
       "               '2018-02-12 05:00:00+00:00', '2018-02-19 05:00:00+00:00',\n",
       "               '2018-02-26 05:00:00+00:00', '2018-03-05 05:00:00+00:00',\n",
       "               '2018-03-12 04:00:00+00:00', '2018-03-19 04:00:00+00:00',\n",
       "               ...\n",
       "               '2019-10-28 04:00:00+00:00', '2019-11-04 05:00:00+00:00',\n",
       "               '2019-11-11 05:00:00+00:00', '2019-11-18 05:00:00+00:00',\n",
       "               '2019-11-25 05:00:00+00:00', '2019-12-02 05:00:00+00:00',\n",
       "               '2019-12-09 05:00:00+00:00', '2019-12-16 05:00:00+00:00',\n",
       "               '2019-12-23 05:00:00+00:00', '2019-12-30 05:00:00+00:00'],\n",
       "              dtype='datetime64[ns, UTC]', name='timestamp', length=103, freq=None)"
      ]
     },
     "execution_count": 12,
     "metadata": {},
     "output_type": "execute_result"
    }
   ],
   "source": [
    "returns = data.get_returns()\n",
    "returns.index"
   ]
  },
  {
   "cell_type": "code",
   "execution_count": null,
   "metadata": {},
   "outputs": [
    {
     "name": "stdout",
     "output_type": "stream",
     "text": [
      "Created X and y with shapes (469, 102, 1) and (469,)\n"
     ]
    }
   ],
   "source": [
    "X, y = data.get_Xy(based_on='returns')"
   ]
  },
  {
   "cell_type": "code",
   "execution_count": 1,
   "metadata": {},
   "outputs": [],
   "source": [
    "as_of_date = '2020-01-01'"
   ]
  },
  {
   "cell_type": "code",
   "execution_count": 4,
   "metadata": {},
   "outputs": [
    {
     "ename": "NameError",
     "evalue": "name 'data' is not defined",
     "output_type": "error",
     "traceback": [
      "\u001b[0;31m---------------------------------------------------------------------------\u001b[0m",
      "\u001b[0;31mNameError\u001b[0m                                 Traceback (most recent call last)",
      "Cell \u001b[0;32mIn[4], line 1\u001b[0m\n\u001b[0;32m----> 1\u001b[0m df \u001b[38;5;241m=\u001b[39m \u001b[43mdata\u001b[49m\u001b[38;5;241m.\u001b[39mget_data(\u001b[38;5;124m'\u001b[39m\u001b[38;5;124m2016-01-04\u001b[39m\u001b[38;5;124m'\u001b[39m, as_of_date)\n",
      "\u001b[0;31mNameError\u001b[0m: name 'data' is not defined"
     ]
    }
   ],
   "source": [
    "df = data.get_data('2016-01-04', as_of_date)"
   ]
  },
  {
   "cell_type": "code",
   "execution_count": 2,
   "metadata": {},
   "outputs": [],
   "source": [
    "import datetime\n",
    "\n",
    "n_periods = 3\n",
    "\n",
    "as_of = datetime.datetime.strptime(as_of_date, '%Y-%m-%d').date()\n",
    "starting_point = as_of - datetime.timedelta(days=7 * n_periods)"
   ]
  },
  {
   "cell_type": "code",
   "execution_count": 6,
   "metadata": {},
   "outputs": [
    {
     "ename": "NameError",
     "evalue": "name 'df' is not defined",
     "output_type": "error",
     "traceback": [
      "\u001b[0;31m---------------------------------------------------------------------------\u001b[0m",
      "\u001b[0;31mNameError\u001b[0m                                 Traceback (most recent call last)",
      "Cell \u001b[0;32mIn[6], line 1\u001b[0m\n\u001b[0;32m----> 1\u001b[0m \u001b[43mdf\u001b[49m[\u001b[38;5;124m'\u001b[39m\u001b[38;5;124mtimestamp\u001b[39m\u001b[38;5;124m'\u001b[39m]\u001b[38;5;241m.\u001b[39mdt\u001b[38;5;241m.\u001b[39mdate \u001b[38;5;241m<\u001b[39m starting_point\n",
      "\u001b[0;31mNameError\u001b[0m: name 'df' is not defined"
     ]
    }
   ],
   "source": [
    "df['timestamp'].dt.date < starting_point"
   ]
  },
  {
   "cell_type": "code",
   "execution_count": 8,
   "metadata": {},
   "outputs": [
    {
     "ename": "NameError",
     "evalue": "name 'df' is not defined",
     "output_type": "error",
     "traceback": [
      "\u001b[0;31m---------------------------------------------------------------------------\u001b[0m",
      "\u001b[0;31mNameError\u001b[0m                                 Traceback (most recent call last)",
      "Cell \u001b[0;32mIn[8], line 1\u001b[0m\n\u001b[0;32m----> 1\u001b[0m \u001b[43mdf\u001b[49m[\u001b[38;5;124m'\u001b[39m\u001b[38;5;124mtimestamp\u001b[39m\u001b[38;5;124m'\u001b[39m]\u001b[38;5;241m.\u001b[39mdt\u001b[38;5;241m.\u001b[39mdate\n",
      "\u001b[0;31mNameError\u001b[0m: name 'df' is not defined"
     ]
    }
   ],
   "source": [
    "df['timestamp'].dt.date"
   ]
  },
  {
   "cell_type": "code",
   "execution_count": null,
   "metadata": {},
   "outputs": [
    {
     "data": {
      "text/plain": [
       "0         2016-01-04\n",
       "1         2016-01-11\n",
       "2         2016-01-18\n",
       "3         2016-01-25\n",
       "4         2016-02-01\n",
       "             ...    \n",
       "102498    2019-12-02\n",
       "102499    2019-12-09\n",
       "102500    2019-12-16\n",
       "102501    2019-12-23\n",
       "102502    2019-12-30\n",
       "Name: clean_date, Length: 102503, dtype: object"
      ]
     },
     "execution_count": 35,
     "metadata": {},
     "output_type": "execute_result"
    }
   ],
   "source": [
    "df['clean_date'] = df['timestamp']\n",
    "df['clean_date'] = df['clean_date'].apply(lambda x: f'{x.year}-{x.month:02d}-{x.day:02d}')\n",
    "df['clean_date']"
   ]
  },
  {
   "cell_type": "code",
   "execution_count": 2,
   "metadata": {},
   "outputs": [],
   "source": [
    "from lwhf.data.biqquery import BigQueryData\n",
    "\n",
    "PROJECT = \"le-wagon-hedge-fund\"\n",
    "DATASET = \"data_alpaca_20240604\"\n",
    "TABLE = \"SP500_Historical_Weekly\"\n",
    "\n",
    "data = BigQueryData(PROJECT, DATASET, TABLE)"
   ]
  },
  {
   "cell_type": "code",
   "execution_count": 3,
   "metadata": {},
   "outputs": [],
   "source": [
    "import datetime\n",
    "\n",
    "as_of_date = '2024-05-27'\n",
    "n_periods = 3"
   ]
  },
  {
   "cell_type": "code",
   "execution_count": 4,
   "metadata": {},
   "outputs": [],
   "source": [
    "from lwhf.portfolio.backtest import BackTester\n",
    "\n",
    "backtester = BackTester(as_of_date, 3)"
   ]
  },
  {
   "cell_type": "code",
   "execution_count": 5,
   "metadata": {},
   "outputs": [
    {
     "name": "stdout",
     "output_type": "stream",
     "text": [
      "le-wagon-hedge-fund-data_alpaca_20240604-SP500_Historical_Weekly-2016-01-04-2024-05-27.csv\n",
      "✅ Found le-wagon-hedge-fund-data_alpaca_20240604-SP500_Historical_Weekly-2016-01-04-2024-05-27.csv in the local cache.\n"
     ]
    },
    {
     "data": {
      "text/plain": [
       "<lwhf.data.biqquery.BigQueryData at 0x10639b2e0>"
      ]
     },
     "execution_count": 5,
     "metadata": {},
     "output_type": "execute_result"
    }
   ],
   "source": [
    "backtester.get_all_data()"
   ]
  },
  {
   "cell_type": "code",
   "execution_count": 6,
   "metadata": {},
   "outputs": [
    {
     "name": "stdout",
     "output_type": "stream",
     "text": [
      "Epoch 1/10\n"
     ]
    },
    {
     "name": "stderr",
     "output_type": "stream",
     "text": [
      "2024-06-12 14:28:03.506373: W tensorflow/core/platform/profile_utils/cpu_utils.cc:128] Failed to get CPU frequency: 0 Hz\n"
     ]
    },
    {
     "name": "stdout",
     "output_type": "stream",
     "text": [
      "Epoch 2/10\n",
      "Epoch 3/10\n",
      "Epoch 4/10\n",
      "Epoch 5/10\n",
      "Epoch 6/10\n",
      "Epoch 7/10\n",
      "Epoch 8/10\n",
      "Epoch 9/10\n"
     ]
    }
   ],
   "source": [
    "backtester.train_model()"
   ]
  },
  {
   "cell_type": "code",
   "execution_count": 7,
   "metadata": {},
   "outputs": [
    {
     "name": "stdout",
     "output_type": "stream",
     "text": [
      "14/14 [==============================] - 0s 9ms/step\n"
     ]
    },
    {
     "name": "stderr",
     "output_type": "stream",
     "text": [
      "/Users/behnamnajafi/.pyenv/versions/3.10.6/envs/lwhf/lib/python3.10/site-packages/cvxpy/reductions/solvers/solving_chain.py:354: FutureWarning: \n",
      "    You specified your problem should be solved by ECOS. Starting in\n",
      "    CXVPY 1.6.0, ECOS will no longer be installed by default with CVXPY.\n",
      "    Please either add an explicit dependency on ECOS or switch to our new\n",
      "    default solver, Clarabel, by either not specifying a solver argument\n",
      "    or specifying ``solver=cp.CLARABEL``.\n",
      "    \n",
      "  warnings.warn(ECOS_DEP_DEPRECATION_MSG, FutureWarning)\n"
     ]
    },
    {
     "name": "stdout",
     "output_type": "stream",
     "text": [
      "14/14 [==============================] - 0s 9ms/step\n",
      "14/14 [==============================] - 0s 9ms/step\n",
      "0.036805265546873356 [0.05549581807630529, -0.091220578472161, 0.0808917272391434]            weights\n",
      "A     2.350672e-13\n",
      "AAL   2.016262e-13\n",
      "AAP   2.485578e-13\n",
      "AAPL  2.539976e-13\n",
      "ABBV  3.980792e-13\n",
      "...            ...\n",
      "XYL   2.069326e-13\n",
      "YUM   2.815753e-13\n",
      "ZBH   3.084470e-13\n",
      "ZION  2.046329e-13\n",
      "ZTS   2.814538e-13\n",
      "\n",
      "[421 rows x 1 columns]\n"
     ]
    }
   ],
   "source": [
    "port_return, weekly_returns, clean_weights = backtester.backtest()\n",
    "print(port_return, weekly_returns, clean_weights)\n",
    "# do a pie chart of the clean_weights\n",
    "\n",
    "# import matplotlib.pyplot as plt\n",
    "\n",
    "# plt.pie(clean_weights, labels=weekly_returns.index, autopct='%1.1f%%')\n",
    "\n",
    "# plt.show()"
   ]
  },
  {
   "cell_type": "code",
   "execution_count": 9,
   "metadata": {},
   "outputs": [
    {
     "name": "stdout",
     "output_type": "stream",
     "text": [
      "14/14 [==============================] - 0s 8ms/step\n",
      "----- Predicting for week 2024-05-06 to 2024-05-13\n",
      " -- shape of pred_df: (434, 421)\n",
      " -- shape of pred_X: (421, 433, 1)\n",
      " -- shape of y_pred: (421, 1)\n",
      " -- shape of cov_df: (421, 421)\n",
      " -- shape of prices_df: (439, 421)\n",
      " -- shape of week_df: (2, 421)\n",
      " -- weekly return: 0.012194375349337733\n",
      "14/14 [==============================] - 0s 8ms/step\n",
      "----- Predicting for week 2024-05-13 to 2024-05-20\n",
      " -- shape of pred_df: (435, 421)\n",
      " -- shape of pred_X: (421, 434, 1)\n",
      " -- shape of y_pred: (421, 1)\n",
      " -- shape of cov_df: (421, 421)\n",
      " -- shape of prices_df: (439, 421)\n",
      " -- shape of week_df: (2, 421)\n",
      " -- weekly return: -0.05868662828786218\n",
      "14/14 [==============================] - 0s 9ms/step\n",
      "----- Predicting for week 2024-05-20 to 2024-05-27\n",
      " -- shape of pred_df: (436, 421)\n",
      " -- shape of pred_X: (421, 435, 1)\n",
      " -- shape of y_pred: (421, 1)\n",
      " -- shape of cov_df: (421, 421)\n",
      " -- shape of prices_df: (439, 421)\n",
      " -- shape of week_df: (2, 421)\n",
      " -- weekly return: 0.05849889006916434\n"
     ]
    }
   ],
   "source": [
    "from lwhf.portfolio.backtest import make_portfolio, estimate_covariance\n",
    "from lwhf.data.biqquery import get_Xy\n",
    "import numpy as np\n",
    "import pandas as pd\n",
    "import cvxpy\n",
    "import riskfolio as rp\n",
    "\n",
    "as_of = datetime.datetime.strptime(backtester.as_of_date, '%Y-%m-%d').date()\n",
    "starting_point = as_of - datetime.timedelta(days=7 * backtester.n_periods)\n",
    "returns_df = backtester.bq.returns\n",
    "\n",
    "port_return = 1\n",
    "\n",
    "while starting_point < as_of:\n",
    "    one_week_ahead = starting_point + datetime.timedelta(days=7)\n",
    "    pred_df = returns_df[returns_df.index.date < starting_point]\n",
    "    pred_X, _ = get_Xy(pred_df)\n",
    "    y_pred = backtester.model.predict(pred_X)\n",
    "    cov_df = estimate_covariance(pred_df, 'exp_cov')\n",
    "    print(f'----- Predicting for week {starting_point} to {one_week_ahead}')\n",
    "    print(f' -- shape of pred_df: {pred_df.shape}')\n",
    "    print(f' -- shape of pred_X: {pred_X.shape}')\n",
    "    print(f' -- shape of y_pred: {y_pred.shape}')\n",
    "    print(f' -- shape of cov_df: {cov_df.shape}')\n",
    "\n",
    "    #display(cov_df)\n",
    "    #display(cvxpy.psd_wrap(cov_df))\n",
    "    #print(np.all(np.linalg.eigvals(cov_df) > 0))\n",
    "    #y_pred[:,0] = 0.5\n",
    "    #display(y_pred)\n",
    "    # # try:\n",
    "    # clean_weights = make_portfolio(backtester.bq.prices.columns,\n",
    "    #                             y_pred.reshape(-1),\n",
    "    #                             cov_df)\n",
    "    port = rp.Portfolio(returns=pred_df)\n",
    "    #find estimates for returns and covariance\n",
    "    #port.assets_stats(method_mu=self.method_mu, method_cov=self.method_cov, d=0.94)\n",
    "    # Input manually the custom parameters:\n",
    "    #expected returns\n",
    "    port.mu = y_pred.reshape(-1)  # Custom mean vector.\n",
    "    port.cov = cov_df  # Custom covariance matrix.\n",
    "    #find weights that maximizes Sharpe ratio (rm = 'MV'; Mean-Variance)\n",
    "    clean_weights = port.optimization(model='Classic', rm='MV', obj='Sharpe', rf=0, l=0)\n",
    "\n",
    "    # except:\n",
    "    #     cvxpy.psd_wrap(cov_df)\n",
    "    #     clean_weights = make_portfolio(backtester.bq.prices.columns,\n",
    "    #                              y_pred.reshape(-1),\n",
    "    #                              cov_df)\n",
    "\n",
    "    prices_df = backtester.bq.prices\n",
    "    print(f' -- shape of prices_df: {prices_df.shape}')\n",
    "    week_df = prices_df[prices_df.index.date >= starting_point]\n",
    "    week_df = week_df[week_df.index.date <= one_week_ahead]\n",
    "    #display(week_df)\n",
    "    print(f' -- shape of week_df: {week_df.shape}')\n",
    "    ret = week_df.iloc[-1] / week_df.iloc[0] - 1\n",
    "    weekly_return = (clean_weights.weights * ret).sum()\n",
    "\n",
    "    print(f' -- weekly return: {weekly_return}')\n",
    "    port_return *= (1+weekly_return)\n",
    "    starting_point += datetime.timedelta(days=7)\n",
    "\n",
    "\n",
    "port_return -= 1"
   ]
  },
  {
   "cell_type": "code",
   "execution_count": 10,
   "metadata": {},
   "outputs": [
    {
     "data": {
      "image/png": "[encoded data removed]",
      "text/plain": [
       "<Figure size 1000x600 with 1 Axes>"
      ]
     },
     "metadata": {},
     "output_type": "display_data"
    }
   ],
   "source": [
    "import matplotlib.pyplot as plt\n",
    "import riskfolio as rp\n",
    "\n",
    "cmap = plt.get_cmap(\"viridis\")\n",
    "ax = rp.plot_pie( w= clean_weights, title='Sharpe Mean Variance', others=0.05, nrow=25, cmap = 'viridis',\n",
    "                        height=6, width=10, ax=None)"
   ]
  },
  {
   "cell_type": "code",
   "execution_count": null,
   "metadata": {},
   "outputs": [],
   "source": []
  }
 ],
 "metadata": {
  "kernelspec": {
   "display_name": "lwhf",
   "language": "python",
   "name": "python3"
  },
  "language_info": {
   "codemirror_mode": {
    "name": "ipython",
    "version": 3
   },
   "file_extension": ".py",
   "mimetype": "text/x-python",
   "name": "python",
   "nbconvert_exporter": "python",
   "pygments_lexer": "ipython3",
   "version": "3.10.6"
  }
 },
 "nbformat": 4,
 "nbformat_minor": 2
}
